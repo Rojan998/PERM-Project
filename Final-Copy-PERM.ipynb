{
 "cells": [
  {
   "cell_type": "markdown",
   "id": "0b7c8449-01d0-4378-81d2-cc2ec4f3b282",
   "metadata": {},
   "source": [
    "# Importing Libraries"
   ]
  },
  {
   "cell_type": "code",
   "execution_count": 63,
   "id": "7adfd68e-c16b-4932-aa03-650443828b5c",
   "metadata": {},
   "outputs": [],
   "source": [
    "# Importing Libraries\n",
    "import pandas as pd\n",
    "import numpy as np\n",
    "import seaborn as sns\n",
    "import matplotlib.pyplot as plt"
   ]
  },
  {
   "cell_type": "markdown",
   "id": "bd6c58cd-bd69-4bd3-b0c1-6a7ffbfa5fee",
   "metadata": {},
   "source": [
    "# Load the data"
   ]
  },
  {
   "cell_type": "code",
   "execution_count": 64,
   "id": "87ac5f70-f6e1-446d-b7bf-cddb9012bb5c",
   "metadata": {},
   "outputs": [
    {
     "data": {
      "text/html": [
       "<div>\n",
       "<style scoped>\n",
       "    .dataframe tbody tr th:only-of-type {\n",
       "        vertical-align: middle;\n",
       "    }\n",
       "\n",
       "    .dataframe tbody tr th {\n",
       "        vertical-align: top;\n",
       "    }\n",
       "\n",
       "    .dataframe thead th {\n",
       "        text-align: right;\n",
       "    }\n",
       "</style>\n",
       "<table border=\"1\" class=\"dataframe\">\n",
       "  <thead>\n",
       "    <tr style=\"text-align: right;\">\n",
       "      <th></th>\n",
       "      <th>CASE_NUMBER</th>\n",
       "      <th>CASE_STATUS</th>\n",
       "      <th>RECEIVED_DATE</th>\n",
       "      <th>DECISION_DATE</th>\n",
       "      <th>REFILE</th>\n",
       "      <th>ORIG_FILE_DATE</th>\n",
       "      <th>PREVIOUS_SWA_CASE_NUMBER_STATE</th>\n",
       "      <th>SCHD_A_SHEEPHERDER</th>\n",
       "      <th>EMPLOYER_NAME</th>\n",
       "      <th>EMPLOYER_ADDRESS_1</th>\n",
       "      <th>...</th>\n",
       "      <th>FOREIGN_WORKER_ALT_OCC_EXP</th>\n",
       "      <th>FOREIGN_WORKER_EXP_WITH_EMPL</th>\n",
       "      <th>FOREIGN_WORKER_EMPL_PAY_FOR_ED</th>\n",
       "      <th>FOREIGN_WORKER_CURR_EMPLOYED</th>\n",
       "      <th>EMPLOYER_COMPLETED_APPLICATION</th>\n",
       "      <th>PREPARER_NAME</th>\n",
       "      <th>PREPARER_TITLE</th>\n",
       "      <th>PREPARER_EMAIL</th>\n",
       "      <th>EMP_INFO_DECL_NAME</th>\n",
       "      <th>EMP_DECL_TITLE</th>\n",
       "    </tr>\n",
       "  </thead>\n",
       "  <tbody>\n",
       "    <tr>\n",
       "      <th>0</th>\n",
       "      <td>A-22262-24149</td>\n",
       "      <td>Withdrawn</td>\n",
       "      <td>2022-10-02</td>\n",
       "      <td>2022-10-02</td>\n",
       "      <td>N</td>\n",
       "      <td>NaN</td>\n",
       "      <td>NaN</td>\n",
       "      <td>N</td>\n",
       "      <td>Westgate Shellworld Inc</td>\n",
       "      <td>7012 Muncipal Drive</td>\n",
       "      <td>...</td>\n",
       "      <td>NaN</td>\n",
       "      <td>NaN</td>\n",
       "      <td>N</td>\n",
       "      <td>N</td>\n",
       "      <td>N</td>\n",
       "      <td>FRANCES  DELAFUENTE</td>\n",
       "      <td>ATTORNEY</td>\n",
       "      <td>MICHELLE@DLGPA.COM</td>\n",
       "      <td>SAMIA  AHMED</td>\n",
       "      <td>OWNER</td>\n",
       "    </tr>\n",
       "    <tr>\n",
       "      <th>1</th>\n",
       "      <td>A-21187-12839</td>\n",
       "      <td>Certified-Expired</td>\n",
       "      <td>2022-02-03</td>\n",
       "      <td>2022-10-03</td>\n",
       "      <td>N</td>\n",
       "      <td>NaN</td>\n",
       "      <td>NaN</td>\n",
       "      <td>N</td>\n",
       "      <td>NIKE, INC.</td>\n",
       "      <td>ONE BOWERMAN DRIVE</td>\n",
       "      <td>...</td>\n",
       "      <td>Y</td>\n",
       "      <td>N</td>\n",
       "      <td>N</td>\n",
       "      <td>Y</td>\n",
       "      <td>N</td>\n",
       "      <td>Chad T Li</td>\n",
       "      <td>Associate Attorney</td>\n",
       "      <td>chad.li@BAL.com</td>\n",
       "      <td>Diana  Loveless</td>\n",
       "      <td>Immigration Program Consultant</td>\n",
       "    </tr>\n",
       "    <tr>\n",
       "      <th>2</th>\n",
       "      <td>A-21327-77110</td>\n",
       "      <td>Denied</td>\n",
       "      <td>2021-11-30</td>\n",
       "      <td>2022-10-03</td>\n",
       "      <td>N</td>\n",
       "      <td>NaN</td>\n",
       "      <td>NaN</td>\n",
       "      <td>N</td>\n",
       "      <td>RIVERY TECHNOLOGIES INC</td>\n",
       "      <td>500 7TH AVENUE</td>\n",
       "      <td>...</td>\n",
       "      <td>Y</td>\n",
       "      <td>N</td>\n",
       "      <td>N</td>\n",
       "      <td>Y</td>\n",
       "      <td>N</td>\n",
       "      <td>Rakhel S Milstein</td>\n",
       "      <td>Attorney</td>\n",
       "      <td>rsm@milsteinlg.com</td>\n",
       "      <td>Aviv  Noy</td>\n",
       "      <td>CoFounder</td>\n",
       "    </tr>\n",
       "    <tr>\n",
       "      <th>3</th>\n",
       "      <td>A-21342-83195</td>\n",
       "      <td>Certified-Expired</td>\n",
       "      <td>2022-02-03</td>\n",
       "      <td>2022-10-03</td>\n",
       "      <td>N</td>\n",
       "      <td>NaN</td>\n",
       "      <td>NaN</td>\n",
       "      <td>N</td>\n",
       "      <td>ESRI INC.</td>\n",
       "      <td>380 NEW YORK ST.</td>\n",
       "      <td>...</td>\n",
       "      <td>Y</td>\n",
       "      <td>N</td>\n",
       "      <td>N</td>\n",
       "      <td>Y</td>\n",
       "      <td>N</td>\n",
       "      <td>Jessica L Cross</td>\n",
       "      <td>Attorney</td>\n",
       "      <td>jessica.cross@ogletree.com</td>\n",
       "      <td>Vinesh  Patel</td>\n",
       "      <td>Global Mobility Coordinator</td>\n",
       "    </tr>\n",
       "    <tr>\n",
       "      <th>4</th>\n",
       "      <td>A-21349-86725</td>\n",
       "      <td>Certified-Expired</td>\n",
       "      <td>2022-02-03</td>\n",
       "      <td>2022-10-03</td>\n",
       "      <td>N</td>\n",
       "      <td>NaN</td>\n",
       "      <td>NaN</td>\n",
       "      <td>N</td>\n",
       "      <td>INGURAN LLC DBA STGENETICS</td>\n",
       "      <td>22575 STATE HWY 6 SOUTH</td>\n",
       "      <td>...</td>\n",
       "      <td>NaN</td>\n",
       "      <td>N</td>\n",
       "      <td>N</td>\n",
       "      <td>Y</td>\n",
       "      <td>N</td>\n",
       "      <td>Beatriz  Trillos Ballerini</td>\n",
       "      <td>Attorney</td>\n",
       "      <td>perm@tbvisas.com</td>\n",
       "      <td>Steven  Sfamenos</td>\n",
       "      <td>Human Resources Director</td>\n",
       "    </tr>\n",
       "  </tbody>\n",
       "</table>\n",
       "<p>5 rows × 154 columns</p>\n",
       "</div>"
      ],
      "text/plain": [
       "     CASE_NUMBER        CASE_STATUS RECEIVED_DATE DECISION_DATE REFILE   \n",
       "0  A-22262-24149          Withdrawn    2022-10-02    2022-10-02      N  \\\n",
       "1  A-21187-12839  Certified-Expired    2022-02-03    2022-10-03      N   \n",
       "2  A-21327-77110             Denied    2021-11-30    2022-10-03      N   \n",
       "3  A-21342-83195  Certified-Expired    2022-02-03    2022-10-03      N   \n",
       "4  A-21349-86725  Certified-Expired    2022-02-03    2022-10-03      N   \n",
       "\n",
       "   ORIG_FILE_DATE  PREVIOUS_SWA_CASE_NUMBER_STATE SCHD_A_SHEEPHERDER   \n",
       "0             NaN                             NaN                  N  \\\n",
       "1             NaN                             NaN                  N   \n",
       "2             NaN                             NaN                  N   \n",
       "3             NaN                             NaN                  N   \n",
       "4             NaN                             NaN                  N   \n",
       "\n",
       "                EMPLOYER_NAME       EMPLOYER_ADDRESS_1  ...   \n",
       "0     Westgate Shellworld Inc      7012 Muncipal Drive  ...  \\\n",
       "1                  NIKE, INC.       ONE BOWERMAN DRIVE  ...   \n",
       "2     RIVERY TECHNOLOGIES INC           500 7TH AVENUE  ...   \n",
       "3                   ESRI INC.         380 NEW YORK ST.  ...   \n",
       "4  INGURAN LLC DBA STGENETICS  22575 STATE HWY 6 SOUTH  ...   \n",
       "\n",
       "  FOREIGN_WORKER_ALT_OCC_EXP FOREIGN_WORKER_EXP_WITH_EMPL   \n",
       "0                        NaN                          NaN  \\\n",
       "1                          Y                            N   \n",
       "2                          Y                            N   \n",
       "3                          Y                            N   \n",
       "4                        NaN                            N   \n",
       "\n",
       "  FOREIGN_WORKER_EMPL_PAY_FOR_ED FOREIGN_WORKER_CURR_EMPLOYED   \n",
       "0                              N                            N  \\\n",
       "1                              N                            Y   \n",
       "2                              N                            Y   \n",
       "3                              N                            Y   \n",
       "4                              N                            Y   \n",
       "\n",
       "  EMPLOYER_COMPLETED_APPLICATION               PREPARER_NAME   \n",
       "0                              N         FRANCES  DELAFUENTE  \\\n",
       "1                              N                   Chad T Li   \n",
       "2                              N           Rakhel S Milstein   \n",
       "3                              N             Jessica L Cross   \n",
       "4                              N  Beatriz  Trillos Ballerini   \n",
       "\n",
       "       PREPARER_TITLE              PREPARER_EMAIL  EMP_INFO_DECL_NAME   \n",
       "0            ATTORNEY          MICHELLE@DLGPA.COM        SAMIA  AHMED  \\\n",
       "1  Associate Attorney             chad.li@BAL.com     Diana  Loveless   \n",
       "2            Attorney          rsm@milsteinlg.com           Aviv  Noy   \n",
       "3            Attorney  jessica.cross@ogletree.com       Vinesh  Patel   \n",
       "4            Attorney            perm@tbvisas.com    Steven  Sfamenos   \n",
       "\n",
       "                   EMP_DECL_TITLE  \n",
       "0                           OWNER  \n",
       "1  Immigration Program Consultant  \n",
       "2                       CoFounder  \n",
       "3     Global Mobility Coordinator  \n",
       "4        Human Resources Director  \n",
       "\n",
       "[5 rows x 154 columns]"
      ]
     },
     "execution_count": 64,
     "metadata": {},
     "output_type": "execute_result"
    }
   ],
   "source": [
    "df = pd.read_excel('D:/UCO_CourseWork/Programing for analytics/ProjectProposal/800.xlsx')\n",
    "# df = df.iloc[:40000]\n",
    "df.head()"
   ]
  },
  {
   "cell_type": "markdown",
   "id": "8e28d99e-1830-4ed4-97e9-068de9902352",
   "metadata": {},
   "source": [
    "# Initial Data Inspection"
   ]
  },
  {
   "cell_type": "markdown",
   "id": "37163ca8-5ab7-4dc2-8cf9-e7cbdcf0e260",
   "metadata": {},
   "source": [
    "##  Data Information"
   ]
  },
  {
   "cell_type": "code",
   "execution_count": 65,
   "id": "7fd91960-7c85-4c97-9e11-e823a9901ae0",
   "metadata": {},
   "outputs": [
    {
     "name": "stdout",
     "output_type": "stream",
     "text": [
      "<class 'pandas.core.frame.DataFrame'>\n",
      "RangeIndex: 850 entries, 0 to 849\n",
      "Columns: 154 entries, CASE_NUMBER to EMP_DECL_TITLE\n",
      "dtypes: datetime64[ns](29), float64(14), int64(3), object(108)\n",
      "memory usage: 1022.8+ KB\n",
      "None\n"
     ]
    }
   ],
   "source": [
    "# Display basic information about the dataset\n",
    "print(df.info())"
   ]
  },
  {
   "cell_type": "code",
   "execution_count": 66,
   "id": "ef07aa22-3a66-424e-972a-d5d1c4a3362e",
   "metadata": {},
   "outputs": [
    {
     "data": {
      "text/html": [
       "<div>\n",
       "<style scoped>\n",
       "    .dataframe tbody tr th:only-of-type {\n",
       "        vertical-align: middle;\n",
       "    }\n",
       "\n",
       "    .dataframe tbody tr th {\n",
       "        vertical-align: top;\n",
       "    }\n",
       "\n",
       "    .dataframe thead th {\n",
       "        text-align: right;\n",
       "    }\n",
       "</style>\n",
       "<table border=\"1\" class=\"dataframe\">\n",
       "  <thead>\n",
       "    <tr style=\"text-align: right;\">\n",
       "      <th></th>\n",
       "      <th>CASE_NUMBER</th>\n",
       "      <th>CASE_STATUS</th>\n",
       "      <th>RECEIVED_DATE</th>\n",
       "      <th>DECISION_DATE</th>\n",
       "      <th>REFILE</th>\n",
       "      <th>ORIG_FILE_DATE</th>\n",
       "      <th>PREVIOUS_SWA_CASE_NUMBER_STATE</th>\n",
       "      <th>SCHD_A_SHEEPHERDER</th>\n",
       "      <th>EMPLOYER_NAME</th>\n",
       "      <th>EMPLOYER_ADDRESS_1</th>\n",
       "      <th>...</th>\n",
       "      <th>FOREIGN_WORKER_ALT_OCC_EXP</th>\n",
       "      <th>FOREIGN_WORKER_EXP_WITH_EMPL</th>\n",
       "      <th>FOREIGN_WORKER_EMPL_PAY_FOR_ED</th>\n",
       "      <th>FOREIGN_WORKER_CURR_EMPLOYED</th>\n",
       "      <th>EMPLOYER_COMPLETED_APPLICATION</th>\n",
       "      <th>PREPARER_NAME</th>\n",
       "      <th>PREPARER_TITLE</th>\n",
       "      <th>PREPARER_EMAIL</th>\n",
       "      <th>EMP_INFO_DECL_NAME</th>\n",
       "      <th>EMP_DECL_TITLE</th>\n",
       "    </tr>\n",
       "  </thead>\n",
       "  <tbody>\n",
       "    <tr>\n",
       "      <th>0</th>\n",
       "      <td>A-22262-24149</td>\n",
       "      <td>Withdrawn</td>\n",
       "      <td>2022-10-02</td>\n",
       "      <td>2022-10-02</td>\n",
       "      <td>N</td>\n",
       "      <td>NaN</td>\n",
       "      <td>NaN</td>\n",
       "      <td>N</td>\n",
       "      <td>Westgate Shellworld Inc</td>\n",
       "      <td>7012 Muncipal Drive</td>\n",
       "      <td>...</td>\n",
       "      <td>NaN</td>\n",
       "      <td>NaN</td>\n",
       "      <td>N</td>\n",
       "      <td>N</td>\n",
       "      <td>N</td>\n",
       "      <td>FRANCES  DELAFUENTE</td>\n",
       "      <td>ATTORNEY</td>\n",
       "      <td>MICHELLE@DLGPA.COM</td>\n",
       "      <td>SAMIA  AHMED</td>\n",
       "      <td>OWNER</td>\n",
       "    </tr>\n",
       "    <tr>\n",
       "      <th>1</th>\n",
       "      <td>A-21187-12839</td>\n",
       "      <td>Certified-Expired</td>\n",
       "      <td>2022-02-03</td>\n",
       "      <td>2022-10-03</td>\n",
       "      <td>N</td>\n",
       "      <td>NaN</td>\n",
       "      <td>NaN</td>\n",
       "      <td>N</td>\n",
       "      <td>NIKE, INC.</td>\n",
       "      <td>ONE BOWERMAN DRIVE</td>\n",
       "      <td>...</td>\n",
       "      <td>Y</td>\n",
       "      <td>N</td>\n",
       "      <td>N</td>\n",
       "      <td>Y</td>\n",
       "      <td>N</td>\n",
       "      <td>Chad T Li</td>\n",
       "      <td>Associate Attorney</td>\n",
       "      <td>chad.li@BAL.com</td>\n",
       "      <td>Diana  Loveless</td>\n",
       "      <td>Immigration Program Consultant</td>\n",
       "    </tr>\n",
       "    <tr>\n",
       "      <th>2</th>\n",
       "      <td>A-21327-77110</td>\n",
       "      <td>Denied</td>\n",
       "      <td>2021-11-30</td>\n",
       "      <td>2022-10-03</td>\n",
       "      <td>N</td>\n",
       "      <td>NaN</td>\n",
       "      <td>NaN</td>\n",
       "      <td>N</td>\n",
       "      <td>RIVERY TECHNOLOGIES INC</td>\n",
       "      <td>500 7TH AVENUE</td>\n",
       "      <td>...</td>\n",
       "      <td>Y</td>\n",
       "      <td>N</td>\n",
       "      <td>N</td>\n",
       "      <td>Y</td>\n",
       "      <td>N</td>\n",
       "      <td>Rakhel S Milstein</td>\n",
       "      <td>Attorney</td>\n",
       "      <td>rsm@milsteinlg.com</td>\n",
       "      <td>Aviv  Noy</td>\n",
       "      <td>CoFounder</td>\n",
       "    </tr>\n",
       "    <tr>\n",
       "      <th>3</th>\n",
       "      <td>A-21342-83195</td>\n",
       "      <td>Certified-Expired</td>\n",
       "      <td>2022-02-03</td>\n",
       "      <td>2022-10-03</td>\n",
       "      <td>N</td>\n",
       "      <td>NaN</td>\n",
       "      <td>NaN</td>\n",
       "      <td>N</td>\n",
       "      <td>ESRI INC.</td>\n",
       "      <td>380 NEW YORK ST.</td>\n",
       "      <td>...</td>\n",
       "      <td>Y</td>\n",
       "      <td>N</td>\n",
       "      <td>N</td>\n",
       "      <td>Y</td>\n",
       "      <td>N</td>\n",
       "      <td>Jessica L Cross</td>\n",
       "      <td>Attorney</td>\n",
       "      <td>jessica.cross@ogletree.com</td>\n",
       "      <td>Vinesh  Patel</td>\n",
       "      <td>Global Mobility Coordinator</td>\n",
       "    </tr>\n",
       "    <tr>\n",
       "      <th>4</th>\n",
       "      <td>A-21349-86725</td>\n",
       "      <td>Certified-Expired</td>\n",
       "      <td>2022-02-03</td>\n",
       "      <td>2022-10-03</td>\n",
       "      <td>N</td>\n",
       "      <td>NaN</td>\n",
       "      <td>NaN</td>\n",
       "      <td>N</td>\n",
       "      <td>INGURAN LLC DBA STGENETICS</td>\n",
       "      <td>22575 STATE HWY 6 SOUTH</td>\n",
       "      <td>...</td>\n",
       "      <td>NaN</td>\n",
       "      <td>N</td>\n",
       "      <td>N</td>\n",
       "      <td>Y</td>\n",
       "      <td>N</td>\n",
       "      <td>Beatriz  Trillos Ballerini</td>\n",
       "      <td>Attorney</td>\n",
       "      <td>perm@tbvisas.com</td>\n",
       "      <td>Steven  Sfamenos</td>\n",
       "      <td>Human Resources Director</td>\n",
       "    </tr>\n",
       "  </tbody>\n",
       "</table>\n",
       "<p>5 rows × 154 columns</p>\n",
       "</div>"
      ],
      "text/plain": [
       "     CASE_NUMBER        CASE_STATUS RECEIVED_DATE DECISION_DATE REFILE   \n",
       "0  A-22262-24149          Withdrawn    2022-10-02    2022-10-02      N  \\\n",
       "1  A-21187-12839  Certified-Expired    2022-02-03    2022-10-03      N   \n",
       "2  A-21327-77110             Denied    2021-11-30    2022-10-03      N   \n",
       "3  A-21342-83195  Certified-Expired    2022-02-03    2022-10-03      N   \n",
       "4  A-21349-86725  Certified-Expired    2022-02-03    2022-10-03      N   \n",
       "\n",
       "   ORIG_FILE_DATE  PREVIOUS_SWA_CASE_NUMBER_STATE SCHD_A_SHEEPHERDER   \n",
       "0             NaN                             NaN                  N  \\\n",
       "1             NaN                             NaN                  N   \n",
       "2             NaN                             NaN                  N   \n",
       "3             NaN                             NaN                  N   \n",
       "4             NaN                             NaN                  N   \n",
       "\n",
       "                EMPLOYER_NAME       EMPLOYER_ADDRESS_1  ...   \n",
       "0     Westgate Shellworld Inc      7012 Muncipal Drive  ...  \\\n",
       "1                  NIKE, INC.       ONE BOWERMAN DRIVE  ...   \n",
       "2     RIVERY TECHNOLOGIES INC           500 7TH AVENUE  ...   \n",
       "3                   ESRI INC.         380 NEW YORK ST.  ...   \n",
       "4  INGURAN LLC DBA STGENETICS  22575 STATE HWY 6 SOUTH  ...   \n",
       "\n",
       "  FOREIGN_WORKER_ALT_OCC_EXP FOREIGN_WORKER_EXP_WITH_EMPL   \n",
       "0                        NaN                          NaN  \\\n",
       "1                          Y                            N   \n",
       "2                          Y                            N   \n",
       "3                          Y                            N   \n",
       "4                        NaN                            N   \n",
       "\n",
       "  FOREIGN_WORKER_EMPL_PAY_FOR_ED FOREIGN_WORKER_CURR_EMPLOYED   \n",
       "0                              N                            N  \\\n",
       "1                              N                            Y   \n",
       "2                              N                            Y   \n",
       "3                              N                            Y   \n",
       "4                              N                            Y   \n",
       "\n",
       "  EMPLOYER_COMPLETED_APPLICATION               PREPARER_NAME   \n",
       "0                              N         FRANCES  DELAFUENTE  \\\n",
       "1                              N                   Chad T Li   \n",
       "2                              N           Rakhel S Milstein   \n",
       "3                              N             Jessica L Cross   \n",
       "4                              N  Beatriz  Trillos Ballerini   \n",
       "\n",
       "       PREPARER_TITLE              PREPARER_EMAIL  EMP_INFO_DECL_NAME   \n",
       "0            ATTORNEY          MICHELLE@DLGPA.COM        SAMIA  AHMED  \\\n",
       "1  Associate Attorney             chad.li@BAL.com     Diana  Loveless   \n",
       "2            Attorney          rsm@milsteinlg.com           Aviv  Noy   \n",
       "3            Attorney  jessica.cross@ogletree.com       Vinesh  Patel   \n",
       "4            Attorney            perm@tbvisas.com    Steven  Sfamenos   \n",
       "\n",
       "                   EMP_DECL_TITLE  \n",
       "0                           OWNER  \n",
       "1  Immigration Program Consultant  \n",
       "2                       CoFounder  \n",
       "3     Global Mobility Coordinator  \n",
       "4        Human Resources Director  \n",
       "\n",
       "[5 rows x 154 columns]"
      ]
     },
     "execution_count": 66,
     "metadata": {},
     "output_type": "execute_result"
    }
   ],
   "source": [
    "# Show the first few rows of the dataset\n",
    "df.head()"
   ]
  },
  {
   "cell_type": "code",
   "execution_count": 67,
   "id": "6c1500f9-0610-4300-9002-df1a083a90a0",
   "metadata": {},
   "outputs": [
    {
     "data": {
      "text/html": [
       "<div>\n",
       "<style scoped>\n",
       "    .dataframe tbody tr th:only-of-type {\n",
       "        vertical-align: middle;\n",
       "    }\n",
       "\n",
       "    .dataframe tbody tr th {\n",
       "        vertical-align: top;\n",
       "    }\n",
       "\n",
       "    .dataframe thead th {\n",
       "        text-align: right;\n",
       "    }\n",
       "</style>\n",
       "<table border=\"1\" class=\"dataframe\">\n",
       "  <thead>\n",
       "    <tr style=\"text-align: right;\">\n",
       "      <th></th>\n",
       "      <th>RECEIVED_DATE</th>\n",
       "      <th>DECISION_DATE</th>\n",
       "      <th>ORIG_FILE_DATE</th>\n",
       "      <th>PREVIOUS_SWA_CASE_NUMBER_STATE</th>\n",
       "      <th>EMPLOYER_PHONE_EXT</th>\n",
       "      <th>EMPLOYER_NUM_EMPLOYEES</th>\n",
       "      <th>EMPLOYER_YEAR_COMMENCED_BUSINESS</th>\n",
       "      <th>NAICS_CODE</th>\n",
       "      <th>AGENT_ATTORNEY_PHONE_EXT</th>\n",
       "      <th>PW_WAGE</th>\n",
       "      <th>...</th>\n",
       "      <th>EMPLOYEE_REF_PROG_FROM_DATE</th>\n",
       "      <th>EMPLOYEE_REFERRAL_PROG_TO_DATE</th>\n",
       "      <th>CAMPUS_PLACEMENT_FROM_DATE</th>\n",
       "      <th>CAMPUS_PLACEMENT_TO_DATE</th>\n",
       "      <th>LOCAL_ETHNIC_PAPER_FROM_DATE</th>\n",
       "      <th>LOCAL_ETHNIC_PAPER_TO_DATE</th>\n",
       "      <th>RADIO_TV_AD_FROM_DATE</th>\n",
       "      <th>RADIO_TV_AD_TO_DATE</th>\n",
       "      <th>PAYMENT_DETAILS</th>\n",
       "      <th>FOREIGN_WORKER_YRS_ED_COMP</th>\n",
       "    </tr>\n",
       "  </thead>\n",
       "  <tbody>\n",
       "    <tr>\n",
       "      <th>count</th>\n",
       "      <td>850</td>\n",
       "      <td>850</td>\n",
       "      <td>0.0</td>\n",
       "      <td>0.0</td>\n",
       "      <td>67.000000</td>\n",
       "      <td>8.500000e+02</td>\n",
       "      <td>850.000000</td>\n",
       "      <td>850.000000</td>\n",
       "      <td>20.00000</td>\n",
       "      <td>850.000000</td>\n",
       "      <td>...</td>\n",
       "      <td>226</td>\n",
       "      <td>226</td>\n",
       "      <td>64</td>\n",
       "      <td>64</td>\n",
       "      <td>566</td>\n",
       "      <td>566</td>\n",
       "      <td>126</td>\n",
       "      <td>126</td>\n",
       "      <td>0.0</td>\n",
       "      <td>781.000000</td>\n",
       "    </tr>\n",
       "    <tr>\n",
       "      <th>mean</th>\n",
       "      <td>2022-01-30 15:04:39.529411840</td>\n",
       "      <td>2022-10-03 03:40:14.117646848</td>\n",
       "      <td>NaN</td>\n",
       "      <td>NaN</td>\n",
       "      <td>6241.402985</td>\n",
       "      <td>9.151659e+04</td>\n",
       "      <td>1985.117647</td>\n",
       "      <td>386079.507059</td>\n",
       "      <td>3088.50000</td>\n",
       "      <td>99539.256247</td>\n",
       "      <td>...</td>\n",
       "      <td>2021-09-21 13:41:56.814159360</td>\n",
       "      <td>2021-10-14 19:57:52.566371584</td>\n",
       "      <td>2021-10-13 15:00:00</td>\n",
       "      <td>2021-10-31 06:45:00</td>\n",
       "      <td>2021-10-09 03:43:53.215547648</td>\n",
       "      <td>2021-10-11 05:00:12.720848128</td>\n",
       "      <td>2021-10-31 09:20:00</td>\n",
       "      <td>2021-10-31 16:45:42.857142784</td>\n",
       "      <td>NaN</td>\n",
       "      <td>2009.385403</td>\n",
       "    </tr>\n",
       "    <tr>\n",
       "      <th>min</th>\n",
       "      <td>2021-02-04 00:00:00</td>\n",
       "      <td>2022-10-02 00:00:00</td>\n",
       "      <td>NaN</td>\n",
       "      <td>NaN</td>\n",
       "      <td>1.000000</td>\n",
       "      <td>1.000000e+00</td>\n",
       "      <td>1789.000000</td>\n",
       "      <td>3133.000000</td>\n",
       "      <td>1.00000</td>\n",
       "      <td>9.990000</td>\n",
       "      <td>...</td>\n",
       "      <td>2020-10-26 00:00:00</td>\n",
       "      <td>2020-11-02 00:00:00</td>\n",
       "      <td>2021-07-12 00:00:00</td>\n",
       "      <td>2021-08-02 00:00:00</td>\n",
       "      <td>2020-09-25 00:00:00</td>\n",
       "      <td>2020-09-25 00:00:00</td>\n",
       "      <td>2021-06-07 00:00:00</td>\n",
       "      <td>2021-06-07 00:00:00</td>\n",
       "      <td>NaN</td>\n",
       "      <td>0.000000</td>\n",
       "    </tr>\n",
       "    <tr>\n",
       "      <th>25%</th>\n",
       "      <td>2022-02-03 00:00:00</td>\n",
       "      <td>2022-10-03 00:00:00</td>\n",
       "      <td>NaN</td>\n",
       "      <td>NaN</td>\n",
       "      <td>205.000000</td>\n",
       "      <td>1.960000e+02</td>\n",
       "      <td>1975.000000</td>\n",
       "      <td>238170.000000</td>\n",
       "      <td>101.00000</td>\n",
       "      <td>76866.500000</td>\n",
       "      <td>...</td>\n",
       "      <td>2021-08-18 00:00:00</td>\n",
       "      <td>2021-09-03 00:00:00</td>\n",
       "      <td>2021-09-07 18:00:00</td>\n",
       "      <td>2021-09-23 18:00:00</td>\n",
       "      <td>2021-08-27 00:00:00</td>\n",
       "      <td>2021-09-03 12:00:00</td>\n",
       "      <td>2021-10-09 12:00:00</td>\n",
       "      <td>2021-10-10 06:00:00</td>\n",
       "      <td>NaN</td>\n",
       "      <td>2008.000000</td>\n",
       "    </tr>\n",
       "    <tr>\n",
       "      <th>50%</th>\n",
       "      <td>2022-02-03 00:00:00</td>\n",
       "      <td>2022-10-03 00:00:00</td>\n",
       "      <td>NaN</td>\n",
       "      <td>NaN</td>\n",
       "      <td>408.000000</td>\n",
       "      <td>3.751000e+03</td>\n",
       "      <td>1995.000000</td>\n",
       "      <td>511210.000000</td>\n",
       "      <td>162.50000</td>\n",
       "      <td>98914.500000</td>\n",
       "      <td>...</td>\n",
       "      <td>2021-09-20 12:00:00</td>\n",
       "      <td>2021-10-19 00:00:00</td>\n",
       "      <td>2021-09-30 00:00:00</td>\n",
       "      <td>2021-10-18 00:00:00</td>\n",
       "      <td>2021-10-19 00:00:00</td>\n",
       "      <td>2021-10-19 00:00:00</td>\n",
       "      <td>2021-11-04 00:00:00</td>\n",
       "      <td>2021-11-04 00:00:00</td>\n",
       "      <td>NaN</td>\n",
       "      <td>2014.000000</td>\n",
       "    </tr>\n",
       "    <tr>\n",
       "      <th>75%</th>\n",
       "      <td>2022-02-04 00:00:00</td>\n",
       "      <td>2022-10-03 00:00:00</td>\n",
       "      <td>NaN</td>\n",
       "      <td>NaN</td>\n",
       "      <td>2009.000000</td>\n",
       "      <td>5.031800e+04</td>\n",
       "      <td>2007.000000</td>\n",
       "      <td>541511.000000</td>\n",
       "      <td>201.00000</td>\n",
       "      <td>121763.000000</td>\n",
       "      <td>...</td>\n",
       "      <td>2021-10-28 00:00:00</td>\n",
       "      <td>2021-11-17 00:00:00</td>\n",
       "      <td>2021-11-08 06:00:00</td>\n",
       "      <td>2021-11-19 00:00:00</td>\n",
       "      <td>2021-11-12 00:00:00</td>\n",
       "      <td>2021-11-15 12:00:00</td>\n",
       "      <td>2021-11-20 00:00:00</td>\n",
       "      <td>2021-11-20 00:00:00</td>\n",
       "      <td>NaN</td>\n",
       "      <td>2017.000000</td>\n",
       "    </tr>\n",
       "    <tr>\n",
       "      <th>max</th>\n",
       "      <td>2022-10-02 00:00:00</td>\n",
       "      <td>2022-10-04 00:00:00</td>\n",
       "      <td>NaN</td>\n",
       "      <td>NaN</td>\n",
       "      <td>91128.000000</td>\n",
       "      <td>1.400000e+06</td>\n",
       "      <td>2021.000000</td>\n",
       "      <td>813920.000000</td>\n",
       "      <td>59052.00000</td>\n",
       "      <td>250286.000000</td>\n",
       "      <td>...</td>\n",
       "      <td>2022-06-30 00:00:00</td>\n",
       "      <td>2022-07-30 00:00:00</td>\n",
       "      <td>2022-07-27 00:00:00</td>\n",
       "      <td>2022-08-10 00:00:00</td>\n",
       "      <td>2022-08-07 00:00:00</td>\n",
       "      <td>2022-08-07 00:00:00</td>\n",
       "      <td>2022-06-23 00:00:00</td>\n",
       "      <td>2022-06-23 00:00:00</td>\n",
       "      <td>NaN</td>\n",
       "      <td>2021.000000</td>\n",
       "    </tr>\n",
       "    <tr>\n",
       "      <th>std</th>\n",
       "      <td>NaN</td>\n",
       "      <td>NaN</td>\n",
       "      <td>NaN</td>\n",
       "      <td>NaN</td>\n",
       "      <td>18602.816991</td>\n",
       "      <td>2.366175e+05</td>\n",
       "      <td>37.873732</td>\n",
       "      <td>217949.565205</td>\n",
       "      <td>13172.59177</td>\n",
       "      <td>39326.455054</td>\n",
       "      <td>...</td>\n",
       "      <td>NaN</td>\n",
       "      <td>NaN</td>\n",
       "      <td>NaN</td>\n",
       "      <td>NaN</td>\n",
       "      <td>NaN</td>\n",
       "      <td>NaN</td>\n",
       "      <td>NaN</td>\n",
       "      <td>NaN</td>\n",
       "      <td>NaN</td>\n",
       "      <td>72.272304</td>\n",
       "    </tr>\n",
       "  </tbody>\n",
       "</table>\n",
       "<p>8 rows × 46 columns</p>\n",
       "</div>"
      ],
      "text/plain": [
       "                       RECEIVED_DATE                  DECISION_DATE   \n",
       "count                            850                            850  \\\n",
       "mean   2022-01-30 15:04:39.529411840  2022-10-03 03:40:14.117646848   \n",
       "min              2021-02-04 00:00:00            2022-10-02 00:00:00   \n",
       "25%              2022-02-03 00:00:00            2022-10-03 00:00:00   \n",
       "50%              2022-02-03 00:00:00            2022-10-03 00:00:00   \n",
       "75%              2022-02-04 00:00:00            2022-10-03 00:00:00   \n",
       "max              2022-10-02 00:00:00            2022-10-04 00:00:00   \n",
       "std                              NaN                            NaN   \n",
       "\n",
       "       ORIG_FILE_DATE  PREVIOUS_SWA_CASE_NUMBER_STATE  EMPLOYER_PHONE_EXT   \n",
       "count             0.0                             0.0           67.000000  \\\n",
       "mean              NaN                             NaN         6241.402985   \n",
       "min               NaN                             NaN            1.000000   \n",
       "25%               NaN                             NaN          205.000000   \n",
       "50%               NaN                             NaN          408.000000   \n",
       "75%               NaN                             NaN         2009.000000   \n",
       "max               NaN                             NaN        91128.000000   \n",
       "std               NaN                             NaN        18602.816991   \n",
       "\n",
       "       EMPLOYER_NUM_EMPLOYEES  EMPLOYER_YEAR_COMMENCED_BUSINESS   \n",
       "count            8.500000e+02                        850.000000  \\\n",
       "mean             9.151659e+04                       1985.117647   \n",
       "min              1.000000e+00                       1789.000000   \n",
       "25%              1.960000e+02                       1975.000000   \n",
       "50%              3.751000e+03                       1995.000000   \n",
       "75%              5.031800e+04                       2007.000000   \n",
       "max              1.400000e+06                       2021.000000   \n",
       "std              2.366175e+05                         37.873732   \n",
       "\n",
       "          NAICS_CODE  AGENT_ATTORNEY_PHONE_EXT        PW_WAGE  ...   \n",
       "count     850.000000                  20.00000     850.000000  ...  \\\n",
       "mean   386079.507059                3088.50000   99539.256247  ...   \n",
       "min      3133.000000                   1.00000       9.990000  ...   \n",
       "25%    238170.000000                 101.00000   76866.500000  ...   \n",
       "50%    511210.000000                 162.50000   98914.500000  ...   \n",
       "75%    541511.000000                 201.00000  121763.000000  ...   \n",
       "max    813920.000000               59052.00000  250286.000000  ...   \n",
       "std    217949.565205               13172.59177   39326.455054  ...   \n",
       "\n",
       "         EMPLOYEE_REF_PROG_FROM_DATE EMPLOYEE_REFERRAL_PROG_TO_DATE   \n",
       "count                            226                            226  \\\n",
       "mean   2021-09-21 13:41:56.814159360  2021-10-14 19:57:52.566371584   \n",
       "min              2020-10-26 00:00:00            2020-11-02 00:00:00   \n",
       "25%              2021-08-18 00:00:00            2021-09-03 00:00:00   \n",
       "50%              2021-09-20 12:00:00            2021-10-19 00:00:00   \n",
       "75%              2021-10-28 00:00:00            2021-11-17 00:00:00   \n",
       "max              2022-06-30 00:00:00            2022-07-30 00:00:00   \n",
       "std                              NaN                            NaN   \n",
       "\n",
       "       CAMPUS_PLACEMENT_FROM_DATE  CAMPUS_PLACEMENT_TO_DATE   \n",
       "count                          64                        64  \\\n",
       "mean          2021-10-13 15:00:00       2021-10-31 06:45:00   \n",
       "min           2021-07-12 00:00:00       2021-08-02 00:00:00   \n",
       "25%           2021-09-07 18:00:00       2021-09-23 18:00:00   \n",
       "50%           2021-09-30 00:00:00       2021-10-18 00:00:00   \n",
       "75%           2021-11-08 06:00:00       2021-11-19 00:00:00   \n",
       "max           2022-07-27 00:00:00       2022-08-10 00:00:00   \n",
       "std                           NaN                       NaN   \n",
       "\n",
       "        LOCAL_ETHNIC_PAPER_FROM_DATE     LOCAL_ETHNIC_PAPER_TO_DATE   \n",
       "count                            566                            566  \\\n",
       "mean   2021-10-09 03:43:53.215547648  2021-10-11 05:00:12.720848128   \n",
       "min              2020-09-25 00:00:00            2020-09-25 00:00:00   \n",
       "25%              2021-08-27 00:00:00            2021-09-03 12:00:00   \n",
       "50%              2021-10-19 00:00:00            2021-10-19 00:00:00   \n",
       "75%              2021-11-12 00:00:00            2021-11-15 12:00:00   \n",
       "max              2022-08-07 00:00:00            2022-08-07 00:00:00   \n",
       "std                              NaN                            NaN   \n",
       "\n",
       "       RADIO_TV_AD_FROM_DATE            RADIO_TV_AD_TO_DATE  PAYMENT_DETAILS   \n",
       "count                    126                            126              0.0  \\\n",
       "mean     2021-10-31 09:20:00  2021-10-31 16:45:42.857142784              NaN   \n",
       "min      2021-06-07 00:00:00            2021-06-07 00:00:00              NaN   \n",
       "25%      2021-10-09 12:00:00            2021-10-10 06:00:00              NaN   \n",
       "50%      2021-11-04 00:00:00            2021-11-04 00:00:00              NaN   \n",
       "75%      2021-11-20 00:00:00            2021-11-20 00:00:00              NaN   \n",
       "max      2022-06-23 00:00:00            2022-06-23 00:00:00              NaN   \n",
       "std                      NaN                            NaN              NaN   \n",
       "\n",
       "      FOREIGN_WORKER_YRS_ED_COMP  \n",
       "count                 781.000000  \n",
       "mean                 2009.385403  \n",
       "min                     0.000000  \n",
       "25%                  2008.000000  \n",
       "50%                  2014.000000  \n",
       "75%                  2017.000000  \n",
       "max                  2021.000000  \n",
       "std                    72.272304  \n",
       "\n",
       "[8 rows x 46 columns]"
      ]
     },
     "execution_count": 67,
     "metadata": {},
     "output_type": "execute_result"
    }
   ],
   "source": [
    "# Show summary statistics for numerical columns\n",
    "df.describe()"
   ]
  },
  {
   "cell_type": "code",
   "execution_count": 68,
   "id": "73d03c73-ecfd-4724-b26b-6ccedb6e3ddb",
   "metadata": {},
   "outputs": [
    {
     "name": "stdout",
     "output_type": "stream",
     "text": [
      "CASE_NUMBER           0.000000\n",
      "CASE_STATUS           0.000000\n",
      "RECEIVED_DATE         0.000000\n",
      "DECISION_DATE         0.000000\n",
      "REFILE                0.000000\n",
      "                        ...   \n",
      "PREPARER_NAME         0.000000\n",
      "PREPARER_TITLE        8.352941\n",
      "PREPARER_EMAIL        8.470588\n",
      "EMP_INFO_DECL_NAME    0.000000\n",
      "EMP_DECL_TITLE        0.000000\n",
      "Length: 154, dtype: float64\n"
     ]
    }
   ],
   "source": [
    "# Show percentage of missing values in each column\n",
    "print(df.isnull().mean() * 100)"
   ]
  },
  {
   "cell_type": "markdown",
   "id": "36e5d327-bb47-4961-97bd-6d06cb99de59",
   "metadata": {},
   "source": [
    " ## Handling Missing Values"
   ]
  },
  {
   "cell_type": "code",
   "execution_count": 69,
   "id": "34622f64-506b-4a0f-bfcf-3ec2f825c01d",
   "metadata": {},
   "outputs": [],
   "source": [
    "# Example of dropping columns with more than 50% missing values\n",
    "threshold = 50 # percentage\n",
    "high_missing = df.columns[df.isnull().mean() * 100 > threshold]\n",
    "df.drop(columns=high_missing, inplace=True)\n",
    "\n",
    "# Filling missing values for numeric columns with the median\n",
    "for col in df.select_dtypes(include='number').columns:\n",
    "    df[col].fillna(df[col].median(), inplace=True)\n",
    "\n",
    "# Filling missing values for categorical columns with the mode\n",
    "for col in df.select_dtypes(include='object').columns:\n",
    "    df[col].fillna(df[col].mode()[0], inplace=True)\n"
   ]
  },
  {
   "cell_type": "markdown",
   "id": "00dabc87-1a33-4e0d-851a-67a0f4f69d27",
   "metadata": {
    "jp-MarkdownHeadingCollapsed": true
   },
   "source": [
    "## Correcting Data Types"
   ]
  },
  {
   "cell_type": "code",
   "execution_count": 70,
   "id": "57269cde-288d-4b2d-9439-c4cd9f843f80",
   "metadata": {},
   "outputs": [],
   "source": [
    "# Convert date columns to datetime\n",
    "date_columns = ['RECEIVED_DATE', 'DECISION_DATE']  # Add or adjust according to your dataset\n",
    "for date in date_columns:\n",
    "    df[date] = pd.to_datetime(df[date])\n",
    "\n",
    "# Convert categorical columns to 'category' data type if they have a limited number of unique values\n",
    "for col in ['CASE_STATUS', 'REFILE', 'SCHD_A_SHEEPHERDER']:\n",
    "    df[col] = df[col].astype('category')\n"
   ]
  },
  {
   "cell_type": "markdown",
   "id": "ddf7e10f-afec-4bd1-936a-fcd17b509755",
   "metadata": {
    "jp-MarkdownHeadingCollapsed": true
   },
   "source": [
    "## Removing Duplicates"
   ]
  },
  {
   "cell_type": "code",
   "execution_count": 71,
   "id": "4469227e-0311-439f-ac5a-242b9f013963",
   "metadata": {},
   "outputs": [],
   "source": [
    "# Drop duplicate rows\n",
    "df.drop_duplicates(inplace=True)\n",
    "\n",
    "# Check for duplicates based on a subset of columns (for example, 'CASE_NUMBER')\n",
    "df.drop_duplicates(subset=['CASE_NUMBER'], inplace=True)\n"
   ]
  },
  {
   "cell_type": "markdown",
   "id": "8dbcaa23-2a38-4ea2-84af-2e30bb1e2795",
   "metadata": {
    "jp-MarkdownHeadingCollapsed": true
   },
   "source": [
    "## Final Data Check"
   ]
  },
  {
   "cell_type": "code",
   "execution_count": 72,
   "id": "bc44b0be-4500-479d-8935-b5b36bac4b54",
   "metadata": {},
   "outputs": [
    {
     "data": {
      "text/plain": [
       "(850, 109)"
      ]
     },
     "execution_count": 72,
     "metadata": {},
     "output_type": "execute_result"
    }
   ],
   "source": [
    "df.shape"
   ]
  },
  {
   "cell_type": "code",
   "execution_count": 73,
   "id": "e798afc8-163b-48f2-8762-cb47518cb080",
   "metadata": {},
   "outputs": [
    {
     "name": "stdout",
     "output_type": "stream",
     "text": [
      "<class 'pandas.core.frame.DataFrame'>\n",
      "RangeIndex: 850 entries, 0 to 849\n",
      "Columns: 109 entries, CASE_NUMBER to EMP_DECL_TITLE\n",
      "dtypes: category(3), datetime64[ns](12), float64(5), int64(3), object(86)\n",
      "memory usage: 706.9+ KB\n",
      "None\n"
     ]
    }
   ],
   "source": [
    "# Review the cleaned dataset\n",
    "print(df.info())"
   ]
  },
  {
   "cell_type": "code",
   "execution_count": 74,
   "id": "bd190b99-26ad-4c65-9015-01ce3410740a",
   "metadata": {},
   "outputs": [
    {
     "data": {
      "text/html": [
       "<div>\n",
       "<style scoped>\n",
       "    .dataframe tbody tr th:only-of-type {\n",
       "        vertical-align: middle;\n",
       "    }\n",
       "\n",
       "    .dataframe tbody tr th {\n",
       "        vertical-align: top;\n",
       "    }\n",
       "\n",
       "    .dataframe thead th {\n",
       "        text-align: right;\n",
       "    }\n",
       "</style>\n",
       "<table border=\"1\" class=\"dataframe\">\n",
       "  <thead>\n",
       "    <tr style=\"text-align: right;\">\n",
       "      <th></th>\n",
       "      <th>CASE_NUMBER</th>\n",
       "      <th>CASE_STATUS</th>\n",
       "      <th>RECEIVED_DATE</th>\n",
       "      <th>DECISION_DATE</th>\n",
       "      <th>REFILE</th>\n",
       "      <th>SCHD_A_SHEEPHERDER</th>\n",
       "      <th>EMPLOYER_NAME</th>\n",
       "      <th>EMPLOYER_ADDRESS_1</th>\n",
       "      <th>EMPLOYER_CITY</th>\n",
       "      <th>EMPLOYER_STATE_PROVINCE</th>\n",
       "      <th>...</th>\n",
       "      <th>FOREIGN_WORKER_ALT_OCC_EXP</th>\n",
       "      <th>FOREIGN_WORKER_EXP_WITH_EMPL</th>\n",
       "      <th>FOREIGN_WORKER_EMPL_PAY_FOR_ED</th>\n",
       "      <th>FOREIGN_WORKER_CURR_EMPLOYED</th>\n",
       "      <th>EMPLOYER_COMPLETED_APPLICATION</th>\n",
       "      <th>PREPARER_NAME</th>\n",
       "      <th>PREPARER_TITLE</th>\n",
       "      <th>PREPARER_EMAIL</th>\n",
       "      <th>EMP_INFO_DECL_NAME</th>\n",
       "      <th>EMP_DECL_TITLE</th>\n",
       "    </tr>\n",
       "  </thead>\n",
       "  <tbody>\n",
       "    <tr>\n",
       "      <th>0</th>\n",
       "      <td>A-22262-24149</td>\n",
       "      <td>Withdrawn</td>\n",
       "      <td>2022-10-02</td>\n",
       "      <td>2022-10-02</td>\n",
       "      <td>N</td>\n",
       "      <td>N</td>\n",
       "      <td>Westgate Shellworld Inc</td>\n",
       "      <td>7012 Muncipal Drive</td>\n",
       "      <td>Orlando</td>\n",
       "      <td>FLORIDA</td>\n",
       "      <td>...</td>\n",
       "      <td>Y</td>\n",
       "      <td>N</td>\n",
       "      <td>N</td>\n",
       "      <td>N</td>\n",
       "      <td>N</td>\n",
       "      <td>FRANCES  DELAFUENTE</td>\n",
       "      <td>ATTORNEY</td>\n",
       "      <td>MICHELLE@DLGPA.COM</td>\n",
       "      <td>SAMIA  AHMED</td>\n",
       "      <td>OWNER</td>\n",
       "    </tr>\n",
       "    <tr>\n",
       "      <th>1</th>\n",
       "      <td>A-21187-12839</td>\n",
       "      <td>Certified-Expired</td>\n",
       "      <td>2022-02-03</td>\n",
       "      <td>2022-10-03</td>\n",
       "      <td>N</td>\n",
       "      <td>N</td>\n",
       "      <td>NIKE, INC.</td>\n",
       "      <td>ONE BOWERMAN DRIVE</td>\n",
       "      <td>BEAVERTON</td>\n",
       "      <td>OREGON</td>\n",
       "      <td>...</td>\n",
       "      <td>Y</td>\n",
       "      <td>N</td>\n",
       "      <td>N</td>\n",
       "      <td>Y</td>\n",
       "      <td>N</td>\n",
       "      <td>Chad T Li</td>\n",
       "      <td>Associate Attorney</td>\n",
       "      <td>chad.li@BAL.com</td>\n",
       "      <td>Diana  Loveless</td>\n",
       "      <td>Immigration Program Consultant</td>\n",
       "    </tr>\n",
       "    <tr>\n",
       "      <th>2</th>\n",
       "      <td>A-21327-77110</td>\n",
       "      <td>Denied</td>\n",
       "      <td>2021-11-30</td>\n",
       "      <td>2022-10-03</td>\n",
       "      <td>N</td>\n",
       "      <td>N</td>\n",
       "      <td>RIVERY TECHNOLOGIES INC</td>\n",
       "      <td>500 7TH AVENUE</td>\n",
       "      <td>NEW YORK</td>\n",
       "      <td>NEW YORK</td>\n",
       "      <td>...</td>\n",
       "      <td>Y</td>\n",
       "      <td>N</td>\n",
       "      <td>N</td>\n",
       "      <td>Y</td>\n",
       "      <td>N</td>\n",
       "      <td>Rakhel S Milstein</td>\n",
       "      <td>Attorney</td>\n",
       "      <td>rsm@milsteinlg.com</td>\n",
       "      <td>Aviv  Noy</td>\n",
       "      <td>CoFounder</td>\n",
       "    </tr>\n",
       "    <tr>\n",
       "      <th>3</th>\n",
       "      <td>A-21342-83195</td>\n",
       "      <td>Certified-Expired</td>\n",
       "      <td>2022-02-03</td>\n",
       "      <td>2022-10-03</td>\n",
       "      <td>N</td>\n",
       "      <td>N</td>\n",
       "      <td>ESRI INC.</td>\n",
       "      <td>380 NEW YORK ST.</td>\n",
       "      <td>REDLANDS</td>\n",
       "      <td>CALIFORNIA</td>\n",
       "      <td>...</td>\n",
       "      <td>Y</td>\n",
       "      <td>N</td>\n",
       "      <td>N</td>\n",
       "      <td>Y</td>\n",
       "      <td>N</td>\n",
       "      <td>Jessica L Cross</td>\n",
       "      <td>Attorney</td>\n",
       "      <td>jessica.cross@ogletree.com</td>\n",
       "      <td>Vinesh  Patel</td>\n",
       "      <td>Global Mobility Coordinator</td>\n",
       "    </tr>\n",
       "    <tr>\n",
       "      <th>4</th>\n",
       "      <td>A-21349-86725</td>\n",
       "      <td>Certified-Expired</td>\n",
       "      <td>2022-02-03</td>\n",
       "      <td>2022-10-03</td>\n",
       "      <td>N</td>\n",
       "      <td>N</td>\n",
       "      <td>INGURAN LLC DBA STGENETICS</td>\n",
       "      <td>22575 STATE HWY 6 SOUTH</td>\n",
       "      <td>NAVASOTA</td>\n",
       "      <td>TEXAS</td>\n",
       "      <td>...</td>\n",
       "      <td>Y</td>\n",
       "      <td>N</td>\n",
       "      <td>N</td>\n",
       "      <td>Y</td>\n",
       "      <td>N</td>\n",
       "      <td>Beatriz  Trillos Ballerini</td>\n",
       "      <td>Attorney</td>\n",
       "      <td>perm@tbvisas.com</td>\n",
       "      <td>Steven  Sfamenos</td>\n",
       "      <td>Human Resources Director</td>\n",
       "    </tr>\n",
       "  </tbody>\n",
       "</table>\n",
       "<p>5 rows × 109 columns</p>\n",
       "</div>"
      ],
      "text/plain": [
       "     CASE_NUMBER        CASE_STATUS RECEIVED_DATE DECISION_DATE REFILE   \n",
       "0  A-22262-24149          Withdrawn    2022-10-02    2022-10-02      N  \\\n",
       "1  A-21187-12839  Certified-Expired    2022-02-03    2022-10-03      N   \n",
       "2  A-21327-77110             Denied    2021-11-30    2022-10-03      N   \n",
       "3  A-21342-83195  Certified-Expired    2022-02-03    2022-10-03      N   \n",
       "4  A-21349-86725  Certified-Expired    2022-02-03    2022-10-03      N   \n",
       "\n",
       "  SCHD_A_SHEEPHERDER               EMPLOYER_NAME       EMPLOYER_ADDRESS_1   \n",
       "0                  N     Westgate Shellworld Inc      7012 Muncipal Drive  \\\n",
       "1                  N                  NIKE, INC.       ONE BOWERMAN DRIVE   \n",
       "2                  N     RIVERY TECHNOLOGIES INC           500 7TH AVENUE   \n",
       "3                  N                   ESRI INC.         380 NEW YORK ST.   \n",
       "4                  N  INGURAN LLC DBA STGENETICS  22575 STATE HWY 6 SOUTH   \n",
       "\n",
       "  EMPLOYER_CITY EMPLOYER_STATE_PROVINCE  ... FOREIGN_WORKER_ALT_OCC_EXP   \n",
       "0       Orlando                 FLORIDA  ...                          Y  \\\n",
       "1     BEAVERTON                  OREGON  ...                          Y   \n",
       "2      NEW YORK                NEW YORK  ...                          Y   \n",
       "3      REDLANDS              CALIFORNIA  ...                          Y   \n",
       "4      NAVASOTA                   TEXAS  ...                          Y   \n",
       "\n",
       "  FOREIGN_WORKER_EXP_WITH_EMPL FOREIGN_WORKER_EMPL_PAY_FOR_ED   \n",
       "0                            N                              N  \\\n",
       "1                            N                              N   \n",
       "2                            N                              N   \n",
       "3                            N                              N   \n",
       "4                            N                              N   \n",
       "\n",
       "   FOREIGN_WORKER_CURR_EMPLOYED  EMPLOYER_COMPLETED_APPLICATION   \n",
       "0                             N                               N  \\\n",
       "1                             Y                               N   \n",
       "2                             Y                               N   \n",
       "3                             Y                               N   \n",
       "4                             Y                               N   \n",
       "\n",
       "                PREPARER_NAME      PREPARER_TITLE              PREPARER_EMAIL   \n",
       "0         FRANCES  DELAFUENTE            ATTORNEY          MICHELLE@DLGPA.COM  \\\n",
       "1                   Chad T Li  Associate Attorney             chad.li@BAL.com   \n",
       "2           Rakhel S Milstein            Attorney          rsm@milsteinlg.com   \n",
       "3             Jessica L Cross            Attorney  jessica.cross@ogletree.com   \n",
       "4  Beatriz  Trillos Ballerini            Attorney            perm@tbvisas.com   \n",
       "\n",
       "  EMP_INFO_DECL_NAME                  EMP_DECL_TITLE  \n",
       "0       SAMIA  AHMED                           OWNER  \n",
       "1    Diana  Loveless  Immigration Program Consultant  \n",
       "2          Aviv  Noy                       CoFounder  \n",
       "3      Vinesh  Patel     Global Mobility Coordinator  \n",
       "4   Steven  Sfamenos        Human Resources Director  \n",
       "\n",
       "[5 rows x 109 columns]"
      ]
     },
     "execution_count": 74,
     "metadata": {},
     "output_type": "execute_result"
    }
   ],
   "source": [
    "df.head()"
   ]
  },
  {
   "cell_type": "markdown",
   "id": "09108098-a4c2-4a2f-ab6f-b4ec5aac8975",
   "metadata": {},
   "source": [
    "## Show the columns"
   ]
  },
  {
   "cell_type": "code",
   "execution_count": 75,
   "id": "b93da4e4-11d3-4bb9-986a-af09ae88abad",
   "metadata": {},
   "outputs": [
    {
     "data": {
      "text/plain": [
       "Index(['CASE_NUMBER', 'CASE_STATUS', 'RECEIVED_DATE', 'DECISION_DATE',\n",
       "       'REFILE', 'SCHD_A_SHEEPHERDER', 'EMPLOYER_NAME', 'EMPLOYER_ADDRESS_1',\n",
       "       'EMPLOYER_CITY', 'EMPLOYER_STATE_PROVINCE',\n",
       "       ...\n",
       "       'FOREIGN_WORKER_ALT_OCC_EXP', 'FOREIGN_WORKER_EXP_WITH_EMPL',\n",
       "       'FOREIGN_WORKER_EMPL_PAY_FOR_ED', 'FOREIGN_WORKER_CURR_EMPLOYED',\n",
       "       'EMPLOYER_COMPLETED_APPLICATION', 'PREPARER_NAME', 'PREPARER_TITLE',\n",
       "       'PREPARER_EMAIL', 'EMP_INFO_DECL_NAME', 'EMP_DECL_TITLE'],\n",
       "      dtype='object', length=109)"
      ]
     },
     "execution_count": 75,
     "metadata": {},
     "output_type": "execute_result"
    }
   ],
   "source": [
    "df.columns"
   ]
  },
  {
   "cell_type": "markdown",
   "id": "66a6ef26-0718-40f2-9a38-52120e048bc1",
   "metadata": {},
   "source": [
    "# Analysis Starts"
   ]
  },
  {
   "cell_type": "code",
   "execution_count": 76,
   "id": "2f68be54-28d2-4089-a7b7-e1c49902db18",
   "metadata": {},
   "outputs": [],
   "source": [
    "# Convert 'RECEIVED_DATE' and 'DECISION_DATE' to datetime format\n",
    "df['RECEIVED_DATE'] = pd.to_datetime(df['RECEIVED_DATE'])\n",
    "df['DECISION_DATE'] = pd.to_datetime(df['DECISION_DATE'])\n",
    "\n",
    "# Extract year from 'RECEIVED_DATE' for analyses over the years\n",
    "df['YEAR_RECEIVED'] = df['RECEIVED_DATE'].dt.year\n"
   ]
  },
  {
   "cell_type": "markdown",
   "id": "04d48540-0f4c-44c3-b982-afd56773e280",
   "metadata": {},
   "source": [
    "## Question 1: What is the overall distribution of case statuses?"
   ]
  },
  {
   "cell_type": "code",
   "execution_count": 77,
   "id": "98f129a0-211a-4426-9654-6eb41c6eb90b",
   "metadata": {},
   "outputs": [
    {
     "name": "stdout",
     "output_type": "stream",
     "text": [
      "Distribution of Case Statuses:\n",
      "CASE_STATUS\n",
      "Certified-Expired    97.294118\n",
      "Withdrawn             2.000000\n",
      "Denied                0.705882\n",
      "Name: proportion, dtype: float64\n"
     ]
    }
   ],
   "source": [
    "# Calculate the distribution of case statuses\n",
    "case_status_distribution = df['CASE_STATUS'].value_counts(normalize=True) * 100\n",
    "print(\"Distribution of Case Statuses:\")\n",
    "print(case_status_distribution)\n"
   ]
  },
  {
   "cell_type": "markdown",
   "id": "daaae02f-51aa-4951-9f2d-211514cf933a",
   "metadata": {},
   "source": [
    "## Question 2: How many cases are filed each month?"
   ]
  },
  {
   "cell_type": "code",
   "execution_count": 78,
   "id": "969f9217-5ae1-4344-a7d9-28f6d69a1e92",
   "metadata": {},
   "outputs": [
    {
     "name": "stdout",
     "output_type": "stream",
     "text": [
      "Number of Cases Filed Each Month:\n",
      "RECEIVED_MONTH\n",
      "2021-02      6\n",
      "2021-03      1\n",
      "2021-11     51\n",
      "2022-02    775\n",
      "2022-03      2\n",
      "2022-04      1\n",
      "2022-05      1\n",
      "2022-07      1\n",
      "2022-09     11\n",
      "2022-10      1\n",
      "Freq: M, Name: count, dtype: int64\n"
     ]
    }
   ],
   "source": [
    "# Extract the month from the RECEIVED_DATE and count occurrences\n",
    "df['RECEIVED_MONTH'] = df['RECEIVED_DATE'].dt.to_period('M')\n",
    "monthly_cases = df['RECEIVED_MONTH'].value_counts().sort_index()\n",
    "print(\"Number of Cases Filed Each Month:\")\n",
    "print(monthly_cases)\n"
   ]
  },
  {
   "cell_type": "markdown",
   "id": "16ebc043-6eb8-4ab7-80c9-29c5b765db40",
   "metadata": {},
   "source": [
    "## Question 3: What are the top five employers employing foreign workers?"
   ]
  },
  {
   "cell_type": "code",
   "execution_count": 79,
   "id": "babcfb98-fdd4-491f-8ab4-14d22760428b",
   "metadata": {},
   "outputs": [
    {
     "name": "stdout",
     "output_type": "stream",
     "text": [
      "Top Five Employers Employing Foreign Workers:\n",
      "EMPLOYER_NAME\n",
      "INTEL CORPORATION                                47\n",
      "COGNIZANT TECHNOLOGY SOLUTIONS US CORPORATION    42\n",
      "AMAZON.COM SERVICES LLC                          32\n",
      "MICROSOFT CORPORATION                            28\n",
      "CAPGEMINI AMERICA, INC.                          14\n",
      "Name: count, dtype: int64\n"
     ]
    }
   ],
   "source": [
    "# Count the top five employers in the dataset\n",
    "top_employers = df['EMPLOYER_NAME'].value_counts().head(5)\n",
    "print(\"Top Five Employers Employing Foreign Workers:\")\n",
    "print(top_employers)"
   ]
  },
  {
   "cell_type": "markdown",
   "id": "e032ab3f-17cd-4d96-9b23-6b64d443341d",
   "metadata": {},
   "source": [
    "## Question 4: What is the average processing time for all cases?"
   ]
  },
  {
   "cell_type": "code",
   "execution_count": 80,
   "id": "b70a51d4-93c5-4f19-b010-f9db409499f6",
   "metadata": {},
   "outputs": [
    {
     "name": "stdout",
     "output_type": "stream",
     "text": [
      "Average Processing Time for All Cases (in days):\n",
      "245.52470588235295\n"
     ]
    }
   ],
   "source": [
    "# Calculate processing time by subtracting the received date from the decision date\n",
    "df['PROCESSING_TIME'] = (df['DECISION_DATE'] - df['RECEIVED_DATE']).dt.days\n",
    "average_processing_time = df['PROCESSING_TIME'].mean()\n",
    "print(\"Average Processing Time for All Cases (in days):\")\n",
    "print(average_processing_time)\n"
   ]
  },
  {
   "cell_type": "markdown",
   "id": "e703230a-6bae-4bad-9650-e7a999cbf8d9",
   "metadata": {},
   "source": [
    "## Question 5: Which employer has filed the most cases?"
   ]
  },
  {
   "cell_type": "code",
   "execution_count": 81,
   "id": "d982066a-7d92-4cbd-97e4-b0cc172c7296",
   "metadata": {},
   "outputs": [
    {
     "name": "stdout",
     "output_type": "stream",
     "text": [
      "Employer with the Most Cases:\n",
      "INTEL CORPORATION with 47 cases\n"
     ]
    }
   ],
   "source": [
    "# Count the number of cases filed by each employer\n",
    "top_employer = df['EMPLOYER_NAME'].value_counts().idxmax()\n",
    "cases_count = df['EMPLOYER_NAME'].value_counts().max()\n",
    "print(\"Employer with the Most Cases:\")\n",
    "print(f\"{top_employer} with {cases_count} cases\")\n"
   ]
  },
  {
   "cell_type": "markdown",
   "id": "3b636e98-de2c-4b79-8ca9-5dbdaf9ac6ef",
   "metadata": {},
   "source": [
    "## Question 6: What are the trends in case outcomes over recent years?"
   ]
  },
  {
   "cell_type": "code",
   "execution_count": 82,
   "id": "fff93634-3bae-42fa-b4f7-6628eba6e938",
   "metadata": {},
   "outputs": [
    {
     "name": "stdout",
     "output_type": "stream",
     "text": [
      "Trends in Case Outcomes Over Recent Years:\n",
      "CASE_STATUS    Certified-Expired  Denied  Withdrawn\n",
      "DECISION_YEAR                                      \n",
      "2022                         827       6         17\n"
     ]
    }
   ],
   "source": [
    "# Extract the year from the DECISION_DATE and calculate the outcome trends per year\n",
    "df['DECISION_YEAR'] = df['DECISION_DATE'].dt.year\n",
    "yearly_outcomes = df.pivot_table(index='DECISION_YEAR', columns='CASE_STATUS', aggfunc='size', fill_value=0)\n",
    "print(\"Trends in Case Outcomes Over Recent Years:\")\n",
    "print(yearly_outcomes)\n"
   ]
  },
  {
   "cell_type": "markdown",
   "id": "4aafa761-215c-4847-9258-8bde67988ac1",
   "metadata": {},
   "source": [
    "## Question 7: Which state has the highest number of cases filed?"
   ]
  },
  {
   "cell_type": "code",
   "execution_count": 83,
   "id": "dd4fbaba-c99e-4160-8627-b876cf9e2444",
   "metadata": {},
   "outputs": [
    {
     "name": "stdout",
     "output_type": "stream",
     "text": [
      "State with the Highest Number of Cases Filed:\n",
      "SUITE with 19 cases\n"
     ]
    }
   ],
   "source": [
    "# Assuming 'EMPLOYER_ADDRESS_1' contains state information in a consistent place, e.g., \"City, State, Zip\"\n",
    "df['EMPLOYER_STATE'] = df['EMPLOYER_ADDRESS_1'].str.extract(r',\\s*([^,]+)\\s+\\d+$')  # Regex to extract state\n",
    "top_state = df['EMPLOYER_STATE'].value_counts().idxmax()\n",
    "state_count = df['EMPLOYER_STATE'].value_counts().max()\n",
    "print(\"State with the Highest Number of Cases Filed:\")\n",
    "print(f\"{top_state} with {state_count} cases\")\n"
   ]
  },
  {
   "cell_type": "markdown",
   "id": "32dd99f1-5830-433d-a60d-008fa4c96eab",
   "metadata": {},
   "source": [
    "## Question 8: What is the approval rate for each employer?"
   ]
  },
  {
   "cell_type": "code",
   "execution_count": 84,
   "id": "bc44b265-b444-4c44-bd55-0c4eed334886",
   "metadata": {},
   "outputs": [
    {
     "name": "stdout",
     "output_type": "stream",
     "text": [
      "Approval Rates for Each Employer:\n",
      "EMPLOYER_NAME\n",
      "10X GENOMICS, INC.                          0.0\n",
      "PANASONIC AVIONICS CORPORATION              0.0\n",
      "PMA CONSULTANTS LLC                         0.0\n",
      "PLATIVE INC.                                0.0\n",
      "PIRELLI TIRE LLC                            0.0\n",
      "                                           ... \n",
      "DPR CONSTRUCTION, A GENERAL PARTNERSHIP     0.0\n",
      "DONGWON AUTOPART TECHNOLOGY GEORGIA, LLC    0.0\n",
      "DOMINOS PIZZA INC.                          0.0\n",
      "DOCUSIGN, INC.                              0.0\n",
      "ZoomInfo Technologies, LLC                  0.0\n",
      "Length: 474, dtype: float64\n"
     ]
    }
   ],
   "source": [
    "# Calculate the number of cases that are 'Certified' for each employer\n",
    "certified_counts = df[df['CASE_STATUS'] == 'Certified'].groupby('EMPLOYER_NAME').size()\n",
    "\n",
    "# Calculate the total number of cases for each employer\n",
    "total_counts = df.groupby('EMPLOYER_NAME').size()\n",
    "\n",
    "# Calculate the approval rate\n",
    "approval_rates = (certified_counts / total_counts * 100).fillna(0)  # Fill NaN with 0 to handle divisions by zero\n",
    "\n",
    "print(\"Approval Rates for Each Employer:\")\n",
    "print(approval_rates.sort_values(ascending=False))\n"
   ]
  },
  {
   "cell_type": "markdown",
   "id": "c7151dff-b610-45af-87d4-b134d0bb033c",
   "metadata": {},
   "source": [
    "## Question 9: How do case results vary between industries?"
   ]
  },
  {
   "cell_type": "code",
   "execution_count": 85,
   "id": "23c27012-06d8-48ec-8145-d11e1f9af64c",
   "metadata": {},
   "outputs": [
    {
     "name": "stdout",
     "output_type": "stream",
     "text": [
      "Case Results by Employer (as a proxy for Industry):\n"
     ]
    },
    {
     "data": {
      "text/html": [
       "<div>\n",
       "<style scoped>\n",
       "    .dataframe tbody tr th:only-of-type {\n",
       "        vertical-align: middle;\n",
       "    }\n",
       "\n",
       "    .dataframe tbody tr th {\n",
       "        vertical-align: top;\n",
       "    }\n",
       "\n",
       "    .dataframe thead th {\n",
       "        text-align: right;\n",
       "    }\n",
       "</style>\n",
       "<table border=\"1\" class=\"dataframe\">\n",
       "  <thead>\n",
       "    <tr style=\"text-align: right;\">\n",
       "      <th>CASE_STATUS</th>\n",
       "      <th>Certified-Expired</th>\n",
       "      <th>Denied</th>\n",
       "      <th>Withdrawn</th>\n",
       "    </tr>\n",
       "    <tr>\n",
       "      <th>EMPLOYER_NAME</th>\n",
       "      <th></th>\n",
       "      <th></th>\n",
       "      <th></th>\n",
       "    </tr>\n",
       "  </thead>\n",
       "  <tbody>\n",
       "    <tr>\n",
       "      <th>10X GENOMICS, INC.</th>\n",
       "      <td>1</td>\n",
       "      <td>0</td>\n",
       "      <td>0</td>\n",
       "    </tr>\n",
       "    <tr>\n",
       "      <th>196 Enterprises LLC dba K Liquor and Smokes</th>\n",
       "      <td>0</td>\n",
       "      <td>0</td>\n",
       "      <td>1</td>\n",
       "    </tr>\n",
       "    <tr>\n",
       "      <th>3I INFOTECH INC.</th>\n",
       "      <td>3</td>\n",
       "      <td>0</td>\n",
       "      <td>0</td>\n",
       "    </tr>\n",
       "    <tr>\n",
       "      <th>ABBVIE US LLC</th>\n",
       "      <td>1</td>\n",
       "      <td>0</td>\n",
       "      <td>0</td>\n",
       "    </tr>\n",
       "    <tr>\n",
       "      <th>ACCELALPHA INC</th>\n",
       "      <td>2</td>\n",
       "      <td>0</td>\n",
       "      <td>0</td>\n",
       "    </tr>\n",
       "  </tbody>\n",
       "</table>\n",
       "</div>"
      ],
      "text/plain": [
       "CASE_STATUS                                  Certified-Expired  Denied   \n",
       "EMPLOYER_NAME                                                            \n",
       "10X GENOMICS, INC.                                           1       0  \\\n",
       "196 Enterprises LLC dba K Liquor and Smokes                  0       0   \n",
       "3I INFOTECH INC.                                             3       0   \n",
       "ABBVIE US LLC                                                1       0   \n",
       "ACCELALPHA INC                                               2       0   \n",
       "\n",
       "CASE_STATUS                                  Withdrawn  \n",
       "EMPLOYER_NAME                                           \n",
       "10X GENOMICS, INC.                                   0  \n",
       "196 Enterprises LLC dba K Liquor and Smokes          1  \n",
       "3I INFOTECH INC.                                     0  \n",
       "ABBVIE US LLC                                        0  \n",
       "ACCELALPHA INC                                       0  "
      ]
     },
     "execution_count": 85,
     "metadata": {},
     "output_type": "execute_result"
    }
   ],
   "source": [
    "# Calculate case results by employer which serves as a proxy for industry\n",
    "employer_outcomes = df.pivot_table(index='EMPLOYER_NAME', columns='CASE_STATUS', aggfunc='size', fill_value=0)\n",
    "print(\"Case Results by Employer (as a proxy for Industry):\")\n",
    "employer_outcomes.head()  # Displaying the head to avoid too large output"
   ]
  },
  {
   "cell_type": "markdown",
   "id": "80218918-1ee4-4dde-b11e-160bb9e83c6a",
   "metadata": {},
   "source": [
    "## Question 11: What are the common job titles for which foreign workers are hired?"
   ]
  },
  {
   "cell_type": "code",
   "execution_count": 86,
   "id": "94e6ce55-252d-4c92-b5b7-858ed0078290",
   "metadata": {},
   "outputs": [
    {
     "name": "stdout",
     "output_type": "stream",
     "text": [
      "Common Job Titles for Which Foreign Workers are Hired:\n",
      "JOB_TITLE\n",
      "Software Engineer                    58\n",
      "Systems Analyst/Developer B          31\n",
      "Software Developer                   25\n",
      "Software Development Engineer II     20\n",
      "Component Design Engineer            15\n",
      "TRUCK DRIVER                         14\n",
      "SOFTWARE DEVELOPER                   13\n",
      "Senior Software Engineer             11\n",
      "Systems Analyst/Developer C          11\n",
      "Manager III, Software Development    10\n",
      "Name: count, dtype: int64\n"
     ]
    }
   ],
   "source": [
    "# Calculate the frequency of job titles\n",
    "common_job_titles = df['JOB_TITLE'].value_counts().head(10)\n",
    "print(\"Common Job Titles for Which Foreign Workers are Hired:\")\n",
    "print(common_job_titles)\n"
   ]
  },
  {
   "cell_type": "markdown",
   "id": "44b850b8-2c31-45bf-ab91-b80af3d8fa38",
   "metadata": {},
   "source": [
    "## Question 12: How many cases involve refile, and what are their outcomes?"
   ]
  },
  {
   "cell_type": "code",
   "execution_count": 87,
   "id": "0d925b56-ccad-4a1b-b65a-272bdfe6a246",
   "metadata": {},
   "outputs": [
    {
     "name": "stdout",
     "output_type": "stream",
     "text": [
      "Outcomes of Cases Involving Refile:\n",
      "CASE_STATUS\n",
      "Certified-Expired    0\n",
      "Denied               0\n",
      "Withdrawn            0\n",
      "Name: count, dtype: int64\n"
     ]
    }
   ],
   "source": [
    "# Filter cases involving refile and count their outcomes\n",
    "refile_cases_outcomes = df[df['REFILE'] == 'Y']['CASE_STATUS'].value_counts()\n",
    "print(\"Outcomes of Cases Involving Refile:\")\n",
    "print(refile_cases_outcomes)\n"
   ]
  },
  {
   "cell_type": "markdown",
   "id": "bccd8f00-527d-479b-9bb3-5598ac3c55a6",
   "metadata": {},
   "source": [
    "## Question 13: What percentage of cases are for \"Sheepherder\" occupations?"
   ]
  },
  {
   "cell_type": "code",
   "execution_count": 88,
   "id": "fba9c2e1-3868-45b0-a223-fb2c4b11ef72",
   "metadata": {},
   "outputs": [
    {
     "name": "stdout",
     "output_type": "stream",
     "text": [
      "Percentage of Cases for Sheepherder Occupations:\n",
      "0.00%\n"
     ]
    }
   ],
   "source": [
    "# Calculate the percentage of cases for sheepherder occupations\n",
    "sheepherder_cases_percentage = (df['SCHD_A_SHEEPHERDER'] == 'Y').mean() * 100\n",
    "print(\"Percentage of Cases for Sheepherder Occupations:\")\n",
    "print(f\"{sheepherder_cases_percentage:.2f}%\")\n"
   ]
  },
  {
   "cell_type": "markdown",
   "id": "edc7b3e0-1ca9-4b95-b8d6-dd17aa56aa55",
   "metadata": {},
   "source": [
    "## Question 14: Are there seasonal trends in case filings or outcomes?"
   ]
  },
  {
   "cell_type": "code",
   "execution_count": 89,
   "id": "993d223d-e7b4-4ac8-bf9b-2d586ee51a51",
   "metadata": {},
   "outputs": [
    {
     "name": "stdout",
     "output_type": "stream",
     "text": [
      "Seasonal Trends in Case Filings:\n",
      "MONTH_RECEIVED\n",
      "2     781\n",
      "3       3\n",
      "4       1\n",
      "5       1\n",
      "7       1\n",
      "9      11\n",
      "10      1\n",
      "11     51\n",
      "Name: count, dtype: int64\n"
     ]
    }
   ],
   "source": [
    "# Extract month from RECEIVED_DATE and analyze filings by month\n",
    "df['MONTH_RECEIVED'] = df['RECEIVED_DATE'].dt.month\n",
    "seasonal_trends = df['MONTH_RECEIVED'].value_counts().sort_index()\n",
    "print(\"Seasonal Trends in Case Filings:\")\n",
    "print(seasonal_trends)\n"
   ]
  },
  {
   "cell_type": "markdown",
   "id": "b210b12c-7b63-41ee-a6e5-a9743c693059",
   "metadata": {},
   "source": [
    "## Question 15: What is the geographic distribution of foreign workers' intended workplaces?"
   ]
  },
  {
   "cell_type": "code",
   "execution_count": 90,
   "id": "be817817-9736-4951-8ee0-e0eee63d90e5",
   "metadata": {},
   "outputs": [
    {
     "name": "stdout",
     "output_type": "stream",
     "text": [
      "Geographic Distribution of Foreign Workers' Intended Workplaces:\n",
      "WORKSITE_STATE\n",
      "CALIFORNIA              176\n",
      "TEXAS                   108\n",
      "WASHINGTON               76\n",
      "NEW YORK                 64\n",
      "NEW JERSEY               47\n",
      "FLORIDA                  42\n",
      "ILLINOIS                 38\n",
      "MASSACHUSETTS            35\n",
      "VIRGINIA                 30\n",
      "MICHIGAN                 24\n",
      "GEORGIA                  23\n",
      "TENNESSEE                20\n",
      "OREGON                   17\n",
      "NORTH CAROLINA           16\n",
      "ARIZONA                  14\n",
      "ARKANSAS                 12\n",
      "INDIANA                  11\n",
      "WISCONSIN                10\n",
      "MISSOURI                  9\n",
      "PENNSYLVANIA              9\n",
      "MARYLAND                  9\n",
      "MINNESOTA                 8\n",
      "OHIO                      7\n",
      "CONNECTICUT               6\n",
      "DISTRICT OF COLUMBIA      4\n",
      "LOUISIANA                 4\n",
      "IOWA                      4\n",
      "NEVADA                    4\n",
      "COLORADO                  3\n",
      "UTAH                      3\n",
      "ALABAMA                   2\n",
      "MAINE                     2\n",
      "KENTUCKY                  2\n",
      "NEW MEXICO                2\n",
      "SOUTH CAROLINA            2\n",
      "KANSAS                    1\n",
      "DELAWARE                  1\n",
      "MONTANA                   1\n",
      "NEBRASKA                  1\n",
      "MISSISSIPPI               1\n",
      "SOUTH DAKOTA              1\n",
      "WEST VIRGINIA             1\n",
      "Name: count, dtype: int64\n"
     ]
    }
   ],
   "source": [
    "# Count cases by worksite state\n",
    "geographic_distribution = df['WORKSITE_STATE'].value_counts()\n",
    "print(\"Geographic Distribution of Foreign Workers' Intended Workplaces:\")\n",
    "print(geographic_distribution)\n"
   ]
  },
  {
   "cell_type": "markdown",
   "id": "33d8b9bb-eae1-423f-916c-128a369f15b5",
   "metadata": {},
   "source": [
    "## Question 16: How many employers are involved in agricultural vs. non-agricultural sectors?"
   ]
  },
  {
   "cell_type": "code",
   "execution_count": 91,
   "id": "1b816ba3-bfff-4af8-85c8-20c10a3d93ee",
   "metadata": {},
   "outputs": [
    {
     "name": "stdout",
     "output_type": "stream",
     "text": [
      "Number of Employers in Agricultural vs. Non-Agricultural Sectors:\n",
      "SECTOR\n",
      "Non-Agricultural    850\n",
      "Name: count, dtype: int64\n"
     ]
    }
   ],
   "source": [
    "# Dummy example, adjust based on actual data or indicator available\n",
    "df['SECTOR'] = df['JOB_TITLE'].apply(lambda x: 'Agricultural' if 'Farm' in x else 'Non-Agricultural')\n",
    "sector_counts = df['SECTOR'].value_counts()\n",
    "print(\"Number of Employers in Agricultural vs. Non-Agricultural Sectors:\")\n",
    "print(sector_counts)\n"
   ]
  },
  {
   "cell_type": "markdown",
   "id": "237f63e7-8603-4258-860d-e419f092fb52",
   "metadata": {},
   "source": [
    "## Question 17: Which preparer firms handle the most cases and their success rates?"
   ]
  },
  {
   "cell_type": "code",
   "execution_count": 92,
   "id": "5c2acc15-2755-4f27-af54-ccda46383bd6",
   "metadata": {},
   "outputs": [
    {
     "name": "stdout",
     "output_type": "stream",
     "text": [
      "Top Preparer Firms Case Counts:\n",
      "PREPARER_NAME\n",
      "Tara  Williams         47\n",
      "Jenny  Nieves          16\n",
      "ERIK  BLADINIERES      14\n",
      "Mariana  Kulikowska    12\n",
      "THOMAS V ALLEN         11\n",
      "Name: count, dtype: int64\n",
      "Top Preparer Firms and Their Success Rates:\n",
      "PREPARER_NAME\n",
      "ERIK  BLADINIERES      0.0\n",
      "Jenny  Nieves          0.0\n",
      "Mariana  Kulikowska    0.0\n",
      "THOMAS V ALLEN         0.0\n",
      "Tara  Williams         0.0\n",
      "dtype: float64\n"
     ]
    }
   ],
   "source": [
    "# Ensure 'PREPARER_NAME' does not have any leading/trailing spaces and handle empty entries\n",
    "df['PREPARER_NAME'] = df['PREPARER_NAME'].str.strip()\n",
    "df['PREPARER_NAME'].replace('', np.nan, inplace=True)  # Replace empty strings with NaN\n",
    "df.dropna(subset=['PREPARER_NAME'], inplace=True)  # Drop rows where 'PREPARER_NAME' is NaN\n",
    "\n",
    "# Calculate the number of cases handled by each preparer firm\n",
    "preparer_case_counts = df['PREPARER_NAME'].value_counts().head(5)\n",
    "print(\"Top Preparer Firms Case Counts:\")\n",
    "print(preparer_case_counts)\n",
    "\n",
    "# Calculate the success rates\n",
    "certified_cases = df[df['CASE_STATUS'] == 'Certified'].groupby('PREPARER_NAME').size()\n",
    "total_cases = df.groupby('PREPARER_NAME').size()\n",
    "\n",
    "# Safe division and filling NaN with 0 where there are no certified cases\n",
    "success_rate = (certified_cases.reindex(total_cases.index, fill_value=0) / total_cases * 100).fillna(0)\n",
    "\n",
    "# Extract the success rates for the top firms, ensuring we only look at those that exist in the success rate index\n",
    "top_preparer_success_rates = success_rate[success_rate.index.isin(preparer_case_counts.index)]\n",
    "print(\"Top Preparer Firms and Their Success Rates:\")\n",
    "print(top_preparer_success_rates.sort_values(ascending=False))\n"
   ]
  },
  {
   "cell_type": "markdown",
   "id": "32528952-27c3-45b9-b418-cb17fa2e03c2",
   "metadata": {},
   "source": [
    "## Question 18: How often is foreign worker experience with the employing company mentioned?"
   ]
  },
  {
   "cell_type": "code",
   "execution_count": 93,
   "id": "fcc75ac4-a54d-4527-b26f-f9f3bed021f9",
   "metadata": {},
   "outputs": [
    {
     "name": "stdout",
     "output_type": "stream",
     "text": [
      "Frequency of Foreign Worker Experience with Employing Company Mentioned:\n",
      "FOREIGN_WORKER_EXP_WITH_EMPL\n",
      "N    777\n",
      "Y      2\n",
      "Name: count, dtype: int64\n"
     ]
    }
   ],
   "source": [
    "# Calculate frequency of mentions of foreign worker experience with employer\n",
    "experience_with_employer = df['FOREIGN_WORKER_EXP_WITH_EMPL'].value_counts()\n",
    "print(\"Frequency of Foreign Worker Experience with Employing Company Mentioned:\")\n",
    "print(experience_with_employer)\n"
   ]
  },
  {
   "cell_type": "markdown",
   "id": "14b8385c-7aeb-4fd9-b208-717574172527",
   "metadata": {},
   "source": [
    "## Question 19: What are the trends in the educational requirements for the positions?"
   ]
  },
  {
   "cell_type": "code",
   "execution_count": 94,
   "id": "e701478a-a1ee-4b5a-94fb-81e4221afe38",
   "metadata": {},
   "outputs": [
    {
     "name": "stdout",
     "output_type": "stream",
     "text": [
      "Trends in Educational Requirements for Positions:\n",
      "MINIMUM_EDUCATION\n",
      "Master's       424\n",
      "Bachelor's     305\n",
      "Doctorate       23\n",
      "High School     13\n",
      "Other           11\n",
      "Associate's      3\n",
      "Name: count, dtype: int64\n"
     ]
    }
   ],
   "source": [
    "# Analyze the trends in educational requirements using the 'MINIMUM_EDUCATION' column\n",
    "education_trends = df['MINIMUM_EDUCATION'].value_counts()\n",
    "print(\"Trends in Educational Requirements for Positions:\")\n",
    "print(education_trends)\n",
    "\n"
   ]
  },
  {
   "cell_type": "markdown",
   "id": "d3281ca7-aea1-4503-8ca8-9ec1f97ad302",
   "metadata": {},
   "source": [
    "## Question 20: How do the salaries offered compare to national averages for similar roles?"
   ]
  },
  {
   "cell_type": "code",
   "execution_count": 95,
   "id": "ecf98607-86ab-4f74-9798-775d1f7a6717",
   "metadata": {},
   "outputs": [
    {
     "name": "stdout",
     "output_type": "stream",
     "text": [
      "Comparison of Offered Salaries to National Averages:\n",
      "Average Offered Salary: $114551.54\n",
      "National Average for Similar Roles: $50000\n"
     ]
    }
   ],
   "source": [
    "# Calculate the average offered salary using the 'WAGE_OFFER_FROM' column\n",
    "average_salary = df['WAGE_OFFER_FROM'].mean()\n",
    "\n",
    "# Assuming a national average salary for similar roles (this should be fetched from an external source or based on industry data)\n",
    "national_average = 50000  # Adjust this value based on relevant data\n",
    "\n",
    "print(\"Comparison of Offered Salaries to National Averages:\")\n",
    "print(f\"Average Offered Salary: ${average_salary:.2f}\")\n",
    "print(f\"National Average for Similar Roles: ${national_average}\")\n",
    "\n"
   ]
  },
  {
   "cell_type": "code",
   "execution_count": null,
   "id": "21653602-46d4-4719-a094-5285573ed9c4",
   "metadata": {},
   "outputs": [],
   "source": []
  },
  {
   "cell_type": "markdown",
   "id": "125905f3-d7a5-49ac-ac81-9bac3a8fe35b",
   "metadata": {},
   "source": [
    "-------------"
   ]
  },
  {
   "cell_type": "markdown",
   "id": "7a066102-10dc-424f-822f-00a2522ec2c5",
   "metadata": {},
   "source": [
    "# Visualizations"
   ]
  },
  {
   "cell_type": "markdown",
   "id": "226a64bc-0d9f-4f8a-94cd-94107f0db9c1",
   "metadata": {},
   "source": [
    "## Question 1: How has the demand for foreign workers changed over the last five years across different sectors?"
   ]
  },
  {
   "cell_type": "code",
   "execution_count": 100,
   "id": "8fcc6b05-49db-4998-abd1-d9df55239cdc",
   "metadata": {},
   "outputs": [],
   "source": [
    "# Convert 'RECEIVED_DATE' and 'DECISION_DATE' to datetime format\n",
    "df['RECEIVED_DATE'] = pd.to_datetime(df['RECEIVED_DATE'])\n",
    "df['DECISION_DATE'] = pd.to_datetime(df['DECISION_DATE'])\n",
    "\n",
    "# Extract year from 'RECEIVED_DATE' for analyses over the years\n",
    "df['YEAR_RECEIVED'] = df['RECEIVED_DATE'].dt.year"
   ]
  },
  {
   "cell_type": "code",
   "execution_count": 111,
   "id": "c3be13d1-a26b-4d62-8100-6722d36f862b",
   "metadata": {},
   "outputs": [
    {
     "data": {
      "image/png": "[encoded data removed]",
      "text/plain": [
       "<Figure size 1400x800 with 1 Axes>"
      ]
     },
     "metadata": {},
     "output_type": "display_data"
    }
   ],
   "source": [
    "# Filter df for the last five years\n",
    "recent_data = df[df['YEAR_RECEIVED'] >= df['YEAR_RECEIVED'].max() - 5]\n",
    "\n",
    "\n",
    "# Identify top employers in terms of number of applications filed\n",
    "top_employers = recent_data['EMPLOYER_NAME'].value_counts().nlargest(10).index\n",
    "\n",
    "# Filter data to include only the top employers\n",
    "top_employer_data = recent_data[recent_data['EMPLOYER_NAME'].isin(top_employers)]\n",
    "\n",
    "# Group by year and employer to count the number of applications\n",
    "employer_demand_over_time = top_employer_data.groupby(['YEAR_RECEIVED', 'EMPLOYER_NAME']).size().unstack(fill_value=0)\n",
    "\n",
    "# Plot the data\n",
    "plt.figure(figsize=(14, 8))\n",
    "sns.lineplot(data=employer_demand_over_time, markers=True, dashes=False)\n",
    "plt.title('Demand for Foreign Workers Over the Last Five Years by Top Employers')\n",
    "plt.ylabel('Number of Applications')\n",
    "plt.xlabel('Year')\n",
    "plt.xticks(sorted(recent_data['YEAR_RECEIVED'].unique()))  # Ensure all years are shown\n",
    "plt.legend(title='Employer', title_fontsize='13', fontsize='11', loc='upper left')\n",
    "plt.grid(True)\n",
    "plt.show()\n"
   ]
  },
  {
   "cell_type": "code",
   "execution_count": null,
   "id": "3434a91d-19ac-4642-ba43-81b9115b7d94",
   "metadata": {},
   "outputs": [],
   "source": []
  },
  {
   "cell_type": "code",
   "execution_count": 115,
   "id": "1e95c016-14b6-42fc-9400-00eebe2cd595",
   "metadata": {},
   "outputs": [
    {
     "data": {
      "image/png": "[encoded data removed]",
      "text/plain": [
       "<Figure size 1200x1000 with 2 Axes>"
      ]
     },
     "metadata": {},
     "output_type": "display_data"
    }
   ],
   "source": [
    "# Classify 'EMPLOYER_NAME' into categories based on application volume\n",
    "employer_counts = df['EMPLOYER_NAME'].value_counts()\n",
    "df['EMPLOYER_CATEGORY'] = df['EMPLOYER_NAME'].apply(lambda x: 'High' if employer_counts[x] > 100 else ('Medium' if employer_counts[x] > 50 else 'Low'))\n",
    "\n",
    "# Group data by employer category and city, and count the number of applications\n",
    "city_employment = df.groupby(['EMPLOYER_CITY', 'EMPLOYER_CATEGORY']).size().reset_index(name='COUNT')\n",
    "\n",
    "# Pivot the data\n",
    "pivot_table = city_employment.pivot(index='EMPLOYER_CITY', columns='EMPLOYER_CATEGORY', values='COUNT')\n",
    "pivot_table = pivot_table.fillna(0)  # Fill NaN with 0\n",
    "\n",
    "# Make sure that the 'High' column exists even if it's all zeros\n",
    "pivot_table['High'] = pivot_table.get('High', pd.Series([0]*pivot_table.shape[0]))\n",
    "\n",
    "# Sorting the cities by 'High' volume category for better insight into top cities\n",
    "pivot_table_sorted = pivot_table.sort_values(by='High', ascending=False)\n",
    "\n",
    "# Visualizing the top cities for each employer category\n",
    "plt.figure(figsize=(12, 10))\n",
    "sns.heatmap(pivot_table_sorted.head(20), annot=True, fmt=\".0f\", cmap='viridis')\n",
    "plt.title('Top Cities for Foreign Worker Employment by Employer Category')\n",
    "plt.ylabel('City')\n",
    "plt.xlabel('Employer Application Volume Category')\n",
    "plt.show()\n"
   ]
  },
  {
   "cell_type": "code",
   "execution_count": null,
   "id": "10a2e3ba-c654-4288-aca5-4dbb91969c6c",
   "metadata": {},
   "outputs": [],
   "source": []
  },
  {
   "cell_type": "code",
   "execution_count": null,
   "id": "7595c5c0-66fd-4323-8110-7ba99cccb1ce",
   "metadata": {},
   "outputs": [],
   "source": []
  },
  {
   "cell_type": "code",
   "execution_count": null,
   "id": "e709b6f2-7aef-4547-be4a-294e67e23187",
   "metadata": {},
   "outputs": [],
   "source": []
  },
  {
   "cell_type": "code",
   "execution_count": null,
   "id": "bc9e210f-d835-4aae-9610-22378cb5db55",
   "metadata": {},
   "outputs": [],
   "source": []
  },
  {
   "cell_type": "code",
   "execution_count": null,
   "id": "201580bd-f903-4e70-8d26-196d883117c7",
   "metadata": {},
   "outputs": [],
   "source": []
  },
  {
   "cell_type": "code",
   "execution_count": null,
   "id": "2d4e2fd7-ee4d-458d-a618-4f75bc55d8bc",
   "metadata": {},
   "outputs": [],
   "source": []
  },
  {
   "cell_type": "code",
   "execution_count": null,
   "id": "2fb0279c-909b-4c0e-8de0-eb4ed855dd87",
   "metadata": {},
   "outputs": [],
   "source": []
  },
  {
   "cell_type": "code",
   "execution_count": null,
   "id": "8ea82ce9-3028-4759-bc3a-4d9606415d8b",
   "metadata": {},
   "outputs": [],
   "source": []
  },
  {
   "cell_type": "code",
   "execution_count": null,
   "id": "54d118ca-aa46-42ba-8bc1-fdfffeb87d72",
   "metadata": {},
   "outputs": [],
   "source": []
  },
  {
   "cell_type": "code",
   "execution_count": null,
   "id": "f44fba30-c566-418e-9557-d34624b06eca",
   "metadata": {},
   "outputs": [],
   "source": []
  },
  {
   "cell_type": "code",
   "execution_count": null,
   "id": "6ede163e-bb3f-4c0c-b139-e71049de023a",
   "metadata": {},
   "outputs": [],
   "source": []
  },
  {
   "cell_type": "code",
   "execution_count": null,
   "id": "eb2f9e9a-c369-42bd-bafd-a7591cec1daa",
   "metadata": {},
   "outputs": [],
   "source": []
  },
  {
   "cell_type": "code",
   "execution_count": null,
   "id": "f56700d3-81ac-45ad-accf-026f4be1185e",
   "metadata": {},
   "outputs": [],
   "source": []
  },
  {
   "cell_type": "code",
   "execution_count": null,
   "id": "fdd7996a-522c-4d70-983d-47db04a10fa5",
   "metadata": {},
   "outputs": [],
   "source": []
  },
  {
   "cell_type": "code",
   "execution_count": null,
   "id": "4373144e-374f-4cf2-a708-9c1115445814",
   "metadata": {},
   "outputs": [],
   "source": []
  },
  {
   "cell_type": "code",
   "execution_count": null,
   "id": "8b005923-480f-4392-aa5f-da38ace55e63",
   "metadata": {},
   "outputs": [],
   "source": []
  },
  {
   "cell_type": "code",
   "execution_count": null,
   "id": "8feb3a3a-6090-4972-b7c2-79109e841cd2",
   "metadata": {},
   "outputs": [],
   "source": []
  },
  {
   "cell_type": "code",
   "execution_count": null,
   "id": "672b2182-0c7f-4254-8bdf-5201311faf70",
   "metadata": {},
   "outputs": [],
   "source": []
  },
  {
   "cell_type": "code",
   "execution_count": null,
   "id": "9757419b-ab5a-4869-add2-b3e25865472f",
   "metadata": {},
   "outputs": [],
   "source": []
  },
  {
   "cell_type": "code",
   "execution_count": null,
   "id": "46d99cba-961b-4027-a8b7-7d8285d23ea8",
   "metadata": {},
   "outputs": [],
   "source": []
  },
  {
   "cell_type": "code",
   "execution_count": null,
   "id": "b6f0cdb3-3878-422d-9a74-4e367fd5e8ee",
   "metadata": {},
   "outputs": [],
   "source": []
  },
  {
   "cell_type": "code",
   "execution_count": null,
   "id": "954563ca-2df8-462f-a6f0-ebcc93159fff",
   "metadata": {},
   "outputs": [],
   "source": []
  },
  {
   "cell_type": "code",
   "execution_count": null,
   "id": "b1ea1911-f6fe-4408-abc3-e0358aa2cc82",
   "metadata": {},
   "outputs": [],
   "source": []
  },
  {
   "cell_type": "code",
   "execution_count": null,
   "id": "4408ca1d-f1c1-40b9-bedf-7c55d83d5706",
   "metadata": {},
   "outputs": [],
   "source": []
  },
  {
   "cell_type": "code",
   "execution_count": null,
   "id": "d27120c0-1ac2-428b-a431-508ec55e0543",
   "metadata": {},
   "outputs": [],
   "source": []
  },
  {
   "cell_type": "code",
   "execution_count": null,
   "id": "8bae7319-3aab-4358-bec1-855f6a1a6d65",
   "metadata": {},
   "outputs": [],
   "source": []
  },
  {
   "cell_type": "code",
   "execution_count": null,
   "id": "e3c1e565-1aa1-4a5f-915b-de2c72f32673",
   "metadata": {},
   "outputs": [],
   "source": []
  },
  {
   "cell_type": "code",
   "execution_count": null,
   "id": "2819c2fe-42c1-4012-8a57-03fdbdbe4870",
   "metadata": {},
   "outputs": [],
   "source": []
  },
  {
   "cell_type": "code",
   "execution_count": null,
   "id": "515fb24b-ebda-4317-bfa8-2fd4c7927232",
   "metadata": {},
   "outputs": [],
   "source": []
  }
 ],
 "metadata": {
  "kernelspec": {
   "display_name": "Python 3 (ipykernel)",
   "language": "python",
   "name": "python3"
  },
  "language_info": {
   "codemirror_mode": {
    "name": "ipython",
    "version": 3
   },
   "file_extension": ".py",
   "mimetype": "text/x-python",
   "name": "python",
   "nbconvert_exporter": "python",
   "pygments_lexer": "ipython3",
   "version": "3.11.2"
  }
 },
 "nbformat": 4,
 "nbformat_minor": 5
}
