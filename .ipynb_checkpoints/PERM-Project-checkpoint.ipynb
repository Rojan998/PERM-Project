{
 "cells": [
  {
   "cell_type": "code",
   "execution_count": 63,
   "id": "83d7a376-4987-4505-b9e5-53c93528ff2a",
   "metadata": {},
   "outputs": [],
   "source": [
    "# Importing Libraries\n",
    "import pandas as pd\n",
    "import numpy as np\n",
    "import seaborn as sns\n",
    "import matplotlib.pyplot as plt"
   ]
  },
  {
   "cell_type": "code",
   "execution_count": 4,
   "id": "81aa7293-d273-4e4b-8d39-fa74d4fa42e0",
   "metadata": {},
   "outputs": [
    {
     "data": {
      "text/html": [
       "<div>\n",
       "<style scoped>\n",
       "    .dataframe tbody tr th:only-of-type {\n",
       "        vertical-align: middle;\n",
       "    }\n",
       "\n",
       "    .dataframe tbody tr th {\n",
       "        vertical-align: top;\n",
       "    }\n",
       "\n",
       "    .dataframe thead th {\n",
       "        text-align: right;\n",
       "    }\n",
       "</style>\n",
       "<table border=\"1\" class=\"dataframe\">\n",
       "  <thead>\n",
       "    <tr style=\"text-align: right;\">\n",
       "      <th></th>\n",
       "      <th>CASE_NUMBER</th>\n",
       "      <th>CASE_STATUS</th>\n",
       "      <th>RECEIVED_DATE</th>\n",
       "      <th>DECISION_DATE</th>\n",
       "      <th>REFILE</th>\n",
       "      <th>ORIG_FILE_DATE</th>\n",
       "      <th>PREVIOUS_SWA_CASE_NUMBER_STATE</th>\n",
       "      <th>SCHD_A_SHEEPHERDER</th>\n",
       "      <th>EMPLOYER_NAME</th>\n",
       "      <th>EMPLOYER_ADDRESS_1</th>\n",
       "      <th>...</th>\n",
       "      <th>FOREIGN_WORKER_ALT_OCC_EXP</th>\n",
       "      <th>FOREIGN_WORKER_EXP_WITH_EMPL</th>\n",
       "      <th>FOREIGN_WORKER_EMPL_PAY_FOR_ED</th>\n",
       "      <th>FOREIGN_WORKER_CURR_EMPLOYED</th>\n",
       "      <th>EMPLOYER_COMPLETED_APPLICATION</th>\n",
       "      <th>PREPARER_NAME</th>\n",
       "      <th>PREPARER_TITLE</th>\n",
       "      <th>PREPARER_EMAIL</th>\n",
       "      <th>EMP_INFO_DECL_NAME</th>\n",
       "      <th>EMP_DECL_TITLE</th>\n",
       "    </tr>\n",
       "  </thead>\n",
       "  <tbody>\n",
       "    <tr>\n",
       "      <th>0</th>\n",
       "      <td>A-22262-24149</td>\n",
       "      <td>Withdrawn</td>\n",
       "      <td>2022-10-02</td>\n",
       "      <td>2022-10-02</td>\n",
       "      <td>N</td>\n",
       "      <td>NaT</td>\n",
       "      <td>NaN</td>\n",
       "      <td>N</td>\n",
       "      <td>Westgate Shellworld Inc</td>\n",
       "      <td>7012 Muncipal Drive</td>\n",
       "      <td>...</td>\n",
       "      <td>NaN</td>\n",
       "      <td>NaN</td>\n",
       "      <td>N</td>\n",
       "      <td>N</td>\n",
       "      <td>N</td>\n",
       "      <td>FRANCES  DELAFUENTE</td>\n",
       "      <td>ATTORNEY</td>\n",
       "      <td>MICHELLE@DLGPA.COM</td>\n",
       "      <td>SAMIA  AHMED</td>\n",
       "      <td>OWNER</td>\n",
       "    </tr>\n",
       "    <tr>\n",
       "      <th>1</th>\n",
       "      <td>A-21187-12839</td>\n",
       "      <td>Certified-Expired</td>\n",
       "      <td>2022-02-03</td>\n",
       "      <td>2022-10-03</td>\n",
       "      <td>N</td>\n",
       "      <td>NaT</td>\n",
       "      <td>NaN</td>\n",
       "      <td>N</td>\n",
       "      <td>NIKE, INC.</td>\n",
       "      <td>ONE BOWERMAN DRIVE</td>\n",
       "      <td>...</td>\n",
       "      <td>Y</td>\n",
       "      <td>N</td>\n",
       "      <td>N</td>\n",
       "      <td>Y</td>\n",
       "      <td>N</td>\n",
       "      <td>Chad T Li</td>\n",
       "      <td>Associate Attorney</td>\n",
       "      <td>chad.li@BAL.com</td>\n",
       "      <td>Diana  Loveless</td>\n",
       "      <td>Immigration Program Consultant</td>\n",
       "    </tr>\n",
       "    <tr>\n",
       "      <th>2</th>\n",
       "      <td>A-21327-77110</td>\n",
       "      <td>Denied</td>\n",
       "      <td>2021-11-30</td>\n",
       "      <td>2022-10-03</td>\n",
       "      <td>N</td>\n",
       "      <td>NaT</td>\n",
       "      <td>NaN</td>\n",
       "      <td>N</td>\n",
       "      <td>RIVERY TECHNOLOGIES INC</td>\n",
       "      <td>500 7TH AVENUE</td>\n",
       "      <td>...</td>\n",
       "      <td>Y</td>\n",
       "      <td>N</td>\n",
       "      <td>N</td>\n",
       "      <td>Y</td>\n",
       "      <td>N</td>\n",
       "      <td>Rakhel S Milstein</td>\n",
       "      <td>Attorney</td>\n",
       "      <td>rsm@milsteinlg.com</td>\n",
       "      <td>Aviv  Noy</td>\n",
       "      <td>CoFounder</td>\n",
       "    </tr>\n",
       "    <tr>\n",
       "      <th>3</th>\n",
       "      <td>A-21342-83195</td>\n",
       "      <td>Certified-Expired</td>\n",
       "      <td>2022-02-03</td>\n",
       "      <td>2022-10-03</td>\n",
       "      <td>N</td>\n",
       "      <td>NaT</td>\n",
       "      <td>NaN</td>\n",
       "      <td>N</td>\n",
       "      <td>ESRI INC.</td>\n",
       "      <td>380 NEW YORK ST.</td>\n",
       "      <td>...</td>\n",
       "      <td>Y</td>\n",
       "      <td>N</td>\n",
       "      <td>N</td>\n",
       "      <td>Y</td>\n",
       "      <td>N</td>\n",
       "      <td>Jessica L Cross</td>\n",
       "      <td>Attorney</td>\n",
       "      <td>jessica.cross@ogletree.com</td>\n",
       "      <td>Vinesh  Patel</td>\n",
       "      <td>Global Mobility Coordinator</td>\n",
       "    </tr>\n",
       "    <tr>\n",
       "      <th>4</th>\n",
       "      <td>A-21349-86725</td>\n",
       "      <td>Certified-Expired</td>\n",
       "      <td>2022-02-03</td>\n",
       "      <td>2022-10-03</td>\n",
       "      <td>N</td>\n",
       "      <td>NaT</td>\n",
       "      <td>NaN</td>\n",
       "      <td>N</td>\n",
       "      <td>INGURAN LLC DBA STGENETICS</td>\n",
       "      <td>22575 STATE HWY 6 SOUTH</td>\n",
       "      <td>...</td>\n",
       "      <td>NaN</td>\n",
       "      <td>N</td>\n",
       "      <td>N</td>\n",
       "      <td>Y</td>\n",
       "      <td>N</td>\n",
       "      <td>Beatriz  Trillos Ballerini</td>\n",
       "      <td>Attorney</td>\n",
       "      <td>perm@tbvisas.com</td>\n",
       "      <td>Steven  Sfamenos</td>\n",
       "      <td>Human Resources Director</td>\n",
       "    </tr>\n",
       "  </tbody>\n",
       "</table>\n",
       "<p>5 rows × 154 columns</p>\n",
       "</div>"
      ],
      "text/plain": [
       "     CASE_NUMBER        CASE_STATUS RECEIVED_DATE DECISION_DATE REFILE   \n",
       "0  A-22262-24149          Withdrawn    2022-10-02    2022-10-02      N  \\\n",
       "1  A-21187-12839  Certified-Expired    2022-02-03    2022-10-03      N   \n",
       "2  A-21327-77110             Denied    2021-11-30    2022-10-03      N   \n",
       "3  A-21342-83195  Certified-Expired    2022-02-03    2022-10-03      N   \n",
       "4  A-21349-86725  Certified-Expired    2022-02-03    2022-10-03      N   \n",
       "\n",
       "  ORIG_FILE_DATE PREVIOUS_SWA_CASE_NUMBER_STATE SCHD_A_SHEEPHERDER   \n",
       "0            NaT                            NaN                  N  \\\n",
       "1            NaT                            NaN                  N   \n",
       "2            NaT                            NaN                  N   \n",
       "3            NaT                            NaN                  N   \n",
       "4            NaT                            NaN                  N   \n",
       "\n",
       "                EMPLOYER_NAME       EMPLOYER_ADDRESS_1  ...   \n",
       "0     Westgate Shellworld Inc      7012 Muncipal Drive  ...  \\\n",
       "1                  NIKE, INC.       ONE BOWERMAN DRIVE  ...   \n",
       "2     RIVERY TECHNOLOGIES INC           500 7TH AVENUE  ...   \n",
       "3                   ESRI INC.         380 NEW YORK ST.  ...   \n",
       "4  INGURAN LLC DBA STGENETICS  22575 STATE HWY 6 SOUTH  ...   \n",
       "\n",
       "  FOREIGN_WORKER_ALT_OCC_EXP FOREIGN_WORKER_EXP_WITH_EMPL   \n",
       "0                        NaN                          NaN  \\\n",
       "1                          Y                            N   \n",
       "2                          Y                            N   \n",
       "3                          Y                            N   \n",
       "4                        NaN                            N   \n",
       "\n",
       "  FOREIGN_WORKER_EMPL_PAY_FOR_ED FOREIGN_WORKER_CURR_EMPLOYED   \n",
       "0                              N                            N  \\\n",
       "1                              N                            Y   \n",
       "2                              N                            Y   \n",
       "3                              N                            Y   \n",
       "4                              N                            Y   \n",
       "\n",
       "  EMPLOYER_COMPLETED_APPLICATION               PREPARER_NAME   \n",
       "0                              N         FRANCES  DELAFUENTE  \\\n",
       "1                              N                   Chad T Li   \n",
       "2                              N           Rakhel S Milstein   \n",
       "3                              N             Jessica L Cross   \n",
       "4                              N  Beatriz  Trillos Ballerini   \n",
       "\n",
       "       PREPARER_TITLE              PREPARER_EMAIL  EMP_INFO_DECL_NAME   \n",
       "0            ATTORNEY          MICHELLE@DLGPA.COM        SAMIA  AHMED  \\\n",
       "1  Associate Attorney             chad.li@BAL.com     Diana  Loveless   \n",
       "2            Attorney          rsm@milsteinlg.com           Aviv  Noy   \n",
       "3            Attorney  jessica.cross@ogletree.com       Vinesh  Patel   \n",
       "4            Attorney            perm@tbvisas.com    Steven  Sfamenos   \n",
       "\n",
       "                   EMP_DECL_TITLE  \n",
       "0                           OWNER  \n",
       "1  Immigration Program Consultant  \n",
       "2                       CoFounder  \n",
       "3     Global Mobility Coordinator  \n",
       "4        Human Resources Director  \n",
       "\n",
       "[5 rows x 154 columns]"
      ]
     },
     "execution_count": 4,
     "metadata": {},
     "output_type": "execute_result"
    }
   ],
   "source": [
    "df = pd.read_excel('D:/UCO_CourseWork/Programing for analytics/ProjectProposal/25___perm.xlsx')\n",
    "# df = df.iloc[:40000]\n",
    "df.head()"
   ]
  },
  {
   "cell_type": "code",
   "execution_count": 5,
   "id": "095d916b-6fa1-48f5-b68c-be9a0b65642d",
   "metadata": {},
   "outputs": [
    {
     "data": {
      "text/plain": [
       "(25000, 154)"
      ]
     },
     "execution_count": 5,
     "metadata": {},
     "output_type": "execute_result"
    }
   ],
   "source": [
    "df.shape"
   ]
  },
  {
   "cell_type": "code",
   "execution_count": 6,
   "id": "5f9be4ff-ad52-41d9-bc92-db6a8e1fa9e8",
   "metadata": {},
   "outputs": [
    {
     "data": {
      "text/plain": [
       "Index(['CASE_NUMBER', 'CASE_STATUS', 'RECEIVED_DATE', 'DECISION_DATE',\n",
       "       'REFILE', 'ORIG_FILE_DATE', 'PREVIOUS_SWA_CASE_NUMBER_STATE',\n",
       "       'SCHD_A_SHEEPHERDER', 'EMPLOYER_NAME', 'EMPLOYER_ADDRESS_1',\n",
       "       ...\n",
       "       'FOREIGN_WORKER_ALT_OCC_EXP', 'FOREIGN_WORKER_EXP_WITH_EMPL',\n",
       "       'FOREIGN_WORKER_EMPL_PAY_FOR_ED', 'FOREIGN_WORKER_CURR_EMPLOYED',\n",
       "       'EMPLOYER_COMPLETED_APPLICATION', 'PREPARER_NAME', 'PREPARER_TITLE',\n",
       "       'PREPARER_EMAIL', 'EMP_INFO_DECL_NAME', 'EMP_DECL_TITLE'],\n",
       "      dtype='object', length=154)"
      ]
     },
     "execution_count": 6,
     "metadata": {},
     "output_type": "execute_result"
    }
   ],
   "source": [
    "# Display the first few rows of the df set and its columns to understand its structure\n",
    "df.columns"
   ]
  },
  {
   "cell_type": "markdown",
   "id": "a42a175c-450f-4acf-962f-3fddea1d47fc",
   "metadata": {},
   "source": [
    "## 1. What is the distribution of CASE_STATUS?"
   ]
  },
  {
   "cell_type": "code",
   "execution_count": 7,
   "id": "5bcbbeee-e9e7-4f4c-8c92-59bea04e3eee",
   "metadata": {},
   "outputs": [
    {
     "name": "stdout",
     "output_type": "stream",
     "text": [
      "CASE_STATUS\n",
      "Certified-Expired    22098\n",
      "Withdrawn             1509\n",
      "Denied                1393\n",
      "Name: count, dtype: int64\n"
     ]
    }
   ],
   "source": [
    "# Displaying the count of each case status\n",
    "case_status_distribution = df['CASE_STATUS'].value_counts()\n",
    "print(case_status_distribution)\n"
   ]
  },
  {
   "cell_type": "markdown",
   "id": "7ca42c3d-6a2a-405e-aceb-ed4c5ee13a69",
   "metadata": {},
   "source": [
    "## 2. Distribution of CASE_STATUS over time"
   ]
  },
  {
   "cell_type": "code",
   "execution_count": 8,
   "id": "d5bc9c12-8e4f-4e42-91ed-d16281f1530d",
   "metadata": {},
   "outputs": [
    {
     "data": {
      "image/png": "[encoded data removed]",
      "text/plain": [
       "<Figure size 640x480 with 1 Axes>"
      ]
     },
     "metadata": {},
     "output_type": "display_data"
    },
    {
     "data": {
      "image/png": "[encoded data removed]",
      "text/plain": [
       "<Figure size 640x480 with 1 Axes>"
      ]
     },
     "metadata": {},
     "output_type": "display_data"
    }
   ],
   "source": [
    "# Assuming 'RECEIVED_DATE' and 'DECISION_DATE' are already converted to datetime objects\n",
    "# Plotting CASE_STATUS distribution over time\n",
    "df['RECEIVED_YEAR'] = df['RECEIVED_DATE'].dt.year\n",
    "df['DECISION_YEAR'] = df['DECISION_DATE'].dt.year\n",
    "\n",
    "received_distribution = df.groupby('RECEIVED_YEAR')['CASE_STATUS'].value_counts().unstack()\n",
    "decision_distribution = df.groupby('DECISION_YEAR')['CASE_STATUS'].value_counts().unstack()\n",
    "\n",
    "received_distribution.plot(kind='bar', stacked=True, title='CASE_STATUS by RECEIVED_YEAR')\n",
    "decision_distribution.plot(kind='bar', stacked=True, title='CASE_STATUS by DECISION_YEAR')\n",
    "plt.show()\n"
   ]
  },
  {
   "cell_type": "markdown",
   "id": "8d6f89e9-ec7a-4260-85b5-d1d65d175378",
   "metadata": {},
   "source": [
    "## Convert to date and time"
   ]
  },
  {
   "cell_type": "code",
   "execution_count": 9,
   "id": "ac33cbd4-070f-49af-b2ab-48f771b73934",
   "metadata": {},
   "outputs": [],
   "source": [
    "# Convert date columns to datetime format\n",
    "df['RECEIVED_DATE'] = pd.to_datetime(df['RECEIVED_DATE'])\n",
    "df['DECISION_DATE'] = pd.to_datetime(df['DECISION_DATE'])"
   ]
  },
  {
   "cell_type": "markdown",
   "id": "769a48ca-85f7-42b6-8298-197be5bdfcac",
   "metadata": {},
   "source": [
    "## 3. Average processing time"
   ]
  },
  {
   "cell_type": "code",
   "execution_count": 10,
   "id": "201fdf5c-2d2f-4ea3-9866-10b2aa9fb21d",
   "metadata": {},
   "outputs": [
    {
     "name": "stdout",
     "output_type": "stream",
     "text": [
      "Average Processing Time: 268.3674 days\n"
     ]
    }
   ],
   "source": [
    "# Calculate processing time and find average\n",
    "df['PROCESSING_TIME'] = (df['DECISION_DATE'] - df['RECEIVED_DATE']).dt.days\n",
    "average_processing_time = df['PROCESSING_TIME'].mean()\n",
    "print(f'Average Processing Time: {average_processing_time} days')"
   ]
  },
  {
   "cell_type": "markdown",
   "id": "e5ad6f15-8d8b-492e-b8c8-b5872bc26838",
   "metadata": {},
   "source": [
    "## 4. Decision outcomes based on country of citizenship"
   ]
  },
  {
   "cell_type": "code",
   "execution_count": 11,
   "id": "f3b42c4e-55ee-4386-ae0d-d1ffcfadb3c5",
   "metadata": {},
   "outputs": [
    {
     "name": "stdout",
     "output_type": "stream",
     "text": [
      "CASE_STATUS             Certified-Expired    Denied  Withdrawn\n",
      "COUNTRY_OF_CITIZENSHIP                                        \n",
      "AFGHANISTAN                      1.000000       NaN        NaN\n",
      "ALBANIA                          0.730769  0.269231        NaN\n",
      "ALGERIA                          1.000000       NaN        NaN\n",
      "ANGOLA                           0.500000  0.500000        NaN\n",
      "ANTIGUA AND BARBUDA              1.000000       NaN        NaN\n",
      "...                                   ...       ...        ...\n",
      "VENEZUELA                        0.766423  0.145985   0.087591\n",
      "VIETNAM                          0.798479  0.068441   0.133080\n",
      "YEMEN                            1.000000       NaN        NaN\n",
      "ZAMBIA                           0.681818  0.318182        NaN\n",
      "ZIMBABWE                         0.720000  0.280000        NaN\n",
      "\n",
      "[155 rows x 3 columns]\n"
     ]
    }
   ],
   "source": [
    "# Exploring decision patterns by country\n",
    "patterns_by_country = df.groupby('COUNTRY_OF_CITIZENSHIP')['CASE_STATUS'].value_counts(normalize=True).unstack()\n",
    "print(patterns_by_country)"
   ]
  },
  {
   "cell_type": "markdown",
   "id": "056241e4-3fd3-4ff0-b99a-1954b71add38",
   "metadata": {},
   "source": [
    "## 5. Number of applications certified vs. denied"
   ]
  },
  {
   "cell_type": "code",
   "execution_count": 12,
   "id": "b1999a0e-eaa8-490f-b727-de38c805252e",
   "metadata": {},
   "outputs": [
    {
     "name": "stdout",
     "output_type": "stream",
     "text": [
      "CASE_STATUS\n",
      "False    23607\n",
      "True      1393\n",
      "Name: count, dtype: int64\n"
     ]
    }
   ],
   "source": [
    "# Counting certified and denied applications\n",
    "certified_denied_count = df['CASE_STATUS'].isin(['Certified', 'Denied']).value_counts()\n",
    "print(certified_denied_count)\n"
   ]
  },
  {
   "cell_type": "markdown",
   "id": "e3f54c19-5114-4a32-b781-0922151d5303",
   "metadata": {},
   "source": [
    "## 6. Distribution of PW_WAGE"
   ]
  },
  {
   "cell_type": "code",
   "execution_count": 13,
   "id": "76cc98b9-1c39-4b16-9e06-2180158697d9",
   "metadata": {},
   "outputs": [
    {
     "name": "stdout",
     "output_type": "stream",
     "text": [
      "count     24992.000000\n",
      "mean      89749.249462\n",
      "std       42821.995854\n",
      "min           8.000000\n",
      "25%       60570.000000\n",
      "50%       93558.000000\n",
      "75%      119350.000000\n",
      "max      637000.000000\n",
      "Name: PW_WAGE, dtype: float64\n"
     ]
    }
   ],
   "source": [
    "# Analyzing the wage distribution\n",
    "wage_distribution = df['PW_WAGE'].describe()\n",
    "print(wage_distribution)"
   ]
  },
  {
   "cell_type": "markdown",
   "id": "e21e7c5e-ba97-4527-90aa-fc81e21304a1",
   "metadata": {},
   "source": [
    "## 7. Correlation between PW_WAGE and PW_UNIT_OF_PAY"
   ]
  },
  {
   "cell_type": "code",
   "execution_count": 14,
   "id": "c61e4998-997f-4c9b-855c-9aa273c404a0",
   "metadata": {},
   "outputs": [
    {
     "name": "stdout",
     "output_type": "stream",
     "text": [
      "         PW_WAGE\n",
      "PW_WAGE      1.0\n"
     ]
    }
   ],
   "source": [
    "# Checking for correlation\n",
    "wage_unit_pivot = pd.pivot_table(df, values='PW_WAGE', index='PW_UNIT_OF_PAY', aggfunc='mean')\n",
    "print(wage_unit_pivot.corr())\n"
   ]
  },
  {
   "cell_type": "markdown",
   "id": "86cb1102-cf0e-472c-b047-ca78736b8460",
   "metadata": {},
   "source": [
    "## 8. PW_WAGE distribution across different industries"
   ]
  },
  {
   "cell_type": "code",
   "execution_count": 15,
   "id": "af25d667-b768-4548-bf91-7949e0ba9ba4",
   "metadata": {},
   "outputs": [
    {
     "name": "stdout",
     "output_type": "stream",
     "text": [
      "            count           mean           std       min        25%       50%   \n",
      "NAICS_CODE                                                                      \n",
      "23            1.0   79227.000000           NaN   79227.0   79227.00   79227.0  \\\n",
      "42            1.0   42598.000000           NaN   42598.0   42598.00   42598.0   \n",
      "61            1.0   64896.000000           NaN   64896.0   64896.00   64896.0   \n",
      "221           1.0  124925.000000           NaN  124925.0  124925.00  124925.0   \n",
      "311           1.0   27498.000000           NaN   27498.0   27498.00   27498.0   \n",
      "...           ...            ...           ...       ...        ...       ...   \n",
      "926120        3.0   89003.000000  45799.508764   56014.0   62857.50   69701.0   \n",
      "926130        2.0   82066.500000  25489.078141   64043.0   73054.75   82066.5   \n",
      "928120        2.0   72228.000000  22075.873709   56618.0   64423.00   72228.0   \n",
      "31-33         3.0   86125.666667  38169.979386   42078.0   74443.00  106808.0   \n",
      "44-45         1.0   65000.000000           NaN   65000.0   65000.00   65000.0   \n",
      "\n",
      "                  75%       max  \n",
      "NAICS_CODE                       \n",
      "23           79227.00   79227.0  \n",
      "42           42598.00   42598.0  \n",
      "61           64896.00   64896.0  \n",
      "221         124925.00  124925.0  \n",
      "311          27498.00   27498.0  \n",
      "...               ...       ...  \n",
      "926120      105497.50  141294.0  \n",
      "926130       91078.25  100090.0  \n",
      "928120       80033.00   87838.0  \n",
      "31-33       108149.50  109491.0  \n",
      "44-45        65000.00   65000.0  \n",
      "\n",
      "[1062 rows x 8 columns]\n"
     ]
    }
   ],
   "source": [
    "# Wage distribution by industry\n",
    "industry_wage_distribution = df.groupby('NAICS_CODE')['PW_WAGE'].describe()\n",
    "print(industry_wage_distribution)\n"
   ]
  },
  {
   "cell_type": "markdown",
   "id": "c3f37053-780b-4a38-b592-796f56450d3b",
   "metadata": {},
   "source": [
    "## 9. Prevailing wage source distribution"
   ]
  },
  {
   "cell_type": "code",
   "execution_count": 16,
   "id": "018b64dc-7d69-4c9a-ad78-176e13b92cfd",
   "metadata": {},
   "outputs": [
    {
     "name": "stdout",
     "output_type": "stream",
     "text": [
      "PW_WAGE_SOURCE\n",
      "OES                   23574\n",
      "Other                  1280\n",
      "CBA                      98\n",
      "Employer Conducted       32\n",
      "SCA                       4\n",
      "DBA                       3\n",
      "Name: count, dtype: int64\n"
     ]
    }
   ],
   "source": [
    "# Count of different wage sources\n",
    "wage_source_distribution = df['PW_WAGE_SOURCE'].value_counts()\n",
    "print(wage_source_distribution)"
   ]
  },
  {
   "cell_type": "markdown",
   "id": "b424456e-edaf-417e-807e-3bbada4a9b4a",
   "metadata": {},
   "source": [
    "## 10. PW_WAGE by prevailing wage source"
   ]
  },
  {
   "cell_type": "code",
   "execution_count": 17,
   "id": "d9ed1cbe-252e-48ff-a4c5-1062cbf75c6f",
   "metadata": {},
   "outputs": [
    {
     "name": "stdout",
     "output_type": "stream",
     "text": [
      "PW_WAGE_SOURCE\n",
      "CBA                    51671.048061\n",
      "DBA                    22053.000000\n",
      "Employer Conducted     18137.938438\n",
      "OES                    88776.790794\n",
      "Other                 112801.680094\n",
      "SCA                    23168.280000\n",
      "Name: PW_WAGE, dtype: float64\n"
     ]
    }
   ],
   "source": [
    "# Average wage by source\n",
    "wage_by_source = df.groupby('PW_WAGE_SOURCE')['PW_WAGE'].mean()\n",
    "print(wage_by_source)\n"
   ]
  },
  {
   "cell_type": "markdown",
   "id": "25609102-0694-4bf6-b4bb-1857e7906559",
   "metadata": {},
   "source": [
    "## 11. Distribution of MINIMUM_EDUCATION"
   ]
  },
  {
   "cell_type": "code",
   "execution_count": 18,
   "id": "5367df62-6a39-46df-98e7-01ed63258637",
   "metadata": {},
   "outputs": [
    {
     "name": "stdout",
     "output_type": "stream",
     "text": [
      "MINIMUM_EDUCATION\n",
      "Master's       9662\n",
      "Bachelor's     9130\n",
      "High School    1257\n",
      "Other           646\n",
      "Doctorate       567\n",
      "Associate's     142\n",
      "Name: count, dtype: int64\n"
     ]
    }
   ],
   "source": [
    "# Counting levels of education\n",
    "education_distribution = df['MINIMUM_EDUCATION'].value_counts()\n",
    "print(education_distribution)\n"
   ]
  },
  {
   "cell_type": "markdown",
   "id": "4e076138-b645-4ff5-b465-12381f7fe391",
   "metadata": {},
   "source": [
    "## 12. Relationship between MINIMUM_EDUCATION and REQUIRED_EXPERIENCE"
   ]
  },
  {
   "cell_type": "code",
   "execution_count": 19,
   "id": "6ab6fab5-d898-4074-b975-353f905f0ffa",
   "metadata": {},
   "outputs": [
    {
     "name": "stdout",
     "output_type": "stream",
     "text": [
      "REQUIRED_EXPERIENCE     N     Y\n",
      "MINIMUM_EDUCATION              \n",
      "Associate's            83    59\n",
      "Bachelor's           3147  5983\n",
      "Doctorate             465   102\n",
      "High School           589   668\n",
      "Master's             3511  6151\n",
      "Other                 554    92\n"
     ]
    }
   ],
   "source": [
    "# Exploring relationship between education and experience\n",
    "education_experience_relationship = pd.crosstab(df['MINIMUM_EDUCATION'], df\n",
    "['REQUIRED_EXPERIENCE'])\n",
    "print(education_experience_relationship)\n"
   ]
  },
  {
   "cell_type": "markdown",
   "id": "b2cdf53c-ee92-4f94-80cf-98d5a6a67216",
   "metadata": {},
   "source": [
    "## 13. Applications requiring training"
   ]
  },
  {
   "cell_type": "code",
   "execution_count": 20,
   "id": "868728ba-f9ec-452a-a751-d787377145e1",
   "metadata": {},
   "outputs": [
    {
     "name": "stdout",
     "output_type": "stream",
     "text": [
      "REQUIRED_TRAINING\n",
      "N    24745\n",
      "Y      255\n",
      "Name: count, dtype: int64\n"
     ]
    }
   ],
   "source": [
    "# Counting applications that require training\n",
    "required_training_count = df['REQUIRED_TRAINING'].value_counts()\n",
    "print(required_training_count)"
   ]
  },
  {
   "cell_type": "markdown",
   "id": "b9169007-c969-4234-a39e-906d88c5357e",
   "metadata": {},
   "source": [
    "## 14. Distribution of REQUIRED_TRAINING_MONTHS"
   ]
  },
  {
   "cell_type": "code",
   "execution_count": 21,
   "id": "d52dd1a0-038a-4429-809b-ddd3987cd17e",
   "metadata": {},
   "outputs": [
    {
     "name": "stdout",
     "output_type": "stream",
     "text": [
      "count    255.000000\n",
      "mean      29.988235\n",
      "std       21.468982\n",
      "min        0.000000\n",
      "25%        6.000000\n",
      "50%       36.000000\n",
      "75%       36.000000\n",
      "max      108.000000\n",
      "Name: REQUIRED_TRAINING_MONTHS, dtype: float64\n"
     ]
    }
   ],
   "source": [
    "# Analyzing training months distribution\n",
    "training_months_distribution = df['REQUIRED_TRAINING_MONTHS'].describe()\n",
    "print(training_months_distribution)\n"
   ]
  },
  {
   "cell_type": "markdown",
   "id": "fe69d4eb-9d5e-436e-b6ba-c95907524320",
   "metadata": {},
   "source": [
    "## 15. Relationship between REQUIRED_TRAINING and PW_WAGE"
   ]
  },
  {
   "cell_type": "code",
   "execution_count": 22,
   "id": "8268fc8d-829b-4952-98f8-c8cc0e570577",
   "metadata": {},
   "outputs": [
    {
     "name": "stdout",
     "output_type": "stream",
     "text": [
      "REQUIRED_TRAINING\n",
      "N     89631.561263\n",
      "Y    101257.108577\n",
      "Name: PW_WAGE, dtype: float64\n"
     ]
    }
   ],
   "source": [
    "# Relationship between training requirement and wage\n",
    "training_wage_relationship = df.groupby('REQUIRED_TRAINING')['PW_WAGE'].mean()\n",
    "print(training_wage_relationship)\n"
   ]
  },
  {
   "cell_type": "markdown",
   "id": "ac27f25f-7541-4565-a3d5-459a0cc6332e",
   "metadata": {},
   "source": [
    "## 16. Distribution of FOREIGN_LANGUAGE_REQUIRED"
   ]
  },
  {
   "cell_type": "code",
   "execution_count": 23,
   "id": "6c63eb36-b9de-4a5e-a407-25377221131b",
   "metadata": {},
   "outputs": [
    {
     "name": "stdout",
     "output_type": "stream",
     "text": [
      "FOREIGN_LANGUAGE_REQUIRED\n",
      "N    24789\n",
      "Y      211\n",
      "Name: count, dtype: int64\n"
     ]
    }
   ],
   "source": [
    "# Counting whether foreign language is required or not\n",
    "foreign_language_distribution = df['FOREIGN_LANGUAGE_REQUIRED'].value_counts()\n",
    "print(foreign_language_distribution)\n"
   ]
  },
  {
   "cell_type": "markdown",
   "id": "544aa856-fb6e-4a89-989d-c2dc8901d9ec",
   "metadata": {},
   "source": [
    "## 17. How FOREIGN_LANGUAGE_REQUIRED affects decision outcomes"
   ]
  },
  {
   "cell_type": "code",
   "execution_count": 24,
   "id": "98bd1d78-993c-4d4c-bbb7-94594072e0a7",
   "metadata": {},
   "outputs": [
    {
     "name": "stdout",
     "output_type": "stream",
     "text": [
      "CASE_STATUS                Certified-Expired    Denied  Withdrawn\n",
      "FOREIGN_LANGUAGE_REQUIRED                                        \n",
      "N                                   0.886079  0.053895   0.060027\n",
      "Y                                   0.630332  0.270142   0.099526\n"
     ]
    }
   ],
   "source": [
    "# Relationship between foreign language requirement and case status\n",
    "language_case_status = df.groupby('FOREIGN_LANGUAGE_REQUIRED')['CASE_STATUS'].value_counts(normalize=True).unstack()\n",
    "print(language_case_status)\n"
   ]
  },
  {
   "cell_type": "markdown",
   "id": "983660f1-76cc-41ab-b594-b871cb3cd205",
   "metadata": {},
   "source": [
    "## 18. Distribution of CLASS_OF_ADMISSION"
   ]
  },
  {
   "cell_type": "code",
   "execution_count": 25,
   "id": "716efbe1-a55b-4fc2-8d10-b9f0f9f3fc66",
   "metadata": {},
   "outputs": [
    {
     "name": "stdout",
     "output_type": "stream",
     "text": [
      "CLASS_OF_ADMISSION\n",
      "H-1B          15922\n",
      "F-1            2015\n",
      "Not in USA     1744\n",
      "L-1            1078\n",
      "TN              329\n",
      "B-2             275\n",
      "E-2             212\n",
      "H-2B            193\n",
      "J-1             107\n",
      "F-2              91\n",
      "H-4              85\n",
      "O-1              67\n",
      "E-3              61\n",
      "B-1              48\n",
      "H-2A             37\n",
      "E-1              25\n",
      "L-2              20\n",
      "TPS              17\n",
      "EWI              17\n",
      "Parolee          16\n",
      "J-2              14\n",
      "A1/A2            13\n",
      "H-1B1            12\n",
      "P-1               7\n",
      "G-4               7\n",
      "M-1               5\n",
      "I                 5\n",
      "C-1               4\n",
      "CW-1              4\n",
      "O-3               3\n",
      "R-1               3\n",
      "N                 2\n",
      "VWT               2\n",
      "H-1A              2\n",
      "P-3               2\n",
      "R-2               1\n",
      "C-3               1\n",
      "H-3               1\n",
      "P-4               1\n",
      "TD                1\n",
      "T-2               1\n",
      "Name: count, dtype: int64\n"
     ]
    }
   ],
   "source": [
    "# Counting entries for each class of admission\n",
    "class_admission_distribution = df['CLASS_OF_ADMISSION'].value_counts()\n",
    "print(class_admission_distribution)\n"
   ]
  },
  {
   "cell_type": "markdown",
   "id": "defe2223-ec07-4a88-96ea-7b563c534e4e",
   "metadata": {},
   "source": [
    "## 19. Patterns in CLASS_OF_ADMISSION with respect to decision outcomes"
   ]
  },
  {
   "cell_type": "code",
   "execution_count": 26,
   "id": "9d508b23-4825-4cbf-9c99-414e12f6be03",
   "metadata": {},
   "outputs": [
    {
     "name": "stdout",
     "output_type": "stream",
     "text": [
      "CASE_STATUS         Certified-Expired    Denied  Withdrawn\n",
      "CLASS_OF_ADMISSION                                        \n",
      "A1/A2                        0.846154  0.153846        NaN\n",
      "B-1                          0.375000  0.375000   0.250000\n",
      "B-2                          0.636364  0.312727   0.050909\n",
      "C-1                          0.750000       NaN   0.250000\n",
      "C-3                          1.000000       NaN        NaN\n",
      "CW-1                         0.750000  0.250000        NaN\n",
      "E-1                          0.840000  0.120000   0.040000\n",
      "E-2                          0.712264  0.207547   0.080189\n",
      "E-3                          0.885246  0.049180   0.065574\n",
      "EWI                          0.823529  0.176471        NaN\n",
      "F-1                          0.868983  0.069479   0.061538\n",
      "F-2                          0.824176  0.131868   0.043956\n",
      "G-4                          0.857143  0.142857        NaN\n",
      "H-1A                         1.000000       NaN        NaN\n",
      "H-1B                         0.930788  0.015639   0.053574\n",
      "H-1B1                        0.916667       NaN   0.083333\n",
      "H-2A                         0.513514  0.297297   0.189189\n",
      "H-2B                         0.875648  0.077720   0.046632\n",
      "H-3                          1.000000       NaN        NaN\n",
      "H-4                          0.917647  0.023529   0.058824\n",
      "I                            0.800000       NaN   0.200000\n",
      "J-1                          0.813084  0.102804   0.084112\n",
      "J-2                          1.000000       NaN        NaN\n",
      "L-1                          0.933210  0.014842   0.051948\n",
      "L-2                          0.800000  0.050000   0.150000\n",
      "M-1                          1.000000       NaN        NaN\n",
      "N                            0.500000  0.500000        NaN\n",
      "Not in USA                   0.793578  0.098050   0.108372\n",
      "O-1                          0.791045  0.089552   0.119403\n",
      "O-3                          1.000000       NaN        NaN\n",
      "P-1                          0.714286  0.142857   0.142857\n",
      "P-3                          0.500000  0.500000        NaN\n",
      "P-4                               NaN  1.000000        NaN\n",
      "Parolee                      0.812500  0.062500   0.125000\n",
      "R-1                          1.000000       NaN        NaN\n",
      "R-2                               NaN       NaN   1.000000\n",
      "T-2                          1.000000       NaN        NaN\n",
      "TD                                NaN       NaN   1.000000\n",
      "TN                           0.893617  0.042553   0.063830\n",
      "TPS                          0.823529       NaN   0.176471\n",
      "VWT                          0.500000  0.500000        NaN\n"
     ]
    }
   ],
   "source": [
    "# Examining case status by class of admission\n",
    "class_status_patterns = df.groupby('CLASS_OF_ADMISSION')['CASE_STATUS'].value_counts(normalize=True).unstack()\n",
    "print(class_status_patterns)\n"
   ]
  },
  {
   "cell_type": "markdown",
   "id": "f7933475-9c6c-44bd-a98c-378fbac55ff3",
   "metadata": {},
   "source": [
    "## 20. Applications involving layoffs in the past six months"
   ]
  },
  {
   "cell_type": "code",
   "execution_count": 27,
   "id": "df676b76-a608-4739-8880-33dbf2f272ca",
   "metadata": {},
   "outputs": [
    {
     "name": "stdout",
     "output_type": "stream",
     "text": [
      "LAYOFF_IN_PAST_SIX_MONTHS\n",
      "N    23832\n",
      "Y     1167\n",
      "Name: count, dtype: int64\n"
     ]
    }
   ],
   "source": [
    "# Count of applications involving recent layoffs\n",
    "layoffs_count = df['LAYOFF_IN_PAST_SIX_MONTHS'].value_counts()\n",
    "print(layoffs_count)\n"
   ]
  },
  {
   "cell_type": "markdown",
   "id": "95d23901-8ffd-433d-8428-b1034d4066dd",
   "metadata": {},
   "source": [
    "## 21. Correlation between layoffs and decision outcomes"
   ]
  },
  {
   "cell_type": "code",
   "execution_count": 28,
   "id": "1666582c-c0ce-451f-a051-b07e59bb4374",
   "metadata": {},
   "outputs": [
    {
     "name": "stdout",
     "output_type": "stream",
     "text": [
      "CASE_STATUS                Certified-Expired    Denied  Withdrawn\n",
      "LAYOFF_IN_PAST_SIX_MONTHS                                        \n",
      "N                                   0.882469  0.058199   0.059332\n",
      "Y                                   0.913453  0.005141   0.081405\n"
     ]
    }
   ],
   "source": [
    "# Exploring the relationship between recent layoffs and case status\n",
    "layoffs_case_status = df.groupby('LAYOFF_IN_PAST_SIX_MONTHS')['CASE_STATUS'].value_counts(normalize=True).unstack()\n",
    "print(layoffs_case_status)\n"
   ]
  },
  {
   "cell_type": "markdown",
   "id": "e2231021-a179-4bb7-a670-83d0f2f0a202",
   "metadata": {},
   "source": [
    "## 22. Distribution of job titles"
   ]
  },
  {
   "cell_type": "code",
   "execution_count": 29,
   "id": "879e8ef1-227c-49e8-bf1f-9e3c436add99",
   "metadata": {},
   "outputs": [
    {
     "name": "stdout",
     "output_type": "stream",
     "text": [
      "JOB_TITLE\n",
      "Software Engineer                          1458\n",
      "Software Developer                          606\n",
      "Software Development Engineer II            572\n",
      "Senior Software Engineer                    401\n",
      "Landscape Laborer                           343\n",
      "                                           ... \n",
      "Staff Tech Support Engineer                   1\n",
      "Software Engineer (4)                         1\n",
      "Senior Software Engineer, Cybersecurity       1\n",
      "AVP, Application Security Architect           1\n",
      "Shop Foreman                                  1\n",
      "Name: count, Length: 7772, dtype: int64\n"
     ]
    }
   ],
   "source": [
    "# Analyzing the frequency of different job titles\n",
    "job_title_distribution = df['JOB_TITLE'].value_counts()\n",
    "print(job_title_distribution)\n"
   ]
  },
  {
   "cell_type": "markdown",
   "id": "c68d0042-fc31-4652-87f5-554e74b67047",
   "metadata": {},
   "source": [
    "## 23. Distribution of job titles across industries"
   ]
  },
  {
   "cell_type": "code",
   "execution_count": 30,
   "id": "19543b99-48ab-42e1-bc0b-8a6f370b4fee",
   "metadata": {},
   "outputs": [
    {
     "name": "stdout",
     "output_type": "stream",
     "text": [
      "JOB_TITLE   Field Operations Supervisor  Pre-Production Specialist   \n",
      "NAICS_CODE                                                           \n",
      "23                                  1.0                        NaN  \\\n",
      "42                                  NaN                        1.0   \n",
      "61                                  NaN                        NaN   \n",
      "221                                 NaN                        NaN   \n",
      "311                                 NaN                        NaN   \n",
      "...                                 ...                        ...   \n",
      "926120                              NaN                        NaN   \n",
      "926130                              NaN                        NaN   \n",
      "928120                              NaN                        NaN   \n",
      "31-33                               NaN                        NaN   \n",
      "44-45                               NaN                        NaN   \n",
      "\n",
      "JOB_TITLE   Operations Analyst  Supervisor, U.S. Wind and Solar Operations   \n",
      "NAICS_CODE                                                                   \n",
      "23                         NaN                                         NaN  \\\n",
      "42                         NaN                                         NaN   \n",
      "61                         1.0                                         NaN   \n",
      "221                        NaN                                         1.0   \n",
      "311                        NaN                                         NaN   \n",
      "...                        ...                                         ...   \n",
      "926120                     NaN                                         NaN   \n",
      "926130                     NaN                                         NaN   \n",
      "928120                     NaN                                         NaN   \n",
      "31-33                      NaN                                         NaN   \n",
      "44-45                      NaN                                         NaN   \n",
      "\n",
      "JOB_TITLE   Office Assistant  Carpenter  Alteration Tailor   \n",
      "NAICS_CODE                                                   \n",
      "23                       NaN        NaN                NaN  \\\n",
      "42                       NaN        NaN                NaN   \n",
      "61                       NaN        NaN                NaN   \n",
      "221                      NaN        NaN                NaN   \n",
      "311                      1.0        NaN                NaN   \n",
      "...                      ...        ...                ...   \n",
      "926120                   NaN        NaN                NaN   \n",
      "926130                   NaN        NaN                NaN   \n",
      "928120                   NaN        NaN                NaN   \n",
      "31-33                    NaN        NaN                NaN   \n",
      "44-45                    NaN        NaN                NaN   \n",
      "\n",
      "JOB_TITLE   Director of Store Planning and Design  Store   \n",
      "NAICS_CODE                                                 \n",
      "23                                            NaN    NaN  \\\n",
      "42                                            NaN    NaN   \n",
      "61                                            NaN    NaN   \n",
      "221                                           NaN    NaN   \n",
      "311                                           NaN    NaN   \n",
      "...                                           ...    ...   \n",
      "926120                                        NaN    NaN   \n",
      "926130                                        NaN    NaN   \n",
      "928120                                        NaN    NaN   \n",
      "31-33                                         NaN    NaN   \n",
      "44-45                                         NaN    NaN   \n",
      "\n",
      "JOB_TITLE   Lead Solution Architect  ...  Chief Administrative Officer   \n",
      "NAICS_CODE                           ...                                 \n",
      "23                              NaN  ...                           NaN  \\\n",
      "42                              NaN  ...                           NaN   \n",
      "61                              NaN  ...                           NaN   \n",
      "221                             NaN  ...                           NaN   \n",
      "311                             NaN  ...                           NaN   \n",
      "...                             ...  ...                           ...   \n",
      "926120                          NaN  ...                           NaN   \n",
      "926130                          NaN  ...                           NaN   \n",
      "928120                          NaN  ...                           NaN   \n",
      "31-33                           NaN  ...                           NaN   \n",
      "44-45                           NaN  ...                           NaN   \n",
      "\n",
      "JOB_TITLE   Senior Policy Analyst  SharePoint Administrator – Developer   \n",
      "NAICS_CODE                                                                \n",
      "23                            NaN                                   NaN  \\\n",
      "42                            NaN                                   NaN   \n",
      "61                            NaN                                   NaN   \n",
      "221                           NaN                                   NaN   \n",
      "311                           NaN                                   NaN   \n",
      "...                           ...                                   ...   \n",
      "926120                        NaN                                   1.0   \n",
      "926130                        NaN                                   NaN   \n",
      "928120                        NaN                                   NaN   \n",
      "31-33                         NaN                                   NaN   \n",
      "44-45                         NaN                                   NaN   \n",
      "\n",
      "JOB_TITLE   Software Development Project Lead  Computer Software Specialist 3   \n",
      "NAICS_CODE                                                                      \n",
      "23                                        NaN                             NaN  \\\n",
      "42                                        NaN                             NaN   \n",
      "61                                        NaN                             NaN   \n",
      "221                                       NaN                             NaN   \n",
      "311                                       NaN                             NaN   \n",
      "...                                       ...                             ...   \n",
      "926120                                    1.0                             NaN   \n",
      "926130                                    NaN                             1.0   \n",
      "928120                                    NaN                             NaN   \n",
      "31-33                                     NaN                             NaN   \n",
      "44-45                                     NaN                             NaN   \n",
      "\n",
      "JOB_TITLE   Pipeline Integrity Engineer 2  BI and Data Engineer   \n",
      "NAICS_CODE                                                        \n",
      "23                                    NaN                   NaN  \\\n",
      "42                                    NaN                   NaN   \n",
      "61                                    NaN                   NaN   \n",
      "221                                   NaN                   NaN   \n",
      "311                                   NaN                   NaN   \n",
      "...                                   ...                   ...   \n",
      "926120                                NaN                   NaN   \n",
      "926130                                1.0                   NaN   \n",
      "928120                                NaN                   1.0   \n",
      "31-33                                 NaN                   NaN   \n",
      "44-45                                 NaN                   NaN   \n",
      "\n",
      "JOB_TITLE   Chemist, Cosmetics/Skincare Formulation   \n",
      "NAICS_CODE                                            \n",
      "23                                              NaN  \\\n",
      "42                                              NaN   \n",
      "61                                              NaN   \n",
      "221                                             NaN   \n",
      "311                                             NaN   \n",
      "...                                             ...   \n",
      "926120                                          NaN   \n",
      "926130                                          NaN   \n",
      "928120                                          NaN   \n",
      "31-33                                           1.0   \n",
      "44-45                                           NaN   \n",
      "\n",
      "JOB_TITLE   Infrastructure Engineer III   \n",
      "NAICS_CODE                                \n",
      "23                                  NaN  \\\n",
      "42                                  NaN   \n",
      "61                                  NaN   \n",
      "221                                 NaN   \n",
      "311                                 NaN   \n",
      "...                                 ...   \n",
      "926120                              NaN   \n",
      "926130                              NaN   \n",
      "928120                              NaN   \n",
      "31-33                               1.0   \n",
      "44-45                               NaN   \n",
      "\n",
      "JOB_TITLE   Process Coordinator - Finishing Maintenance  \n",
      "NAICS_CODE                                               \n",
      "23                                                  NaN  \n",
      "42                                                  NaN  \n",
      "61                                                  NaN  \n",
      "221                                                 NaN  \n",
      "311                                                 NaN  \n",
      "...                                                 ...  \n",
      "926120                                              NaN  \n",
      "926130                                              NaN  \n",
      "928120                                              NaN  \n",
      "31-33                                               1.0  \n",
      "44-45                                               NaN  \n",
      "\n",
      "[1062 rows x 7763 columns]\n"
     ]
    }
   ],
   "source": [
    "# Job title distribution by industry\n",
    "job_titles_by_industry = df.groupby('NAICS_CODE')['JOB_TITLE'].value_counts().unstack()\n",
    "print(job_titles_by_industry)\n"
   ]
  },
  {
   "cell_type": "markdown",
   "id": "8f8c87ab-ddfd-4429-bf09-cebe18901bc7",
   "metadata": {},
   "source": [
    "## 24. Distribution of ACCEPT_ALT_COMBO"
   ]
  },
  {
   "cell_type": "code",
   "execution_count": 31,
   "id": "4a82d4ca-d34a-42bd-bf07-d13eddd0f729",
   "metadata": {},
   "outputs": [
    {
     "name": "stdout",
     "output_type": "stream",
     "text": [
      "ACCEPT_ALT_COMBO\n",
      "N    18579\n",
      "Y     6420\n",
      "Name: count, dtype: int64\n"
     ]
    }
   ],
   "source": [
    "# Counting the acceptance of alternative combinations\n",
    "accept_alt_combo_distribution = df['ACCEPT_ALT_COMBO'].value_counts()\n",
    "print(accept_alt_combo_distribution)\n"
   ]
  },
  {
   "cell_type": "markdown",
   "id": "67100be6-0eff-4e15-ae30-c20ab1418dee",
   "metadata": {},
   "source": [
    "## 25. How ACCEPT_ALT_COMBO affects decision outcomes"
   ]
  },
  {
   "cell_type": "code",
   "execution_count": 32,
   "id": "4f8433d1-db94-412e-9eba-6b7d9e4e49d2",
   "metadata": {},
   "outputs": [
    {
     "name": "stdout",
     "output_type": "stream",
     "text": [
      "CASE_STATUS       Certified-Expired    Denied  Withdrawn\n",
      "ACCEPT_ALT_COMBO                                        \n",
      "N                          0.867431  0.069595   0.062974\n",
      "Y                          0.931776  0.015421   0.052804\n"
     ]
    }
   ],
   "source": [
    "# Relationship between ACCEPT_ALT_COMBO and CASE_STATUS\n",
    "alt_combo_case_status = df.groupby('ACCEPT_ALT_COMBO')['CASE_STATUS'].value_counts(normalize=True).unstack()\n",
    "print(alt_combo_case_status)\n"
   ]
  },
  {
   "cell_type": "markdown",
   "id": "e0a252a8-bf1c-4c46-8040-a02a77d81f20",
   "metadata": {},
   "source": [
    "## 26. Distribution of FOREIGN_WORKER_CURR_EMPLOYED"
   ]
  },
  {
   "cell_type": "code",
   "execution_count": 33,
   "id": "35cdd3df-5605-4588-847e-aceeb56bd4ab",
   "metadata": {},
   "outputs": [
    {
     "name": "stdout",
     "output_type": "stream",
     "text": [
      "FOREIGN_WORKER_CURR_EMPLOYED\n",
      "Y    19587\n",
      "N     5411\n",
      "Name: count, dtype: int64\n"
     ]
    }
   ],
   "source": [
    "# Counting current employment status of foreign workers\n",
    "foreign_worker_employed_distribution = df['FOREIGN_WORKER_CURR_EMPLOYED'].value_counts()\n",
    "print(foreign_worker_employed_distribution)\n"
   ]
  },
  {
   "cell_type": "markdown",
   "id": "edc47019-bdb1-428a-9a53-aa6491a2ef59",
   "metadata": {},
   "source": [
    "## 27. Correlation between FOREIGN_WORKER_CURR_EMPLOYED and decision outcomes"
   ]
  },
  {
   "cell_type": "code",
   "execution_count": 34,
   "id": "5ac18ff0-bb76-42bf-83c8-53d72265169c",
   "metadata": {},
   "outputs": [
    {
     "name": "stdout",
     "output_type": "stream",
     "text": [
      "CASE_STATUS                   Certified-Expired    Denied  Withdrawn\n",
      "FOREIGN_WORKER_CURR_EMPLOYED                                        \n",
      "N                                      0.746997  0.174644   0.078359\n",
      "Y                                      0.921836  0.022770   0.055394\n"
     ]
    }
   ],
   "source": [
    "# Exploring the impact of current employment of foreign workers on case status\n",
    "employed_case_status = df.groupby('FOREIGN_WORKER_CURR_EMPLOYED')['CASE_STATUS'].value_counts(normalize=True).unstack()\n",
    "print(employed_case_status)\n"
   ]
  },
  {
   "cell_type": "markdown",
   "id": "1813e8b8-a4b5-488d-8083-046da1ab79de",
   "metadata": {},
   "source": [
    "## 28. Applications filed by employers who received payment"
   ]
  },
  {
   "cell_type": "code",
   "execution_count": 35,
   "id": "ce914fd8-bbf1-4407-b869-48aadf62d41d",
   "metadata": {},
   "outputs": [
    {
     "name": "stdout",
     "output_type": "stream",
     "text": [
      "EMP_RECEIVED_PAYMENT\n",
      "N    24997\n",
      "Y        2\n",
      "Name: count, dtype: int64\n"
     ]
    }
   ],
   "source": [
    "# Counting applications where employers received payment\n",
    "received_payment_count = df['EMP_RECEIVED_PAYMENT'].value_counts()\n",
    "print(received_payment_count)\n"
   ]
  },
  {
   "cell_type": "markdown",
   "id": "a9ec0f98-1951-40d1-8bfd-dd6aceeb0d3a",
   "metadata": {},
   "source": [
    "## 29. Relationship between EMP_RECEIVED_PAYMENT and decision outcomes"
   ]
  },
  {
   "cell_type": "code",
   "execution_count": 36,
   "id": "31dc6526-aa90-4d75-b1f8-c24cce17e5d1",
   "metadata": {},
   "outputs": [
    {
     "name": "stdout",
     "output_type": "stream",
     "text": [
      "CASE_STATUS           Certified-Expired    Denied  Withdrawn\n",
      "EMP_RECEIVED_PAYMENT                                        \n",
      "N                              0.883986  0.055687   0.060327\n",
      "Y                                   NaN  0.500000   0.500000\n"
     ]
    }
   ],
   "source": [
    "# Relationship between employer payment and case status\n",
    "payment_case_status = df.groupby('EMP_RECEIVED_PAYMENT')['CASE_STATUS'].value_counts(normalize=True).unstack()\n",
    "print(payment_case_status)\n"
   ]
  },
  {
   "cell_type": "markdown",
   "id": "fecae259-c27e-49d4-b730-92e79e885972",
   "metadata": {},
   "source": [
    "## 30. Distribution of FOREIGN_WORKER_EDUCATION"
   ]
  },
  {
   "cell_type": "code",
   "execution_count": 37,
   "id": "dff81a7b-b957-4cb3-ac3f-93f31893cc6b",
   "metadata": {},
   "outputs": [
    {
     "name": "stdout",
     "output_type": "stream",
     "text": [
      "FOREIGN_WORKER_EDUCATION\n",
      "Master's       11660\n",
      "Bachelor's      7280\n",
      "High School     1038\n",
      "Doctorate        876\n",
      "Other            694\n",
      "Associate's      213\n",
      "Name: count, dtype: int64\n"
     ]
    }
   ],
   "source": [
    "# Analyzing the education levels reported for foreign workers\n",
    "foreign_worker_education_distribution = df['FOREIGN_WORKER_EDUCATION'].value_counts()\n",
    "print(foreign_worker_education_distribution)"
   ]
  },
  {
   "cell_type": "markdown",
   "id": "51e9ae11-0579-4d9c-9b84-c66da0cafd98",
   "metadata": {},
   "source": [
    "## 31. Correlation between FOREIGN_WORKER_EDUCATION and decision outcomes"
   ]
  },
  {
   "cell_type": "code",
   "execution_count": 38,
   "id": "5fbb23fa-8871-4868-9569-af380ef2a6ba",
   "metadata": {},
   "outputs": [
    {
     "name": "stdout",
     "output_type": "stream",
     "text": [
      "CASE_STATUS               Certified-Expired    Denied  Withdrawn\n",
      "FOREIGN_WORKER_EDUCATION                                        \n",
      "Associate's                        0.713615  0.272300   0.014085\n",
      "Bachelor's                         0.896429  0.051099   0.052473\n",
      "Doctorate                          0.916667  0.015982   0.067352\n",
      "High School                        0.713873  0.209056   0.077071\n",
      "Master's                           0.924357  0.019983   0.055660\n",
      "Other                              0.906340  0.047550   0.046110\n"
     ]
    }
   ],
   "source": [
    "education_status_correlation = df.groupby('FOREIGN_WORKER_EDUCATION')['CASE_STATUS'].value_counts(normalize=True).unstack()\n",
    "print(education_status_correlation)\n"
   ]
  },
  {
   "cell_type": "markdown",
   "id": "d375accb-cad6-4a21-bfbf-4b41b013e719",
   "metadata": {},
   "source": [
    "## 32. Differences in processing time based on FOREIGN_WORKER_EDUCATION"
   ]
  },
  {
   "cell_type": "code",
   "execution_count": 39,
   "id": "923d508e-c750-4894-b911-d63a1694bd02",
   "metadata": {},
   "outputs": [
    {
     "name": "stdout",
     "output_type": "stream",
     "text": [
      "FOREIGN_WORKER_EDUCATION\n",
      "Associate's    322.629108\n",
      "Bachelor's     266.701648\n",
      "Doctorate      264.855023\n",
      "High School    293.420039\n",
      "Master's       259.145026\n",
      "Other          268.015850\n",
      "Name: PROCESSING_TIME, dtype: float64\n"
     ]
    }
   ],
   "source": [
    "education_processing_time = df.groupby('FOREIGN_WORKER_EDUCATION')['PROCESSING_TIME'].mean()\n",
    "print(education_processing_time)\n"
   ]
  },
  {
   "cell_type": "markdown",
   "id": "f1fa1dbf-4612-47e0-99e2-c831f9578a22",
   "metadata": {},
   "source": [
    "## 33. Distribution of EMPLOYER_COMPLETED_APPLICATION"
   ]
  },
  {
   "cell_type": "code",
   "execution_count": 40,
   "id": "6da37cdf-8f05-4493-8eb1-b254386ac53b",
   "metadata": {},
   "outputs": [
    {
     "name": "stdout",
     "output_type": "stream",
     "text": [
      "EMPLOYER_COMPLETED_APPLICATION\n",
      "N    22747\n",
      "Y     2246\n",
      "Name: count, dtype: int64\n"
     ]
    }
   ],
   "source": [
    "employer_completed_distribution = df['EMPLOYER_COMPLETED_APPLICATION'].value_counts()\n",
    "print(employer_completed_distribution)\n"
   ]
  },
  {
   "cell_type": "markdown",
   "id": "5356a52a-3068-460e-a798-b26496b2d640",
   "metadata": {},
   "source": [
    "## 34. Correlation between EMPLOYER_COMPLETED_APPLICATION and decision outcomes"
   ]
  },
  {
   "cell_type": "code",
   "execution_count": 42,
   "id": "58a2e200-0a2e-441e-8010-fe2bc8019326",
   "metadata": {},
   "outputs": [
    {
     "name": "stdout",
     "output_type": "stream",
     "text": [
      "CASE_STATUS                     Certified-Expired    Denied  Withdrawn\n",
      "EMPLOYER_COMPLETED_APPLICATION                                        \n",
      "N                                        0.888161  0.053194   0.058645\n",
      "Y                                        0.843722  0.078362   0.077916\n"
     ]
    }
   ],
   "source": [
    "employer_application_status = df.groupby('EMPLOYER_COMPLETED_APPLICATION')['CASE_STATUS'].value_counts(normalize=True).unstack()\n",
    "print(employer_application_status)\n"
   ]
  },
  {
   "cell_type": "markdown",
   "id": "aab02380-1698-444c-84ba-e7797fad05c4",
   "metadata": {},
   "source": [
    "## 35. Difference in processing time based on EMPLOYER_COMPLETED_APPLICATION"
   ]
  },
  {
   "cell_type": "code",
   "execution_count": 43,
   "id": "46c005c4-6978-4c7d-87e4-eebde7ed4f15",
   "metadata": {},
   "outputs": [
    {
     "name": "stdout",
     "output_type": "stream",
     "text": [
      "EMPLOYER_COMPLETED_APPLICATION\n",
      "N    268.317317\n",
      "Y    268.798753\n",
      "Name: PROCESSING_TIME, dtype: float64\n"
     ]
    }
   ],
   "source": [
    "employer_application_time = df.groupby('EMPLOYER_COMPLETED_APPLICATION')['PROCESSING_TIME'].mean()\n",
    "print(employer_application_time)\n"
   ]
  },
  {
   "cell_type": "markdown",
   "id": "0f99213f-f67d-4d40-b63a-9c05e65b9622",
   "metadata": {},
   "source": [
    "## 36. Distribution of PW_SKILL_LEVEL"
   ]
  },
  {
   "cell_type": "code",
   "execution_count": 44,
   "id": "7a1a85fe-4019-4265-a50c-8f1e10143fe2",
   "metadata": {},
   "outputs": [
    {
     "name": "stdout",
     "output_type": "stream",
     "text": [
      "PW_SKILL_LEVEL\n",
      "Level II     7793\n",
      "Level I      6834\n",
      "Level IV     5545\n",
      "Level III    3377\n",
      "Name: count, dtype: int64\n"
     ]
    }
   ],
   "source": [
    "skill_level_distribution = df['PW_SKILL_LEVEL'].value_counts()\n",
    "print(skill_level_distribution)\n"
   ]
  },
  {
   "cell_type": "markdown",
   "id": "d715a7a6-c199-44ab-b67e-e2e8d2649426",
   "metadata": {},
   "source": [
    "## 37. Correlation between PW_SKILL_LEVEL and decision outcomes"
   ]
  },
  {
   "cell_type": "code",
   "execution_count": 45,
   "id": "641ae2b9-0310-4a0f-bed0-877843d2aac6",
   "metadata": {},
   "outputs": [
    {
     "name": "stdout",
     "output_type": "stream",
     "text": [
      "CASE_STATUS     Certified-Expired    Denied  Withdrawn\n",
      "PW_SKILL_LEVEL                                        \n",
      "Level I                  0.816945  0.118818   0.064238\n",
      "Level II                 0.905556  0.027974   0.066470\n",
      "Level III                0.914421  0.037607   0.047972\n",
      "Level IV                 0.913977  0.031019   0.055005\n"
     ]
    }
   ],
   "source": [
    "skill_level_status = df.groupby('PW_SKILL_LEVEL')['CASE_STATUS'].value_counts(normalize=True).unstack()\n",
    "print(skill_level_status)\n"
   ]
  },
  {
   "cell_type": "markdown",
   "id": "38b8e6e2-5f6b-4afd-8ea9-54b2f8251470",
   "metadata": {},
   "source": [
    "## 38. Patterns in processing time based on PW_SKILL_LEVEL"
   ]
  },
  {
   "cell_type": "code",
   "execution_count": 46,
   "id": "ac816380-fc89-42a4-bb7c-f0c754e4b6a7",
   "metadata": {},
   "outputs": [
    {
     "name": "stdout",
     "output_type": "stream",
     "text": [
      "PW_SKILL_LEVEL\n",
      "Level I      275.489757\n",
      "Level II     264.517516\n",
      "Level III    263.956174\n",
      "Level IV     270.362489\n",
      "Name: PROCESSING_TIME, dtype: float64\n"
     ]
    }
   ],
   "source": [
    "skill_level_processing_time = df.groupby('PW_SKILL_LEVEL')['PROCESSING_TIME'].mean()\n",
    "print(skill_level_processing_time)\n"
   ]
  },
  {
   "cell_type": "markdown",
   "id": "4ada6b15-7bd1-4672-82d5-b757046aa985",
   "metadata": {},
   "source": [
    "## 39. Distribution of REQUIRED_EXPERIENCE"
   ]
  },
  {
   "cell_type": "code",
   "execution_count": 47,
   "id": "5a389bad-b653-4517-8d65-5cfdc315e3f5",
   "metadata": {},
   "outputs": [
    {
     "name": "stdout",
     "output_type": "stream",
     "text": [
      "REQUIRED_EXPERIENCE\n",
      "Y    13952\n",
      "N    11048\n",
      "Name: count, dtype: int64\n"
     ]
    }
   ],
   "source": [
    "experience_distribution = df['REQUIRED_EXPERIENCE'].value_counts()\n",
    "print(experience_distribution)\n"
   ]
  },
  {
   "cell_type": "markdown",
   "id": "1b567389-ce4b-48e2-927f-a78bfd2ca30c",
   "metadata": {},
   "source": [
    "## 40. Correlation between REQUIRED_EXPERIENCE and decision outcomes"
   ]
  },
  {
   "cell_type": "code",
   "execution_count": 48,
   "id": "c7f310bc-9354-4473-baf7-1be18326337e",
   "metadata": {},
   "outputs": [
    {
     "name": "stdout",
     "output_type": "stream",
     "text": [
      "CASE_STATUS          Certified-Expired    Denied  Withdrawn\n",
      "REQUIRED_EXPERIENCE                                        \n",
      "N                             0.842053  0.083997   0.073950\n",
      "Y                             0.917073  0.033329   0.049599\n"
     ]
    }
   ],
   "source": [
    "experience_status_correlation = df.groupby('REQUIRED_EXPERIENCE')['CASE_STATUS'].value_counts(normalize=True).unstack()\n",
    "print(experience_status_correlation)\n"
   ]
  },
  {
   "cell_type": "markdown",
   "id": "147da642-852d-48e2-982e-2f50c3952467",
   "metadata": {},
   "source": [
    "## 41. Difference in processing time based on REQUIRED_EXPERIENCE"
   ]
  },
  {
   "cell_type": "code",
   "execution_count": 49,
   "id": "4d7cf0e8-84ac-4738-9667-33e3f6f6e6ab",
   "metadata": {},
   "outputs": [
    {
     "name": "stdout",
     "output_type": "stream",
     "text": [
      "REQUIRED_EXPERIENCE\n",
      "N    269.880793\n",
      "Y    267.169008\n",
      "Name: PROCESSING_TIME, dtype: float64\n"
     ]
    }
   ],
   "source": [
    "experience_processing_time = df.groupby('REQUIRED_EXPERIENCE')['PROCESSING_TIME'].mean()\n",
    "print(experience_processing_time)\n"
   ]
  },
  {
   "cell_type": "markdown",
   "id": "ad03672f-3d35-434f-95fb-219e27ac1d29",
   "metadata": {},
   "source": [
    "## 42. Distribution of REQUIRED_EXPERIENCE_MONTHS"
   ]
  },
  {
   "cell_type": "code",
   "execution_count": 50,
   "id": "370128bf-34e4-4154-8d43-7fa569f1c3ef",
   "metadata": {},
   "outputs": [
    {
     "name": "stdout",
     "output_type": "stream",
     "text": [
      "REQUIRED_EXPERIENCE_MONTHS\n",
      "24.0     3615\n",
      "12.0     3614\n",
      "60.0     2516\n",
      "36.0     1578\n",
      "6.0      1527\n",
      "48.0      340\n",
      "84.0      157\n",
      "3.0       150\n",
      "72.0      136\n",
      "96.0      110\n",
      "120.0      70\n",
      "18.0       43\n",
      "4.0        35\n",
      "0.0        13\n",
      "1.0        11\n",
      "108.0       9\n",
      "5.0         7\n",
      "2.0         4\n",
      "144.0       3\n",
      "9.0         3\n",
      "30.0        2\n",
      "180.0       2\n",
      "10.0        2\n",
      "13.0        1\n",
      "40.0        1\n",
      "15.0        1\n",
      "25.0        1\n",
      "16.0        1\n",
      "Name: count, dtype: int64\n"
     ]
    }
   ],
   "source": [
    "experience_months_distribution = df['REQUIRED_EXPERIENCE_MONTHS'].value_counts()\n",
    "print(experience_months_distribution)\n"
   ]
  },
  {
   "cell_type": "markdown",
   "id": "f8015bf7-c709-4ecc-a8fc-59b760d86c73",
   "metadata": {},
   "source": [
    "## 43. Effect of REQUIRED_EXPERIENCE_MONTHS on decision outcomes"
   ]
  },
  {
   "cell_type": "code",
   "execution_count": 51,
   "id": "4bbb827f-a50c-446c-8d93-75d3cbef25d4",
   "metadata": {},
   "outputs": [
    {
     "name": "stdout",
     "output_type": "stream",
     "text": [
      "CASE_STATUS                 Certified-Expired    Denied  Withdrawn\n",
      "REQUIRED_EXPERIENCE_MONTHS                                        \n",
      "0.0                                  0.923077  0.076923        NaN\n",
      "1.0                                  0.909091  0.090909        NaN\n",
      "2.0                                  1.000000       NaN        NaN\n",
      "3.0                                  0.626667  0.320000   0.053333\n",
      "4.0                                  0.971429  0.028571        NaN\n",
      "5.0                                  0.857143       NaN   0.142857\n",
      "6.0                                  0.918140  0.032744   0.049116\n",
      "9.0                                  1.000000       NaN        NaN\n",
      "10.0                                 1.000000       NaN        NaN\n",
      "12.0                                 0.934698  0.024350   0.040952\n",
      "13.0                                      NaN  1.000000        NaN\n",
      "15.0                                 1.000000       NaN        NaN\n",
      "16.0                                      NaN  1.000000        NaN\n",
      "18.0                                 0.930233  0.023256   0.046512\n",
      "24.0                                 0.905118  0.034855   0.060028\n",
      "25.0                                 1.000000       NaN        NaN\n",
      "30.0                                 1.000000       NaN        NaN\n",
      "36.0                                 0.910646  0.024715   0.064639\n",
      "40.0                                 1.000000       NaN        NaN\n",
      "48.0                                 0.885294  0.073529   0.041176\n",
      "60.0                                 0.941971  0.020668   0.037361\n",
      "72.0                                 0.897059  0.058824   0.044118\n",
      "84.0                                 0.929936  0.031847   0.038217\n",
      "96.0                                 0.845455  0.081818   0.072727\n",
      "108.0                                0.777778  0.111111   0.111111\n",
      "120.0                                0.757143  0.100000   0.142857\n",
      "144.0                                1.000000       NaN        NaN\n",
      "180.0                                0.500000  0.500000        NaN\n"
     ]
    }
   ],
   "source": [
    "experience_months_status = df.groupby('REQUIRED_EXPERIENCE_MONTHS')['CASE_STATUS'].value_counts(normalize=True).unstack()\n",
    "print(experience_months_status)\n"
   ]
  },
  {
   "cell_type": "markdown",
   "id": "db4a02ac-e1d3-42bb-af44-47199e3d58d5",
   "metadata": {},
   "source": [
    "## 44. Distribution of FOREIGN_WORKER_EXP_WITH_EMPL"
   ]
  },
  {
   "cell_type": "code",
   "execution_count": 52,
   "id": "dda8ad1f-232a-4ed4-8060-46653f2c3528",
   "metadata": {},
   "outputs": [
    {
     "name": "stdout",
     "output_type": "stream",
     "text": [
      "FOREIGN_WORKER_EXP_WITH_EMPL\n",
      "N    19713\n",
      "Y       88\n",
      "Name: count, dtype: int64\n"
     ]
    }
   ],
   "source": [
    "foreign_worker_experience_distribution = df['FOREIGN_WORKER_EXP_WITH_EMPL'].value_counts()\n",
    "print(foreign_worker_experience_distribution)\n"
   ]
  },
  {
   "cell_type": "markdown",
   "id": "75f6ca1b-ea64-4e20-b068-471fa4ac7ef1",
   "metadata": {},
   "source": [
    "## 45. Correlation between FOREIGN_WORKER_EXP_WITH_EMPL and decision outcomes"
   ]
  },
  {
   "cell_type": "code",
   "execution_count": 53,
   "id": "5f9a49ff-940a-43fa-be30-07c186613231",
   "metadata": {},
   "outputs": [
    {
     "name": "stdout",
     "output_type": "stream",
     "text": [
      "CASE_STATUS                   Certified-Expired   Denied  Withdrawn\n",
      "FOREIGN_WORKER_EXP_WITH_EMPL                                       \n",
      "N                                      0.916958  0.02719   0.055851\n",
      "Y                                      0.443182  0.50000   0.056818\n"
     ]
    }
   ],
   "source": [
    "foreign_worker_exp_status = df.groupby('FOREIGN_WORKER_EXP_WITH_EMPL')['CASE_STATUS'].value_counts(normalize=True).unstack()\n",
    "print(foreign_worker_exp_status)\n"
   ]
  },
  {
   "cell_type": "markdown",
   "id": "a545eb18-d628-41be-86ca-24a96576023b",
   "metadata": {},
   "source": [
    "## 46. Difference in processing time based on FOREIGN_WORKER_EXP_WITH_EMPL"
   ]
  },
  {
   "cell_type": "code",
   "execution_count": 54,
   "id": "6672f981-334a-4643-a9f5-3b79d6c2d572",
   "metadata": {},
   "outputs": [
    {
     "name": "stdout",
     "output_type": "stream",
     "text": [
      "FOREIGN_WORKER_EXP_WITH_EMPL\n",
      "N    265.296708\n",
      "Y    333.750000\n",
      "Name: PROCESSING_TIME, dtype: float64\n"
     ]
    }
   ],
   "source": [
    "foreign_worker_exp_time = df.groupby('FOREIGN_WORKER_EXP_WITH_EMPL')['PROCESSING_TIME'].mean()\n",
    "print(foreign_worker_exp_time)\n"
   ]
  },
  {
   "cell_type": "markdown",
   "id": "ff6616f0-2889-4537-8cd3-8b50492b7915",
   "metadata": {},
   "source": [
    "## 47. Distribution of EMP_INFO_DECL_NAME"
   ]
  },
  {
   "cell_type": "code",
   "execution_count": 55,
   "id": "dfa012c7-ecd9-49d7-a4a1-585355622d51",
   "metadata": {},
   "outputs": [
    {
     "name": "stdout",
     "output_type": "stream",
     "text": [
      "EMP_INFO_DECL_NAME\n",
      "DanielSarahChongli  Van Den HandelJensenWu    1067\n",
      "Sheila R Heider                                681\n",
      "Amit  Jindal                                   514\n",
      "Theiny S Collins                               340\n",
      "Daniel  Van Den Handel                         253\n",
      "                                              ... \n",
      "Adnana  Huseinovic                               1\n",
      "Takaharu  Oyagi                                  1\n",
      "Lisa  Rathbun                                    1\n",
      "Lynnette  Ladd                                   1\n",
      "Fernando  Oliveira                               1\n",
      "Name: count, Length: 7832, dtype: int64\n"
     ]
    }
   ],
   "source": [
    "decl_name_distribution = df['EMP_INFO_DECL_NAME'].value_counts()\n",
    "print(decl_name_distribution)\n"
   ]
  },
  {
   "cell_type": "markdown",
   "id": "1413df44-8d15-4de9-8d81-298f2abc3beb",
   "metadata": {},
   "source": [
    "## 48. Correlation between EMP_INFO_DECL_NAME and decision outcomes"
   ]
  },
  {
   "cell_type": "code",
   "execution_count": 56,
   "id": "2044c113-0fa0-4aa6-82ad-0ca62746e913",
   "metadata": {},
   "outputs": [
    {
     "name": "stdout",
     "output_type": "stream",
     "text": [
      "CASE_STATUS         Certified-Expired  Denied  Withdrawn\n",
      "EMP_INFO_DECL_NAME                                      \n",
      "                                  NaN     1.0        NaN\n",
      "AARON  THOMAS                     1.0     NaN        NaN\n",
      "AARON J ROLLINS                   1.0     NaN        NaN\n",
      "ABBY  JONES                       1.0     NaN        NaN\n",
      "ABBY  WALKER                      1.0     NaN        NaN\n",
      "...                               ...     ...        ...\n",
      "nadeem  yousaf                    NaN     1.0        NaN\n",
      "rakesh  shah                      1.0     NaN        NaN\n",
      "sreedevi  jalagam                 NaN     1.0        NaN\n",
      "tomas  maciulis                   1.0     NaN        NaN\n",
      "vishnu  Kotta                     1.0     NaN        NaN\n",
      "\n",
      "[7832 rows x 3 columns]\n"
     ]
    }
   ],
   "source": [
    "decl_name_status = df.groupby('EMP_INFO_DECL_NAME')['CASE_STATUS'].value_counts(normalize=True).unstack()\n",
    "print(decl_name_status)\n"
   ]
  },
  {
   "cell_type": "markdown",
   "id": "9b2e0bf2-039c-401f-9ea4-140ef2990ba0",
   "metadata": {},
   "source": [
    "## 49. Difference in processing time based on who completed the employer information"
   ]
  },
  {
   "cell_type": "code",
   "execution_count": 57,
   "id": "6bf106d2-d2f4-445c-81fe-5e7c76263a28",
   "metadata": {},
   "outputs": [
    {
     "name": "stdout",
     "output_type": "stream",
     "text": [
      "EMP_INFO_DECL_NAME\n",
      "                      280.000000\n",
      "AARON  THOMAS         276.181818\n",
      "AARON J ROLLINS       258.000000\n",
      "ABBY  JONES           269.400000\n",
      "ABBY  WALKER          248.000000\n",
      "                        ...     \n",
      "nadeem  yousaf       2282.000000\n",
      "rakesh  shah          254.000000\n",
      "sreedevi  jalagam    2173.000000\n",
      "tomas  maciulis       259.000000\n",
      "vishnu  Kotta         245.000000\n",
      "Name: PROCESSING_TIME, Length: 7832, dtype: float64\n"
     ]
    }
   ],
   "source": [
    "decl_name_processing_time = df.groupby('EMP_INFO_DECL_NAME')['PROCESSING_TIME'].mean()\n",
    "print(decl_name_processing_time)\n"
   ]
  },
  {
   "cell_type": "markdown",
   "id": "31a3e2b9-136a-4e13-a5cd-419d75976eb4",
   "metadata": {},
   "source": [
    "## 50. Distribution of POSTED_NOTICE_AT_WORKSITE"
   ]
  },
  {
   "cell_type": "code",
   "execution_count": 58,
   "id": "860ff668-49cb-499c-857a-e8a52107acc0",
   "metadata": {},
   "outputs": [
    {
     "name": "stdout",
     "output_type": "stream",
     "text": [
      "POSTED_NOTICE_AT_WORKSITE\n",
      "Y    24743\n",
      "N       80\n",
      "Name: count, dtype: int64\n"
     ]
    }
   ],
   "source": [
    "posted_notice_distribution = df['POSTED_NOTICE_AT_WORKSITE'].value_counts()\n",
    "print(posted_notice_distribution)\n"
   ]
  },
  {
   "cell_type": "markdown",
   "id": "9aaa215f-e1c1-4413-afb2-ed2bcf38e523",
   "metadata": {},
   "source": [
    "## How many applications were there per CASE_STATUS category?"
   ]
  },
  {
   "cell_type": "code",
   "execution_count": 69,
   "id": "b25c8240-cdf5-4b91-99e6-9de7ade0f9dd",
   "metadata": {},
   "outputs": [
    {
     "data": {
      "image/png": "[encoded data removed]",
      "text/plain": [
       "<Figure size 640x480 with 1 Axes>"
      ]
     },
     "metadata": {},
     "output_type": "display_data"
    }
   ],
   "source": [
    "\n",
    "# Ensure CASE_STATUS is a category for better performance in plotting\n",
    "df['CASE_STATUS'] = df['CASE_STATUS'].astype('category')\n",
    "\n",
    "sns.countplot(data=df, x='CASE_STATUS')\n",
    "plt.title('Distribution of CASE_STATUS')\n",
    "plt.xticks(rotation=45)  # Rotate labels for better readability if needed\n",
    "plt.show()\n"
   ]
  },
  {
   "cell_type": "markdown",
   "id": "4f220a9b-794a-4970-b7cd-7616766558fe",
   "metadata": {},
   "source": [
    "## What is the distribution of processing times across all applications?"
   ]
  },
  {
   "cell_type": "code",
   "execution_count": 73,
   "id": "0b982b82-e097-44be-81f8-ced9732cfc12",
   "metadata": {},
   "outputs": [
    {
     "data": {
      "image/png": "[encoded data removed]",
      "text/plain": [
       "<Figure size 640x480 with 1 Axes>"
      ]
     },
     "metadata": {},
     "output_type": "display_data"
    }
   ],
   "source": [
    "plt.hist(df['PROCESSING_TIME'], bins=30, color='blue', alpha=0.7)\n",
    "plt.title('Histogram of Processing Times')\n",
    "plt.xlabel('Processing Time (days)')\n",
    "plt.ylabel('Frequency')\n",
    "plt.show()"
   ]
  },
  {
   "cell_type": "markdown",
   "id": "390849c6-7996-4d86-a856-e9a4ad82d22e",
   "metadata": {},
   "source": [
    "## What are the variations and outliers in wages across different industries?"
   ]
  },
  {
   "cell_type": "code",
   "execution_count": 75,
   "id": "b9fc1c69-a044-46f9-a816-c4768e10b9d9",
   "metadata": {},
   "outputs": [
    {
     "data": {
      "image/png": "[encoded data removed]",
      "text/plain": [
       "<Figure size 640x480 with 1 Axes>"
      ]
     },
     "metadata": {},
     "output_type": "display_data"
    }
   ],
   "source": [
    "sns.boxplot(x='NAICS_CODE', y='PW_WAGE', data=df)\n",
    "plt.xticks(rotation=90)\n",
    "plt.title('Wage Distribution by Industry')\n",
    "plt.show()"
   ]
  },
  {
   "cell_type": "markdown",
   "id": "eb1e0fba-c0f1-4868-851b-c41a248c9d8b",
   "metadata": {},
   "source": [
    "## How do wages vary according to the skill level required for the job?"
   ]
  },
  {
   "cell_type": "code",
   "execution_count": 76,
   "id": "485873f0-d44b-4962-a62c-210f95ac28bc",
   "metadata": {},
   "outputs": [
    {
     "data": {
      "image/png": "[encoded data removed]",
      "text/plain": [
       "<Figure size 640x480 with 1 Axes>"
      ]
     },
     "metadata": {},
     "output_type": "display_data"
    }
   ],
   "source": [
    "sns.violinplot(x='PW_SKILL_LEVEL', y='PW_WAGE', data=df)\n",
    "plt.title('Wage Distribution by Skill Level')\n",
    "plt.show()\n"
   ]
  },
  {
   "cell_type": "code",
   "execution_count": null,
   "id": "c6fb4d62-2114-487c-a9a1-50c012db2b1c",
   "metadata": {},
   "outputs": [],
   "source": []
  },
  {
   "cell_type": "markdown",
   "id": "70e503ef-dd1e-4314-b0b1-aaa29ebd2d9b",
   "metadata": {},
   "source": [
    "## Is there a correlation between the required experience in months and the offered wage?"
   ]
  },
  {
   "cell_type": "code",
   "execution_count": 77,
   "id": "b8a76970-ad56-4088-ab73-42a58ccf7587",
   "metadata": {},
   "outputs": [
    {
     "data": {
      "image/png": "[encoded data removed]",
      "text/plain": [
       "<Figure size 640x480 with 1 Axes>"
      ]
     },
     "metadata": {},
     "output_type": "display_data"
    }
   ],
   "source": [
    "plt.scatter(df['REQUIRED_EXPERIENCE_MONTHS'], df['PW_WAGE'])\n",
    "plt.title('Correlation between Experience Required and Wage')\n",
    "plt.xlabel('Required Experience (months)')\n",
    "plt.ylabel('Wage')\n",
    "plt.show()\n"
   ]
  },
  {
   "cell_type": "markdown",
   "id": "ef6bf0fb-a379-4b47-ab79-aaf14fff82e0",
   "metadata": {},
   "source": [
    "## How is the wage data skewed?"
   ]
  },
  {
   "cell_type": "code",
   "execution_count": 78,
   "id": "9138e90b-5a50-4749-9262-004f301a109d",
   "metadata": {},
   "outputs": [
    {
     "data": {
      "image/png": "[encoded data removed]",
      "text/plain": [
       "<Figure size 640x480 with 1 Axes>"
      ]
     },
     "metadata": {},
     "output_type": "display_data"
    }
   ],
   "source": [
    "sns.kdeplot(df['PW_WAGE'], fill=True)\n",
    "plt.title('Density Plot of Wage Showing Skewness')\n",
    "plt.show()\n"
   ]
  },
  {
   "cell_type": "code",
   "execution_count": null,
   "id": "e8393a0e-213f-4659-8fcd-31ff734d28e8",
   "metadata": {},
   "outputs": [],
   "source": []
  },
  {
   "cell_type": "code",
   "execution_count": null,
   "id": "69fe8310-ceac-4579-b5e7-908bc7cf067d",
   "metadata": {},
   "outputs": [],
   "source": []
  },
  {
   "cell_type": "code",
   "execution_count": null,
   "id": "728bd0ef-9205-4a8a-aa82-03810d40af6a",
   "metadata": {},
   "outputs": [],
   "source": []
  },
  {
   "cell_type": "code",
   "execution_count": 22,
   "id": "179ef220-6c94-4cc5-affd-de19928041a6",
   "metadata": {},
   "outputs": [],
   "source": [
    "\r\n",
    "\n",
    "\n",
    "columns_to_keep = [\n",
    "    'CASE_STATUS', 'RECEIVED_DATE', 'DECISION_DATE', 'COUNTRY_OF_CITIZENSHIP', \n",
    "    'PW_WAGE', 'PW_UNIT_OF_PAY', 'NAICS_CODE', 'PW_WAGE_SOURCE', 'MINIMUM_EDUCATION', \n",
    "    'REQUIRED_EXPERIENCE', 'REQUIRED_TRAINING', 'REQUIRED_TRAINING_MONTHS', \n",
    "    'FOREIGN_LANGUAGE_REQUIRED', 'CLASS_OF_ADMISSION', 'LAYOFF_IN_PAST_SIX_MONTHS', \n",
    "    'JOB_TITLE', 'ACCEPT_ALT_COMBO', 'FOREIGN_WORKER_CURR_EMPLOYED', \n",
    "    'EMP_RECEIVED_PAYMENT', 'FOREIGN_WORKER_EDUCATION', 'EMPLOYER_COMPLETED_APPLICATION', \n",
    "    'PW_SKILL_LEVEL', 'REQUIRED_EXPERIENCE_MONTHS', 'FOREIGN_WORKER_EXP_WITH_EMPL', \n",
    "    'EMP_INFO_DECL_NAME', 'POSTED_NOTICE_AT_WORKSITE'\n",
    "]\n",
    "\n",
    "# Load the d \n",
    "set with only the relevant columns\n",
    "d\n",
    " = pd.read_excel('D:/UCO_CourseWork/Programing for analytics/ProjectProposal/25___perm.xlsx', usecols=columns_to_keep)"
   ]
  },
  {
   "cell_type": "code",
   "execution_count": 25,
   "id": "d4714d45-f44e-4a56-9542-d579b8331ef7",
   "metadata": {},
   "outputs": [],
   "source": [
    "# Convert date columns to datetime format\n",
    "df['RECEIVED_DATE'] = pd.to_datetime(df['RECEIVED_DATE'])\n",
    "df['DECISION_DATE'] = pd.to_datetime(df['DECISION_DATE'])"
   ]
  },
  {
   "cell_type": "code",
   "execution_count": 59,
   "id": "69e256e8-f873-40df-919d-1c95ad220be2",
   "metadata": {},
   "outputs": [
    {
     "data": {
      "text/plain": [
       "CASE_NUMBER           0\n",
       "CASE_STATUS           0\n",
       "RECEIVED_DATE         0\n",
       "DECISION_DATE         0\n",
       "REFILE                0\n",
       "                     ..\n",
       "EMP_INFO_DECL_NAME    1\n",
       "EMP_DECL_TITLE        2\n",
       "RECEIVED_YEAR         0\n",
       "DECISION_YEAR         0\n",
       "PROCESSING_TIME       0\n",
       "Length: 157, dtype: int64"
      ]
     },
     "execution_count": 59,
     "metadata": {},
     "output_type": "execute_result"
    }
   ],
   "source": [
    "# Display the first few rows of the cleaned dfframe and the summary of null values\n",
    "# df.head\n",
    "df.isnull().sum()"
   ]
  },
  {
   "cell_type": "code",
   "execution_count": 60,
   "id": "79ca9cb4-6500-492a-a37c-262f16e44405",
   "metadata": {},
   "outputs": [
    {
     "name": "stdout",
     "output_type": "stream",
     "text": [
      "CASE_NUMBER           0\n",
      "CASE_STATUS           0\n",
      "RECEIVED_DATE         0\n",
      "DECISION_DATE         0\n",
      "REFILE                0\n",
      "                     ..\n",
      "EMP_INFO_DECL_NAME    1\n",
      "EMP_DECL_TITLE        2\n",
      "RECEIVED_YEAR         0\n",
      "DECISION_YEAR         0\n",
      "PROCESSING_TIME       0\n",
      "Length: 157, dtype: int64\n"
     ]
    }
   ],
   "source": [
    "# Check for any columns with high percentages of missing values and summarize the dfset\n",
    "missing_values_summary = df.isnull().sum()\n",
    "print(missing_values_summary)"
   ]
  },
  {
   "cell_type": "code",
   "execution_count": 61,
   "id": "ff7b8e96-6579-4ee6-af71-ba207df46a57",
   "metadata": {},
   "outputs": [
    {
     "data": {
      "text/plain": [
       "CASE_NUMBER                   object\n",
       "CASE_STATUS                   object\n",
       "RECEIVED_DATE         datetime64[ns]\n",
       "DECISION_DATE         datetime64[ns]\n",
       "REFILE                        object\n",
       "                           ...      \n",
       "EMP_INFO_DECL_NAME            object\n",
       "EMP_DECL_TITLE                object\n",
       "RECEIVED_YEAR                  int32\n",
       "DECISION_YEAR                  int32\n",
       "PROCESSING_TIME                int32\n",
       "Length: 157, dtype: object"
      ]
     },
     "execution_count": 61,
     "metadata": {},
     "output_type": "execute_result"
    }
   ],
   "source": [
    "df_types = df.dtypes\n",
    "df_types"
   ]
  },
  {
   "cell_type": "code",
   "execution_count": 62,
   "id": "50d4f95a-7868-44a0-8194-b0e5b2aee42a",
   "metadata": {},
   "outputs": [
    {
     "data": {
      "text/html": [
       "<div>\n",
       "<style scoped>\n",
       "    .dataframe tbody tr th:only-of-type {\n",
       "        vertical-align: middle;\n",
       "    }\n",
       "\n",
       "    .dataframe tbody tr th {\n",
       "        vertical-align: top;\n",
       "    }\n",
       "\n",
       "    .dataframe thead th {\n",
       "        text-align: right;\n",
       "    }\n",
       "</style>\n",
       "<table border=\"1\" class=\"dataframe\">\n",
       "  <thead>\n",
       "    <tr style=\"text-align: right;\">\n",
       "      <th></th>\n",
       "      <th>CASE_NUMBER</th>\n",
       "      <th>CASE_STATUS</th>\n",
       "      <th>RECEIVED_DATE</th>\n",
       "      <th>DECISION_DATE</th>\n",
       "      <th>REFILE</th>\n",
       "      <th>ORIG_FILE_DATE</th>\n",
       "      <th>PREVIOUS_SWA_CASE_NUMBER_STATE</th>\n",
       "      <th>SCHD_A_SHEEPHERDER</th>\n",
       "      <th>EMPLOYER_NAME</th>\n",
       "      <th>EMPLOYER_ADDRESS_1</th>\n",
       "      <th>...</th>\n",
       "      <th>FOREIGN_WORKER_CURR_EMPLOYED</th>\n",
       "      <th>EMPLOYER_COMPLETED_APPLICATION</th>\n",
       "      <th>PREPARER_NAME</th>\n",
       "      <th>PREPARER_TITLE</th>\n",
       "      <th>PREPARER_EMAIL</th>\n",
       "      <th>EMP_INFO_DECL_NAME</th>\n",
       "      <th>EMP_DECL_TITLE</th>\n",
       "      <th>RECEIVED_YEAR</th>\n",
       "      <th>DECISION_YEAR</th>\n",
       "      <th>PROCESSING_TIME</th>\n",
       "    </tr>\n",
       "  </thead>\n",
       "  <tbody>\n",
       "    <tr>\n",
       "      <th>0</th>\n",
       "      <td>A-22262-24149</td>\n",
       "      <td>Withdrawn</td>\n",
       "      <td>2022-10-02</td>\n",
       "      <td>2022-10-02</td>\n",
       "      <td>N</td>\n",
       "      <td>NaT</td>\n",
       "      <td>NaN</td>\n",
       "      <td>N</td>\n",
       "      <td>Westgate Shellworld Inc</td>\n",
       "      <td>7012 Muncipal Drive</td>\n",
       "      <td>...</td>\n",
       "      <td>N</td>\n",
       "      <td>N</td>\n",
       "      <td>FRANCES  DELAFUENTE</td>\n",
       "      <td>ATTORNEY</td>\n",
       "      <td>MICHELLE@DLGPA.COM</td>\n",
       "      <td>SAMIA  AHMED</td>\n",
       "      <td>OWNER</td>\n",
       "      <td>2022</td>\n",
       "      <td>2022</td>\n",
       "      <td>0</td>\n",
       "    </tr>\n",
       "    <tr>\n",
       "      <th>1</th>\n",
       "      <td>A-21187-12839</td>\n",
       "      <td>Certified-Expired</td>\n",
       "      <td>2022-02-03</td>\n",
       "      <td>2022-10-03</td>\n",
       "      <td>N</td>\n",
       "      <td>NaT</td>\n",
       "      <td>NaN</td>\n",
       "      <td>N</td>\n",
       "      <td>NIKE, INC.</td>\n",
       "      <td>ONE BOWERMAN DRIVE</td>\n",
       "      <td>...</td>\n",
       "      <td>Y</td>\n",
       "      <td>N</td>\n",
       "      <td>Chad T Li</td>\n",
       "      <td>Associate Attorney</td>\n",
       "      <td>chad.li@BAL.com</td>\n",
       "      <td>Diana  Loveless</td>\n",
       "      <td>Immigration Program Consultant</td>\n",
       "      <td>2022</td>\n",
       "      <td>2022</td>\n",
       "      <td>242</td>\n",
       "    </tr>\n",
       "    <tr>\n",
       "      <th>2</th>\n",
       "      <td>A-21327-77110</td>\n",
       "      <td>Denied</td>\n",
       "      <td>2021-11-30</td>\n",
       "      <td>2022-10-03</td>\n",
       "      <td>N</td>\n",
       "      <td>NaT</td>\n",
       "      <td>NaN</td>\n",
       "      <td>N</td>\n",
       "      <td>RIVERY TECHNOLOGIES INC</td>\n",
       "      <td>500 7TH AVENUE</td>\n",
       "      <td>...</td>\n",
       "      <td>Y</td>\n",
       "      <td>N</td>\n",
       "      <td>Rakhel S Milstein</td>\n",
       "      <td>Attorney</td>\n",
       "      <td>rsm@milsteinlg.com</td>\n",
       "      <td>Aviv  Noy</td>\n",
       "      <td>CoFounder</td>\n",
       "      <td>2021</td>\n",
       "      <td>2022</td>\n",
       "      <td>307</td>\n",
       "    </tr>\n",
       "    <tr>\n",
       "      <th>3</th>\n",
       "      <td>A-21342-83195</td>\n",
       "      <td>Certified-Expired</td>\n",
       "      <td>2022-02-03</td>\n",
       "      <td>2022-10-03</td>\n",
       "      <td>N</td>\n",
       "      <td>NaT</td>\n",
       "      <td>NaN</td>\n",
       "      <td>N</td>\n",
       "      <td>ESRI INC.</td>\n",
       "      <td>380 NEW YORK ST.</td>\n",
       "      <td>...</td>\n",
       "      <td>Y</td>\n",
       "      <td>N</td>\n",
       "      <td>Jessica L Cross</td>\n",
       "      <td>Attorney</td>\n",
       "      <td>jessica.cross@ogletree.com</td>\n",
       "      <td>Vinesh  Patel</td>\n",
       "      <td>Global Mobility Coordinator</td>\n",
       "      <td>2022</td>\n",
       "      <td>2022</td>\n",
       "      <td>242</td>\n",
       "    </tr>\n",
       "    <tr>\n",
       "      <th>4</th>\n",
       "      <td>A-21349-86725</td>\n",
       "      <td>Certified-Expired</td>\n",
       "      <td>2022-02-03</td>\n",
       "      <td>2022-10-03</td>\n",
       "      <td>N</td>\n",
       "      <td>NaT</td>\n",
       "      <td>NaN</td>\n",
       "      <td>N</td>\n",
       "      <td>INGURAN LLC DBA STGENETICS</td>\n",
       "      <td>22575 STATE HWY 6 SOUTH</td>\n",
       "      <td>...</td>\n",
       "      <td>Y</td>\n",
       "      <td>N</td>\n",
       "      <td>Beatriz  Trillos Ballerini</td>\n",
       "      <td>Attorney</td>\n",
       "      <td>perm@tbvisas.com</td>\n",
       "      <td>Steven  Sfamenos</td>\n",
       "      <td>Human Resources Director</td>\n",
       "      <td>2022</td>\n",
       "      <td>2022</td>\n",
       "      <td>242</td>\n",
       "    </tr>\n",
       "  </tbody>\n",
       "</table>\n",
       "<p>5 rows × 157 columns</p>\n",
       "</div>"
      ],
      "text/plain": [
       "     CASE_NUMBER        CASE_STATUS RECEIVED_DATE DECISION_DATE REFILE   \n",
       "0  A-22262-24149          Withdrawn    2022-10-02    2022-10-02      N  \\\n",
       "1  A-21187-12839  Certified-Expired    2022-02-03    2022-10-03      N   \n",
       "2  A-21327-77110             Denied    2021-11-30    2022-10-03      N   \n",
       "3  A-21342-83195  Certified-Expired    2022-02-03    2022-10-03      N   \n",
       "4  A-21349-86725  Certified-Expired    2022-02-03    2022-10-03      N   \n",
       "\n",
       "  ORIG_FILE_DATE PREVIOUS_SWA_CASE_NUMBER_STATE SCHD_A_SHEEPHERDER   \n",
       "0            NaT                            NaN                  N  \\\n",
       "1            NaT                            NaN                  N   \n",
       "2            NaT                            NaN                  N   \n",
       "3            NaT                            NaN                  N   \n",
       "4            NaT                            NaN                  N   \n",
       "\n",
       "                EMPLOYER_NAME       EMPLOYER_ADDRESS_1  ...   \n",
       "0     Westgate Shellworld Inc      7012 Muncipal Drive  ...  \\\n",
       "1                  NIKE, INC.       ONE BOWERMAN DRIVE  ...   \n",
       "2     RIVERY TECHNOLOGIES INC           500 7TH AVENUE  ...   \n",
       "3                   ESRI INC.         380 NEW YORK ST.  ...   \n",
       "4  INGURAN LLC DBA STGENETICS  22575 STATE HWY 6 SOUTH  ...   \n",
       "\n",
       "  FOREIGN_WORKER_CURR_EMPLOYED EMPLOYER_COMPLETED_APPLICATION   \n",
       "0                            N                              N  \\\n",
       "1                            Y                              N   \n",
       "2                            Y                              N   \n",
       "3                            Y                              N   \n",
       "4                            Y                              N   \n",
       "\n",
       "                PREPARER_NAME      PREPARER_TITLE              PREPARER_EMAIL   \n",
       "0         FRANCES  DELAFUENTE            ATTORNEY          MICHELLE@DLGPA.COM  \\\n",
       "1                   Chad T Li  Associate Attorney             chad.li@BAL.com   \n",
       "2           Rakhel S Milstein            Attorney          rsm@milsteinlg.com   \n",
       "3             Jessica L Cross            Attorney  jessica.cross@ogletree.com   \n",
       "4  Beatriz  Trillos Ballerini            Attorney            perm@tbvisas.com   \n",
       "\n",
       "  EMP_INFO_DECL_NAME                  EMP_DECL_TITLE  RECEIVED_YEAR   \n",
       "0       SAMIA  AHMED                           OWNER           2022  \\\n",
       "1    Diana  Loveless  Immigration Program Consultant           2022   \n",
       "2          Aviv  Noy                       CoFounder           2021   \n",
       "3      Vinesh  Patel     Global Mobility Coordinator           2022   \n",
       "4   Steven  Sfamenos        Human Resources Director           2022   \n",
       "\n",
       "   DECISION_YEAR PROCESSING_TIME  \n",
       "0           2022               0  \n",
       "1           2022             242  \n",
       "2           2022             307  \n",
       "3           2022             242  \n",
       "4           2022             242  \n",
       "\n",
       "[5 rows x 157 columns]"
      ]
     },
     "execution_count": 62,
     "metadata": {},
     "output_type": "execute_result"
    }
   ],
   "source": [
    "df_head = df.head()\n",
    "\n",
    "df_head"
   ]
  }
 ],
 "metadata": {
  "kernelspec": {
   "display_name": "Python 3 (ipykernel)",
   "language": "python",
   "name": "python3"
  },
  "language_info": {
   "codemirror_mode": {
    "name": "ipython",
    "version": 3
   },
   "file_extension": ".py",
   "mimetype": "text/x-python",
   "name": "python",
   "nbconvert_exporter": "python",
   "pygments_lexer": "ipython3",
   "version": "3.11.2"
  }
 },
 "nbformat": 4,
 "nbformat_minor": 5
}
